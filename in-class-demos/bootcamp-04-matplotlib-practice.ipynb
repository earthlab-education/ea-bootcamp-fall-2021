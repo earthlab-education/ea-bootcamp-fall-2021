{
 "cells": [
  {
   "cell_type": "markdown",
   "metadata": {},
   "source": [
    "<img style=\"float: left;\" src=\"../earth-lab-logo-rgb.png\" width=\"150\" height=\"150\" />\n",
    "\n",
    "# Earth Analytics Education"
   ]
  },
  {
   "cell_type": "markdown",
   "metadata": {},
   "source": [
    "This week you will experiment with plotting using Matplotlib. \n",
    "Play around with plot settings in each of the challenges below. \n",
    "Modify colors, marker types titles and labels!\n",
    "\n",
    "Have fun!\n"
   ]
  },
  {
   "cell_type": "code",
   "execution_count": null,
   "metadata": {},
   "outputs": [],
   "source": [
    "import matplotlib.pyplot as plt\n",
    "# Import pandas with alias pd\n",
    "import pandas as pd"
   ]
  },
  {
   "cell_type": "markdown",
   "metadata": {},
   "source": [
    "## Challenge 1: Create dataframe with average monthly precip and 2013 monthly precip\n",
    "\n",
    "Data source <a href=\"https://psl.noaa.gov/boulder/Boulder.mm.precip.html#Latest\" target=\"_blank\">NOAA Physical Sciences Laboratory</a>."
   ]
  },
  {
   "cell_type": "code",
   "execution_count": null,
   "metadata": {},
   "outputs": [],
   "source": [
    "# Average monthly precip for Boulder, CO\n",
    "monthly_precip = pd.DataFrame(columns=[\"month\", \"ave_precip_in\",\"precip_2013_in\"],\n",
    "                                  data=[\n",
    "                                       [\"Jan\", 0.70, 0.27],  [\"Feb\", 0.75, 1.13],\n",
    "                                       [\"Mar\", 1.85, 1.72],  [\"Apr\", 2.93, 4.14],\n",
    "                                       [\"May\", 3.05, 2.66],  [\"June\", 2.02, 0.61],\n",
    "                                       [\"July\", 1.93, 1.03], [\"Aug\", 1.62, 1.4],\n",
    "                                       [\"Sept\", 1.84, 18.6], [\"Oct\", 1.31, 2.24],\n",
    "                                       [\"Nov\", 1.39, 0.29],  [\"Dec\", 0.84, 0.5]\n",
    "])\n",
    "\n",
    "# Notice the nicely formatted output without use of print\n",
    "monthly_precip"
   ]
  },
  {
   "cell_type": "markdown",
   "metadata": {},
   "source": [
    "## Challenge 2: Modify the Line Plot below\n",
    "\n",
    "* Make your figure size: width = 10, height = 6\n",
    "* Add a multi-line title to your plot\n",
    "* Label your x and y axes\n",
    "* Add 2013 precipitation to your plot\n",
    "* Set the marker to 'o' highlight individual precipitation values for average precip"
   ]
  },
  {
   "cell_type": "code",
   "execution_count": null,
   "metadata": {},
   "outputs": [],
   "source": [
    "f, ax = plt.subplots()\n",
    "ax.plot(monthly_precip.month,\n",
    "        monthly_precip.ave_precip_in)\n",
    "\n",
    "plt.show()"
   ]
  },
  {
   "cell_type": "code",
   "execution_count": null,
   "metadata": {},
   "outputs": [],
   "source": []
  },
  {
   "cell_type": "markdown",
   "metadata": {},
   "source": [
    "## Challenge 3: Create a bar chart\n",
    "\n",
    "* Create a bar chart for 2013 monthly precipitation\n",
    "* Add a plot title\n",
    "* Label your x and y axes\n",
    "* Make the color of your bar chart magenta\n",
    "* Set the edge color to dark blue"
   ]
  },
  {
   "cell_type": "code",
   "execution_count": null,
   "metadata": {},
   "outputs": [],
   "source": []
  },
  {
   "cell_type": "markdown",
   "metadata": {},
   "source": [
    "## Challenge 4: Create a Scatter Plot\n",
    "\n",
    "* Make a scatter plot of monthly precipitation for 2013\n",
    "* Change the marker to square pixels (or any other marker type that you wish!)\n",
    "* Set the colormap to 'PuBuGn'\n",
    "* Add gray (or some other color) edge color to your plot markers\n",
    " "
   ]
  },
  {
   "cell_type": "code",
   "execution_count": null,
   "metadata": {},
   "outputs": [],
   "source": []
  },
  {
   "cell_type": "markdown",
   "metadata": {},
   "source": [
    "## Challenge 5: Create figure with 2 subplots containing bar charts\n",
    "\n",
    "* Add a title to your figure and set the *fontsize* to 16\n",
    "* Create a figure with two bar charts stacked on top of each other\n",
    "* Change your figure size to width 12 and height 12\n",
    "* Display average monthly precipitation in the top bar chart in *darkgoldenrod*\n",
    "* Display monthly precipitation values for 2013 in the lower bar chart in *midnightblue* and set the transparency to 0.7\n",
    "* Add titles and axis labels to both plots\n",
    "* Save your plot\n"
   ]
  },
  {
   "cell_type": "code",
   "execution_count": null,
   "metadata": {},
   "outputs": [],
   "source": []
  }
 ],
 "metadata": {
  "kernelspec": {
   "display_name": "Python 3",
   "language": "python",
   "name": "python3"
  },
  "language_info": {
   "codemirror_mode": {
    "name": "ipython",
    "version": 3
   },
   "file_extension": ".py",
   "mimetype": "text/x-python",
   "name": "python",
   "nbconvert_exporter": "python",
   "pygments_lexer": "ipython3",
   "version": "3.8.5"
  },
  "toc": {
   "base_numbering": 1,
   "nav_menu": {},
   "number_sections": true,
   "sideBar": true,
   "skip_h1_title": true,
   "title_cell": "Table of Contents",
   "title_sidebar": "Contents",
   "toc_cell": false,
   "toc_position": {},
   "toc_section_display": true,
   "toc_window_display": false
  }
 },
 "nbformat": 4,
 "nbformat_minor": 4
}
