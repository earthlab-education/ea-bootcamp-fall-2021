{
 "cells": [
  {
   "cell_type": "markdown",
   "metadata": {},
   "source": [
    "## Week 10 Review Session"
   ]
  },
  {
   "cell_type": "code",
   "execution_count": null,
   "metadata": {},
   "outputs": [],
   "source": [
    "import os\n",
    "from glob import glob\n",
    "import operator\n",
    "\n",
    "import pandas as pd\n",
    "import numpy as np\n",
    "import matplotlib.pyplot as plt\n",
    "import earthpy as et"
   ]
  },
  {
   "cell_type": "code",
   "execution_count": null,
   "metadata": {},
   "outputs": [],
   "source": [
    "# Set up data directory and set it as working directory\n",
    "data_dir = os.path.join(et.io.HOME,'earth-analytics','data')\n",
    "if os.path.exists(data_dir):\n",
    "    os.chdir(data_dir)\n",
    "else:\n",
    "    print(\"Directory did not exist. Making data directory and setting working directory: \", data_path)\n",
    "    os.makedirs(data_dir)\n",
    "    os.chdir(data_dir)"
   ]
  },
  {
   "cell_type": "code",
   "execution_count": null,
   "metadata": {},
   "outputs": [],
   "source": [
    "# Download California Fires Dataset\n",
    "download_url = 'https://ndownloader.figshare.com/files/25033508'\n",
    "et.data.get_data(url=download_url)"
   ]
  },
  {
   "cell_type": "markdown",
   "metadata": {},
   "source": [
    "### Challenge 1: Calculate the number of fires between 1992-2015 greater than 100 acres"
   ]
  },
  {
   "cell_type": "code",
   "execution_count": null,
   "metadata": {},
   "outputs": [],
   "source": [
    "file_path = os.path.join(data_dir,\"earthpy-downloads\",\"ca-fires-yearly\",\"1992-2015-gt-100-acres\",\"*\")\n",
    "file_list = glob(file_path)\n",
    "\n",
    "num_fires = 0\n",
    "for f in file_list:\n",
    "    df = pd.read_csv(f)\n",
    "    num_fires += df.shape[0]\n",
    "    \n",
    "num_fires"
   ]
  },
  {
   "cell_type": "markdown",
   "metadata": {},
   "source": [
    "### Challenge 2:  Concatenate annual files into single dataframe"
   ]
  },
  {
   "cell_type": "code",
   "execution_count": null,
   "metadata": {},
   "outputs": [],
   "source": [
    "file_path = os.path.join(data_dir,\"earthpy-downloads\",\"ca-fires-yearly\",\"1992-2015-gt-100-acres\",\"*\")\n",
    "file_list = glob(file_path)\n",
    "\n",
    "annual_dfs = []\n",
    "for path in file_list:\n",
    "    df = pd.read_csv(path)\n",
    "    df['year'] = int(path[-8:-4])\n",
    "    annual_dfs.append(df)\n",
    "    \n",
    "all_fires = pd.concat(annual_dfs)\n",
    "\n",
    "all_fires"
   ]
  },
  {
   "cell_type": "markdown",
   "metadata": {},
   "source": [
    "### Challenge 3: Add human ignition flag and season fields"
   ]
  },
  {
   "cell_type": "code",
   "execution_count": null,
   "metadata": {},
   "outputs": [],
   "source": [
    "human_causes = [\"Arson\", \"Smoking\", \"Equipment Use\", \"Campfire\", \"Powerline\", \"Railroad\", \"Debris Burning\"]\n",
    "\n",
    "# Set the human_ignition flag based on human_causes list\n",
    "all_fires['human_ignition'] = all_fires['cause'].apply(lambda x: True if x in human_causes else False)\n",
    "all_fires.loc[all_fires.month.isin([\"March\", \"April\", \"May\"]), 'season'] = 'Spring'\n",
    "all_fires.loc[all_fires.month.isin([\"June\", \"July\", \"August\"]), 'season'] = 'Summer'\n",
    "all_fires.loc[all_fires.month.isin([\"September\", \"October\", \"November\"]), 'season'] = 'Fall'\n",
    "all_fires.loc[all_fires.month.isin([\"December\", \"January\", \"February\"]), 'season'] = 'winter'\n",
    "\n",
    "all_fires"
   ]
  },
  {
   "cell_type": "markdown",
   "metadata": {},
   "source": [
    "### Challenge 4: Making a copy of a dataframe versus a slice"
   ]
  },
  {
   "cell_type": "code",
   "execution_count": null,
   "metadata": {},
   "outputs": [],
   "source": [
    "print(all_fires.shape)\n",
    "\n",
    "# Make a copy with just the rows flagged as human_ignition == True\n",
    "human_fires = all_fires.loc[all_fires.human_ignition].copy()\n",
    "print(human_fires.shape)"
   ]
  },
  {
   "cell_type": "markdown",
   "metadata": {},
   "source": [
    "### Challenge 5: looping through nested directories"
   ]
  },
  {
   "cell_type": "code",
   "execution_count": null,
   "metadata": {},
   "outputs": [],
   "source": [
    "data_set_paths = glob(os.path.join(data_dir,\"earthpy-downloads\",\"ca-fires-yearly\",\"*\"))\n",
    "data_set_paths\n",
    "\n",
    "ca_fires_dfs = []\n",
    "for path in data_set_paths:\n",
    "    dataset = os.path.basename(path)\n",
    "    file_list = glob(os.path.join(path,'*.csv'))\n",
    "    file_list.sort()\n",
    "    file_names = []\n",
    "    years = []\n",
    "    rows = []\n",
    "    cols = []\n",
    "    for file in file_list:\n",
    "        df = pd.read_csv(file)\n",
    "        rows.append(df.shape[0])\n",
    "        cols.append(df.shape[1])\n",
    "        file_name = os.path.basename(file)\n",
    "        file_names.append(file_name)\n",
    "        year = int(file_name[-8:-4])\n",
    "        years.append(year)\n",
    "    data = {'file_name' : file_names,\n",
    "            'year' : years,\n",
    "            'file_rows' : rows,\n",
    "            'file_columns' : cols\n",
    "           }\n",
    "    list_df = pd.DataFrame(data, columns = ['file_name', 'year', 'file_rows', 'file_columns'])\n",
    "    list_df['dataset'] = dataset\n",
    "    ca_fires_dfs.append(list_df)\n",
    "\n",
    "ca_fires_catalog = pd.concat(ca_fires_dfs)\n",
    "ca_fires_catalog"
   ]
  },
  {
   "cell_type": "markdown",
   "metadata": {},
   "source": [
    "### Challenge 6: Convert challenge 5 into a function"
   ]
  },
  {
   "cell_type": "code",
   "execution_count": null,
   "metadata": {},
   "outputs": [],
   "source": [
    "def create_dataset_catalog(data_folder, year_index):\n",
    "    \"\"\"Loop through directories in data_folder, creating a list of \n",
    "    files contained in each dataset (directory name), the year, and\n",
    "    size dimensions for each file.\n",
    "    \n",
    "    Parameters\n",
    "    ----------\n",
    "    data_folder : str\n",
    "        Parent path for data directories.\n",
    "    year_index : tuple of int\n",
    "        two integer values indicating start and ending index for year\n",
    "        in the filename for each datafile.\n",
    "\n",
    "    Returns\n",
    "    ------\n",
    "    ca_fires_df : numpy array\n",
    "        Mean values of input array in inches.\n",
    "    \"\"\"    \n",
    "    \n",
    "    data_set_paths = glob(os.path.join(data_folder,\"*\"))\n",
    "    all_dfs = []\n",
    "    for path in data_set_paths:\n",
    "        dataset = os.path.basename(path)\n",
    "        file_list = glob(os.path.join(path,'*.csv'))\n",
    "        file_list.sort()\n",
    "        file_names = []\n",
    "        years = []\n",
    "        rows = []\n",
    "        cols = []\n",
    "        for file in file_list:\n",
    "            df = pd.read_csv(file)\n",
    "            rows.append(df.shape[0])\n",
    "            cols.append(df.shape[1])\n",
    "            file_name = os.path.basename(file)\n",
    "            file_names.append(file_name)\n",
    "            year = int(file_name[-8:-4])\n",
    "            years.append(year)\n",
    "        data = {'file_name' : file_names,\n",
    "                'year' : years,\n",
    "                'file_rows' : rows,\n",
    "                'file_columns' : cols\n",
    "               }\n",
    "        single_cat_df = pd.DataFrame(data, columns = ['file_name', 'year', 'file_rows', 'file_columns'])\n",
    "        single_cat_df['dataset'] = dataset\n",
    "        all_dfs.append(single_cat_df)\n",
    "    catalog_df = pd.concat(all_dfs)\n",
    "    return catalog_df     \n"
   ]
  },
  {
   "cell_type": "markdown",
   "metadata": {},
   "source": [
    "### Challenge 7: Call create_dataset_catalog"
   ]
  },
  {
   "cell_type": "code",
   "execution_count": null,
   "metadata": {},
   "outputs": [],
   "source": [
    "folder = os.path.join(data_dir,\"earthpy-downloads\",\"ca-fires-yearly\")\n",
    "fire_catalog = create_dataset_catalog(folder, (-8,-4))\n",
    "fire_catalog"
   ]
  },
  {
   "cell_type": "markdown",
   "metadata": {},
   "source": [
    "### Challenge 8: Call help for catalog function"
   ]
  },
  {
   "cell_type": "code",
   "execution_count": null,
   "metadata": {},
   "outputs": [],
   "source": [
    "help(create_dataset_catalog)"
   ]
  },
  {
   "cell_type": "markdown",
   "metadata": {},
   "source": [
    "### Challenge 9: plot fires by cause (homework 8 challenge 10 revisited)"
   ]
  },
  {
   "cell_type": "code",
   "execution_count": null,
   "metadata": {},
   "outputs": [],
   "source": [
    "fire_subset = all_fires.loc[(all_fires.fire_size_class == 'G') & (all_fires.year >= 2010)]\n",
    "\n",
    "human_causes = [\"Arson\", \"Smoking\", \"Equipment Use\", \"Campfire\", \"Powerline\", \"Railroad\", \n",
    "                \"Debris Burning\", \"Structure\"]\n",
    "fig, ax = plt.subplots(figsize = (11,8))\n",
    "\n",
    "for cause, df_subset in fire_subset.groupby(\"cause\"):\n",
    "    if cause in human_causes:\n",
    "        ax.scatter(df_subset.season,\n",
    "                   df_subset.fire_size,\n",
    "                   label=cause,\n",
    "                   color='red')\n",
    "    else:\n",
    "        ax.scatter(df_subset.season,\n",
    "                   df_subset.fire_size,\n",
    "                   label=cause,\n",
    "                   color='blue')\n",
    "ax.legend()\n",
    "ax.set(title=\"Seasonal Analysis of Cause versus Fire Size 2010-2015\",\n",
    "       xlabel=\"Season\",\n",
    "       ylabel=\"Fire Size (acres)\")\n",
    "\n",
    "plt.tight_layout()"
   ]
  },
  {
   "cell_type": "code",
   "execution_count": null,
   "metadata": {},
   "outputs": [],
   "source": []
  }
 ],
 "metadata": {
  "kernelspec": {
   "display_name": "Python 3",
   "language": "python",
   "name": "python3"
  },
  "language_info": {
   "codemirror_mode": {
    "name": "ipython",
    "version": 3
   },
   "file_extension": ".py",
   "mimetype": "text/x-python",
   "name": "python",
   "nbconvert_exporter": "python",
   "pygments_lexer": "ipython3",
   "version": "3.8.6"
  }
 },
 "nbformat": 4,
 "nbformat_minor": 4
}
