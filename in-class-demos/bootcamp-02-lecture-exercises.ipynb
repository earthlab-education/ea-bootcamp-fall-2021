{
 "cells": [
  {
   "cell_type": "markdown",
   "metadata": {},
   "source": [
    "<img style=\"float: left;\" src=\"earth-lab-logo-rgb.png\" width=\"150\" height=\"150\" />\n",
    "\n",
    "# Earth Analytics Education"
   ]
  },
  {
   "cell_type": "markdown",
   "metadata": {},
   "source": [
    "# Python Variables & Lists:\n",
    "\n",
    "\n",
    "### Numeric data (int & float)"
   ]
  },
  {
   "cell_type": "code",
   "execution_count": null,
   "metadata": {},
   "outputs": [],
   "source": [
    "sample_variable = 1\n",
    "\n",
    "print(sample_variable)\n",
    "type(sample_variable)"
   ]
  },
  {
   "cell_type": "code",
   "execution_count": null,
   "metadata": {},
   "outputs": [],
   "source": [
    "sample_variable = sample_variable + 1\n",
    "print(sample_variable)\n",
    "type(sample_variable)"
   ]
  },
  {
   "cell_type": "code",
   "execution_count": null,
   "metadata": {},
   "outputs": [],
   "source": [
    "sample_variable = sample_variable + 0.5\n",
    "print(sample_variable)\n",
    "type(sample_variable)"
   ]
  },
  {
   "cell_type": "code",
   "execution_count": null,
   "metadata": {},
   "outputs": [],
   "source": [
    "sample_variable = 1.0\n",
    "\n",
    "print(sample_variable)\n",
    "type(sample_variable)"
   ]
  },
  {
   "cell_type": "code",
   "execution_count": null,
   "metadata": {},
   "outputs": [],
   "source": [
    "sample_variable = sample_variable + 1\n",
    "print(sample_variable)\n",
    "type(sample_variable)"
   ]
  },
  {
   "cell_type": "markdown",
   "metadata": {},
   "source": [
    "### String Variables"
   ]
  },
  {
   "cell_type": "code",
   "execution_count": null,
   "metadata": {},
   "outputs": [],
   "source": [
    "sample_variable = \"1\"\n",
    "\n",
    "print(sample_variable)\n",
    "type(sample_variable)"
   ]
  },
  {
   "cell_type": "code",
   "execution_count": null,
   "metadata": {},
   "outputs": [],
   "source": [
    "sample_variable = sample_variable + 1"
   ]
  },
  {
   "cell_type": "code",
   "execution_count": null,
   "metadata": {},
   "outputs": [],
   "source": [
    "sample_variable = \"one, two, three\"\n",
    "print(sample_variable)\n",
    "\n",
    "type(sample_variable)"
   ]
  },
  {
   "cell_type": "code",
   "execution_count": null,
   "metadata": {},
   "outputs": [],
   "source": [
    "len(sample_variable)"
   ]
  },
  {
   "cell_type": "markdown",
   "metadata": {},
   "source": [
    "### Why is this flexibility important/useful?\n",
    "\n",
    "As data scientists and Earth scientists we are often working with large volumes of data with heterogeneous values or\n",
    "that need to be transformed in some way. This flexibility allows us to manipulate and transform data.\n",
    "\n",
    "Example - putting variables into the same units so that they can be compared or combined in some way."
   ]
  },
  {
   "cell_type": "code",
   "execution_count": null,
   "metadata": {},
   "outputs": [],
   "source": [
    "# Comparing the size of the Pine Gulch and Grizzly Creek Fires in Colorado to cities\n",
    "# Pine Gulch is the largest fire in Colorado State history eclipsing the 2002 Hayman Fire\n",
    "\n",
    "# Fire size in acres\n",
    "pine_gulch_size = 139007 \n",
    "grizzly_creek_size = 32464\n",
    "hayman_fire_size = 138114\n",
    "\n",
    "# City sizes in square miles\n",
    "columbus_oh_sq_miles = 217.2\n",
    "colo_springs_sq_miles = 194.5 \n",
    "denver_sq_miles = 154.9\n",
    "boulder_sq_miles = 27.36\n",
    "\n",
    "# Factor used to convert acres to miles\n",
    "acres_to_sq_miles = 640\n",
    "\n",
    "# Convert fire size to square miles (note the *= operator!)\n",
    "pine_gulch_size /= acres_to_sq_miles\n",
    "print(pine_gulch_size)\n",
    "\n",
    "grizzly_creek_size /= acres_to_sq_miles\n",
    "print(grizzly_creek_size)\n",
    "\n",
    "hayman_fire_size /= acres_to_sq_miles\n",
    "print(hayman_fire_size)"
   ]
  },
  {
   "cell_type": "markdown",
   "metadata": {},
   "source": [
    "**Programming TIP**: The type() function is an indispensible tool for examining variables and debugging issues with your code. As we continue to learning about new data structures we will explore methods for the examining the values and data types they contain.\n",
    "\n",
    "### Lists\n",
    "Lists can contain items of different types:"
   ]
  },
  {
   "cell_type": "code",
   "execution_count": null,
   "metadata": {},
   "outputs": [],
   "source": [
    "mini_list1 = [ 8, 9 ]\n",
    "list1 = [ 1, 2.0, \"3\", \"four\", \"five, six, seven\" , mini_list1 ]"
   ]
  },
  {
   "cell_type": "code",
   "execution_count": null,
   "metadata": {},
   "outputs": [],
   "source": [
    "print(list1)\n",
    "len(list1)"
   ]
  },
  {
   "cell_type": "markdown",
   "metadata": {},
   "source": [
    "How many items does this list contain?"
   ]
  },
  {
   "cell_type": "code",
   "execution_count": null,
   "metadata": {},
   "outputs": [],
   "source": [
    "list2 = [['item1','item2'], [40.6,4]]"
   ]
  },
  {
   "cell_type": "code",
   "execution_count": null,
   "metadata": {},
   "outputs": [],
   "source": [
    "print(list2)\n",
    "len(list2)"
   ]
  },
  {
   "cell_type": "code",
   "execution_count": null,
   "metadata": {},
   "outputs": [],
   "source": [
    "list2[0]"
   ]
  },
  {
   "cell_type": "markdown",
   "metadata": {},
   "source": [
    "List indexing: 0 to n-1"
   ]
  },
  {
   "cell_type": "code",
   "execution_count": null,
   "metadata": {},
   "outputs": [],
   "source": [
    "print(list1[0])\n",
    "print(list1[1])\n",
    "print(list1[2])\n",
    "print(list1[3])\n",
    "print(list1[4])\n",
    "print(list1[5])\n",
    "print(list1[6])"
   ]
  },
  {
   "cell_type": "markdown",
   "metadata": {},
   "source": [
    "List methods:"
   ]
  },
  {
   "cell_type": "code",
   "execution_count": null,
   "metadata": {},
   "outputs": [],
   "source": [
    "# Insert syntax: list_name.insert(index, value)\n",
    "list1.insert(4,\"hello\")\n",
    "list1"
   ]
  },
  {
   "cell_type": "code",
   "execution_count": null,
   "metadata": {},
   "outputs": [],
   "source": [
    "# Delete syntax: del list_name[index]\n",
    "del list1[4]\n",
    "print(list1)"
   ]
  },
  {
   "cell_type": "code",
   "execution_count": null,
   "metadata": {},
   "outputs": [],
   "source": [
    "list1[3] = 4\n",
    "list1"
   ]
  },
  {
   "cell_type": "code",
   "execution_count": null,
   "metadata": {},
   "outputs": [],
   "source": [
    "# Append syntax: list_name.append(value)\n",
    "list1.append(10)\n",
    "print(list1)"
   ]
  },
  {
   "cell_type": "markdown",
   "metadata": {},
   "source": [
    "## Clean Expressive Code\n",
    "\n",
    "This week we introduced you to the Pep8 Style guide and provides some guidelines for expressive variable names. Here is a snippet of poorly written code. Let's fix it!\n"
   ]
  },
  {
   "cell_type": "code",
   "execution_count": null,
   "metadata": {},
   "outputs": [],
   "source": [
    "mar=46.99\n",
    "apr=74.422\n",
    "may=77.47\n",
    "mar/=25.4\n",
    "apr/=25.4\n",
    "may/=25.4\n",
    "t=mar+apr+may\n",
    "t"
   ]
  },
  {
   "cell_type": "markdown",
   "metadata": {},
   "source": [
    "## Challenge 1: Create Lists from Data\n",
    "The data below represent average monthly precipitation for Boulder, Colorado provided by the U.S. National Oceanic and Atmospheric Administration (NOAA).\n",
    "\n",
    "| Month | Precipitation (inches)|\n",
    "|-------|-----------------------|\n",
    "| jan   |\t0.70                |\n",
    "| feb\t|   0.75                |\n",
    "| mar   |\t1.85                |\n",
    "| apr   |\t2.93                |\n",
    "| may   |\t3.05                |\n",
    "| june  |\t2.02                |\n",
    "| july  |\t1.93                |\n",
    "| aug   |\t1.62                |\n",
    "| sept  |\t1.84                |\n",
    "| oct   |\t1.31                |\n",
    "| nov   |\t1.39                |\n",
    "| dec   |\t0.84                |\n",
    "\n",
    "Create two **Python** lists as follows:\n",
    "\n",
    "1. the first list should contain the month abbreviations and should be called `boulder_precip_months`.\n",
    "2. the second list should be a list of precipitation values and should be called `boulder_precip_inches`.\n",
    "\n",
    "Both lists should contain the data in the table above, in the order they appear in the table above! Here are all of the data formatted to make it easier for you to create your list!\n",
    "\n",
    "`0.70, 0.75, 1.85 , 2.93, 3.05 , 2.02, 1.93, 1.62, 1.84, 1.31, 1.39, 0.84`\n",
    "\n",
    "And here are the months:\n",
    "\n",
    "`jan, feb, mar, apr, may, june, july, aug, sept, oct, nov, dec`\n",
    "\n",
    "**HINT: the month values should be strings and the precipitation values should be floating point numbers!**"
   ]
  },
  {
   "cell_type": "code",
   "execution_count": null,
   "metadata": {},
   "outputs": [],
   "source": []
  },
  {
   "cell_type": "markdown",
   "metadata": {},
   "source": [
    "## Challenge 2: Modify Values in Existing List\n",
    "Next, convert each floating point value in the `boulder_precip_inches` to millimeters by creating a new list variable called `boulder_precip_mm`. One way to do this is to create a copy of the old list and assign it to a new variable name - like this:\n",
    "\n",
    "`new_list = old_list.copy()`\n",
    "\n",
    "**HINT: There are several efficient ways of converting your data to mm including list comprehensions.**\n",
    "\n",
    "For this exercise, you can begin by making a copy of the `boulder_precip_inches` object using:\n",
    "\n",
    "`boulder_precip_inches.copy()`\n",
    "\n",
    "Reassign that copy to the new variable called `boulder_precip_mm`. Then, you can replace each value in your new list using indexing. Refer back to the lesson on lists if you do not remember how to replace a value in a list. To convert inches to millimeters, you need to multiply the inches by `25.4` (1 inch = 25.4 mm). To make your code more legible, you can create a variable at the top of your notebook that stores the conversion value of `25.4`. A well named conversion variable will make your code easier to manage and easier to read."
   ]
  },
  {
   "cell_type": "code",
   "execution_count": null,
   "metadata": {},
   "outputs": [],
   "source": []
  },
  {
   "cell_type": "markdown",
   "metadata": {},
   "source": [
    "## Challenge 3: Create a List of Lists\n",
    "You can make a list of lists (a list which contains multiple sublists) using the following syntax:\n",
    "\n",
    "`list_of_lists = [list_one, list_two]`\n",
    "\n",
    "In the cell below, create a list called `all_boulder_data` that contains the `boulder_precip_months` and `boulder_precip_mm` objects as sublists."
   ]
  },
  {
   "cell_type": "code",
   "execution_count": null,
   "metadata": {},
   "outputs": [],
   "source": []
  },
  {
   "cell_type": "markdown",
   "metadata": {},
   "source": [
    "## Challenge 4: Plot the Data in the List of Lists\n",
    "Modify the following code to create a plot of your data. Be sure to use the `all_boulder_data` object for your plot:\n",
    "\n",
    "**HINT: you will need to properly index the all_boulder_data object to access each sublist within it.**"
   ]
  },
  {
   "cell_type": "code",
   "execution_count": null,
   "metadata": {},
   "outputs": [],
   "source": [
    "# Import necessary plot package\n",
    "import matplotlib.pyplot as plt\n",
    "\n",
    "# Plot monthly precipitation values\n",
    "fig, ax = plt.subplots(figsize=(6, 6))\n",
    "ax.bar(listname_x_axis, \n",
    "       listname_y_axis, \n",
    "       color=\"red\")\n",
    "ax.set(title=\"Add plot title here\",\n",
    "       xlabel=\"Add x axis label here\", \n",
    "       ylabel=\"Add y axis label here\")\n",
    "plt.show()"
   ]
  },
  {
   "cell_type": "markdown",
   "metadata": {},
   "source": [
    "Customize this plot by completing the following tasks:\n",
    "\n",
    "1. Replace `listname_x_axis` and `listname_y_axis` with the appropriate sublist within the `all_boulder_data list`.\n",
    "2. Change the <a href=\"https://www.earthdatascience.org/courses/intro-to-earth-data-science/python-code-fundamentals/get-started-using-python/python-fundamentals-exercises/color\" target=\"_blank\">color of the plot</a> to a blue color such as aqua.\n",
    "3. Update the text for the titles and axes labels.\n",
    "4. Modify the values in `figsize=(6, 6)` to change the size of your plot.\n",
    "\n",
    "For your titles and labels, be sure to think about the following pieces of information that could help someone easily interpret the plot:\n",
    "\n",
    "* geographic coverage or extent of data.\n",
    "* duration or temporal extent of the data.\n",
    "* what was actually measured and/or represented by the data.\n",
    "* units of measurement."
   ]
  },
  {
   "cell_type": "code",
   "execution_count": null,
   "metadata": {},
   "outputs": [],
   "source": []
  },
  {
   "cell_type": "markdown",
   "metadata": {},
   "source": [
    "## BONUS Challenge: List Comprehensions in Python\n",
    "Above you performed many tasks manually. Included in those manual steps was one where you converted each individual value in your list from inches to mm. In **Python**, list comprehensions are a great way to perform operations on a sequence of values stored within a list.\n",
    "\n",
    "The syntax for a list comprehension is below. Essentially what is happening is that Python is iterating through each value in the old list `(for i in my_old_list)` and multiplying it by 2 `(i*2)`. In each iteration of the loop, the value `i` represents the next value in the list. In the example below, `i` will first be the value 1, and then 2, and finally 3.\n"
   ]
  },
  {
   "cell_type": "code",
   "execution_count": null,
   "metadata": {},
   "outputs": [],
   "source": [
    "# example list comprehension\n",
    "my_old_list = [1, 2, 3]\n",
    "my_new_list = [i *2 for i in my_old_list] "
   ]
  },
  {
   "cell_type": "markdown",
   "metadata": {},
   "source": [
    "`my_new_list` will equal each value in `my_old_list` multiplied by 2, so `my_new_list` will be equivalent to `[2, 4, 6]`. You can run this code and see the output for yourself! Try to experiment with writing more efficient code. Convert your `boulder_precip_inches` list of values to a new list called `boulder_precip_mm` using a list comprehension. Use the syntax above to help you create this list comprehension.\n",
    "\n",
    "For more information on loops and changing values within a list, you can check out <a href=\"www.earthdatascience.org/courses/intro-to-earth-data-science/write-efficient-python-code/loops/\" target=\"_blank\">Earth Lab’s lesson introducing loops in Python </a>, and you can go to <a href=\"https://www.pythonforbeginners.com/basics/list-comprehensions-in-python\" target =\"_blank\">this more in depth explanation on list comprehensions in Python</a>."
   ]
  },
  {
   "cell_type": "code",
   "execution_count": null,
   "metadata": {},
   "outputs": [],
   "source": []
  }
 ],
 "metadata": {
  "kernelspec": {
   "display_name": "Python 3",
   "language": "python",
   "name": "python3"
  },
  "language_info": {
   "codemirror_mode": {
    "name": "ipython",
    "version": 3
   },
   "file_extension": ".py",
   "mimetype": "text/x-python",
   "name": "python",
   "nbconvert_exporter": "python",
   "pygments_lexer": "ipython3",
   "version": "3.8.5"
  }
 },
 "nbformat": 4,
 "nbformat_minor": 2
}
