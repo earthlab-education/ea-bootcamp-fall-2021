{
 "cells": [
  {
   "cell_type": "code",
   "execution_count": null,
   "metadata": {},
   "outputs": [],
   "source": [
    "# Load python packages - pep 8 specifies core packages first... third party next\n",
    "import os\n",
    "\n",
    "import numpy as np\n",
    "import matplotlib.pyplot as plt\n",
    "from matplotlib.colors import ListedColormap\n",
    "import geopandas as gpd\n",
    "import xarray as xr\n",
    "import rioxarray as rxr\n",
    "import earthpy as et\n",
    "import earthpy.plot as ep\n",
    "from shapely.geometry import mapping\n",
    "\n",
    "# Prettier plotting\n",
    "import seaborn as sns\n",
    "sns.set(font_scale=1.3)\n",
    "sns.set_style(\"white\")\n",
    "\n",
    "\n",
    "et.data.get_data(\"colorado-flood\")\n",
    "os.chdir(os.path.join(et.io.HOME,\n",
    "                      'earth-analytics',\n",
    "                      'data'))"
   ]
  },
  {
   "cell_type": "markdown",
   "metadata": {},
   "source": [
    "## Open Raster Data  Using Xarray"
   ]
  },
  {
   "cell_type": "code",
   "execution_count": null,
   "metadata": {},
   "outputs": [],
   "source": [
    "# Because I may use the path to the data several times, i'm constructing the path in 2 steps!\n",
    "data_path = os.path.join(\"colorado-flood\",\n",
    "                         \"spatial\",\n",
    "                         \"boulder-leehill-rd\")\n",
    "dtm_path = os.path.join(data_path,\n",
    "                        \"pre-flood\",\n",
    "                        \"lidar\",\n",
    "                        \"pre_DTM.tif\")\n",
    "\n",
    "\n",
    "lidar_dtm_pre = rxr.open_rasterio(dtm_path)\n",
    "lidar_dtm_pre"
   ]
  },
  {
   "cell_type": "markdown",
   "metadata": {},
   "source": [
    "## Plot The Data \n",
    "\n",
    "Notice that the data below look funky or don't import -- oops..."
   ]
  },
  {
   "cell_type": "code",
   "execution_count": null,
   "metadata": {},
   "outputs": [],
   "source": [
    "f, ax = plt.subplots()\n",
    "lidar_dtm_pre.plot(ax=ax)\n",
    "plt.show()"
   ]
  },
  {
   "cell_type": "markdown",
   "metadata": {},
   "source": [
    "# What Does a Histogram Show You?"
   ]
  },
  {
   "cell_type": "code",
   "execution_count": null,
   "metadata": {},
   "outputs": [],
   "source": [
    "# What do you notice about the histogram of the data?\n",
    "f, ax = plt.subplots()\n",
    "lidar_dtm_pre.plot.hist(ax=ax)\n",
    "plt.show()"
   ]
  },
  {
   "cell_type": "code",
   "execution_count": null,
   "metadata": {},
   "outputs": [],
   "source": [
    "# This is elevation data- what do you notice\n",
    "np.nanmin(lidar_dtm_pre), np.nanmax(lidar_dtm_pre)"
   ]
  },
  {
   "cell_type": "code",
   "execution_count": null,
   "metadata": {},
   "outputs": [],
   "source": [
    "# View the no data value (sometimes referred to as a fill value)\n",
    "lidar_dtm_pre.rio.nodata"
   ]
  },
  {
   "cell_type": "code",
   "execution_count": null,
   "metadata": {},
   "outputs": [],
   "source": [
    "lidar_dtm_pre.shape"
   ]
  },
  {
   "cell_type": "markdown",
   "metadata": {},
   "source": [
    "## Open the data and mask no data values\n",
    "\n",
    "Below you open the data and mask no data values. YOu also use\n",
    "squeeze to get rid of that extra first dimension which is the value\n",
    "`1`. The array only has one layer so the additional dimension \n",
    "is not needed"
   ]
  },
  {
   "cell_type": "code",
   "execution_count": null,
   "metadata": {},
   "outputs": [],
   "source": [
    "lidar_dtm_pre = rxr.open_rasterio(dtm_path,\n",
    "                                  masked=True).squeeze()\n",
    "print(\"The shape is\", lidar_dtm_pre.shape)\n",
    "print(\"The min and max values are: \",\n",
    "      np.nanmin(lidar_dtm_pre),\n",
    "      np.nanmax(lidar_dtm_pre))"
   ]
  },
  {
   "cell_type": "code",
   "execution_count": null,
   "metadata": {},
   "outputs": [],
   "source": [
    "# Plot again\n",
    "f, (ax1, ax2) = plt.subplots(2, 1, figsize=(10, 5))\n",
    "lidar_dtm_pre.plot.imshow(ax=ax1)\n",
    "lidar_dtm_pre.plot.hist(ax=ax2)\n",
    "\n",
    "plt.show()"
   ]
  },
  {
   "cell_type": "code",
   "execution_count": null,
   "metadata": {},
   "outputs": [],
   "source": [
    "# View the shape or the pixel dimensions of the raster\n",
    "# Note that .shape is a numpy array ATTRIBUTE\n",
    "lidar_dtm_pre.shape"
   ]
  },
  {
   "cell_type": "markdown",
   "metadata": {},
   "source": [
    "## Create a Histogram of Raster Data\n",
    "frequency  -- of elevations values"
   ]
  },
  {
   "cell_type": "code",
   "execution_count": null,
   "metadata": {},
   "outputs": [],
   "source": [
    "# Remember that you don't want to use plt.show() in your homework!!\n",
    "f, ax = plt.subplots()\n",
    "lidar_dtm_pre.plot.hist(ax=ax,\n",
    "                        bins=30,\n",
    "                        color=\"purple\")\n",
    "ax.set(xlabel=\"Elevation (m)\",\n",
    "       ylabel=\"Count\")\n",
    "plt.show()"
   ]
  },
  {
   "cell_type": "markdown",
   "metadata": {},
   "source": [
    "## Open Digital Surface Model from the Pre Flood Data"
   ]
  },
  {
   "cell_type": "code",
   "execution_count": null,
   "metadata": {},
   "outputs": [],
   "source": [
    "# Open up pre-flood DSM\n",
    "dsm_pre_path = os.path.join(data_path,\n",
    "                            \"pre-flood\",\n",
    "                            \"lidar\",\n",
    "                            \"pre_DSM.tif\")\n",
    "\n",
    "lidar_dsm_pre = rxr.open_rasterio(dsm_pre_path, masked=True).squeeze()\n",
    "\n",
    "lidar_dsm_pre"
   ]
  },
  {
   "cell_type": "code",
   "execution_count": null,
   "metadata": {},
   "outputs": [],
   "source": [
    "print(\"The shape is\", lidar_dsm_pre.shape)\n",
    "print(\"The min and max values are: \",\n",
    "      np.nanmin(lidar_dsm_pre),\n",
    "      np.nanmax(lidar_dsm_pre))"
   ]
  },
  {
   "cell_type": "markdown",
   "metadata": {},
   "source": [
    "## Subtract the Rasters"
   ]
  },
  {
   "cell_type": "code",
   "execution_count": null,
   "metadata": {},
   "outputs": [],
   "source": [
    "# subtract the dtm from the DSM to create a CHM\n",
    "# IMPORTANT: be sure to review the lidar lessons!!\n",
    "lidar_chm_pre = lidar_dsm_pre - lidar_dtm_pre\n",
    "# view min and max value of the calculated CHM -- numpy array attributes\n",
    "np.nanmin(lidar_chm_pre), np.nanmax(lidar_chm_pre)"
   ]
  },
  {
   "cell_type": "code",
   "execution_count": null,
   "metadata": {},
   "outputs": [],
   "source": [
    "# the output calculated image is a xarray object\n",
    "lidar_chm_pre"
   ]
  },
  {
   "cell_type": "code",
   "execution_count": null,
   "metadata": {},
   "outputs": [],
   "source": [
    "# The commented line below can be used if you want to interact with your raster (mouse over to view values)\n",
    "# %matplotlib notebook\n",
    "# TODO: This is now throwing a runtime warning... Your instructor is looking into why!\n",
    "\n",
    "# Plot the data - chm data\n",
    "lidar_chm_pre.plot.imshow(\n",
    "    cmap=\"Greens\")\n",
    "plt.show()"
   ]
  },
  {
   "cell_type": "markdown",
   "metadata": {},
   "source": [
    "## Classify The Canopy Height Model\n",
    "\n",
    "Classify in this instance refers to reassigning values in an existing raster to another value."
   ]
  },
  {
   "cell_type": "code",
   "execution_count": null,
   "metadata": {},
   "outputs": [],
   "source": [
    "# plot a histogram of the data but specify the bins you'd like to see\n",
    "lidar_chm_pre.plot.hist(\n",
    "    bins=[0, 2, 7, 12, 30],\n",
    "    color=\"purple\")\n",
    "plt.show()  # remember to not use plt.show() in your homework as it messes up the autograder"
   ]
  },
  {
   "cell_type": "code",
   "execution_count": null,
   "metadata": {},
   "outputs": [],
   "source": [
    "type(lidar_chm_pre)"
   ]
  },
  {
   "cell_type": "code",
   "execution_count": null,
   "metadata": {},
   "outputs": [],
   "source": [
    "# define the bins to use in classification\n",
    "class_bins = [-np.inf, 2, 7, 12, np.inf]\n",
    "# classify your raster using numpy digitize\n",
    "# Remember that digitize is simple reassigning existing values to a new value as specified\n",
    "# in your class_bins list above!\n",
    "\n",
    "lidar_chm_pre_class = xr.apply_ufunc(np.digitize,  # this is the function that you wish to call on the data\n",
    "                                     lidar_chm_pre,  # your xarray object\n",
    "                                     class_bins)  # the bins you wish to use to digitize\n",
    "lidar_chm_pre_class.values"
   ]
  },
  {
   "cell_type": "code",
   "execution_count": null,
   "metadata": {},
   "outputs": [],
   "source": [
    "# View unique values in the data\n",
    "# Notice that now the values span from 1-5.\n",
    "# Also note that the value 1 is likely no data as it's < 0 in the class bins above\n",
    "np.unique(lidar_chm_pre_class)"
   ]
  },
  {
   "cell_type": "code",
   "execution_count": null,
   "metadata": {},
   "outputs": [],
   "source": [
    "# Look at the data - what do you notice?\n",
    "lidar_chm_pre_class.plot.imshow()"
   ]
  },
  {
   "cell_type": "code",
   "execution_count": null,
   "metadata": {},
   "outputs": [],
   "source": [
    "# Mask cells with a value of 5 which is a fill value\n",
    "pre_lidar_chm_class_ma = lidar_chm_pre_class.where(lidar_chm_pre_class != 5)\n",
    "pre_lidar_chm_class_ma.plot.imshow()\n",
    "plt.show()"
   ]
  },
  {
   "cell_type": "markdown",
   "metadata": {},
   "source": [
    "## Add a Custom Legend to Your Plot with EarthPy\n",
    "\n",
    "Note that the lessons online need to be updated!! I will do this tonight or tomorrow but you can use this code as an example of how legends work with earthpy. You can also look at the earthpy docs!!"
   ]
  },
  {
   "cell_type": "code",
   "execution_count": null,
   "metadata": {},
   "outputs": [],
   "source": [
    "# This is how you can create your own custom colormap!\n",
    "# This is optional but good to know how to do\n",
    "colors = ['linen',\n",
    "          'lightgreen',\n",
    "          'darkgreen',\n",
    "          'maroon']\n",
    "height_class_labels = [\"short trees\",\n",
    "                       \"medium trees\",\n",
    "                       \"tall trees\",\n",
    "                       \"really tall trees\"]\n",
    "\n",
    "# Create a colormap from a list of colors\n",
    "cmap = ListedColormap(colors)\n",
    "\n",
    "f, ax = plt.subplots()\n",
    "# Turn off the default colorbar and add an earthpy legend\n",
    "im = pre_lidar_chm_class_ma.plot.imshow(add_colorbar=False)\n",
    "ep.draw_legend(im, titles=height_class_labels)\n",
    "# This line below turns off the ticks and black borders on your image\n",
    "ax.set_axis_off()\n",
    "plt.show()"
   ]
  },
  {
   "cell_type": "code",
   "execution_count": null,
   "metadata": {},
   "outputs": [],
   "source": [
    "# Add labels\n",
    "\n",
    "f, ax = plt.subplots()\n",
    "# Turn off the default colorbar and add an earthpy legend\n",
    "im = pre_lidar_chm_class_ma.plot.imshow(add_colorbar=False)\n",
    "ep.draw_legend(im, titles=height_class_labels)\n",
    "# This line below turns off the ticks and black borders on your image\n",
    "ax.set(title=\"Title Here\")\n",
    "ax.set_axis_off()\n",
    "plt.show()"
   ]
  },
  {
   "cell_type": "markdown",
   "metadata": {},
   "source": [
    "## Crop a raster using rioxarray\n",
    "\n",
    "The example above ran you through several raster operations. the one thing it skipped was cropping the data prior to processing it. You can crop when you import the data initially with rasterio as seen below. For your homework, you should do this when you import each raster dataset!"
   ]
  },
  {
   "cell_type": "code",
   "execution_count": null,
   "metadata": {},
   "outputs": [],
   "source": [
    "# Open the crop extent that need to crop the data!\n",
    "clip_extent_path = os.path.join(data_path,\n",
    "                                \"clip-extent.shp\")\n",
    "crop_extent = gpd.read_file(clip_extent_path)"
   ]
  },
  {
   "cell_type": "code",
   "execution_count": null,
   "metadata": {},
   "outputs": [],
   "source": [
    "# View the cropped data layer\n",
    "crop_extent.plot()\n",
    "plt.show()"
   ]
  },
  {
   "cell_type": "code",
   "execution_count": null,
   "metadata": {},
   "outputs": [],
   "source": [
    "# overlay the two datasets\n",
    "# Note that the crop extent will remove some of the uneven edge on the left (West) side of the image\n",
    "f, ax = plt.subplots()\n",
    "pre_lidar_chm_class_ma.plot.imshow(\n",
    "    ax=ax)\n",
    "crop_extent.boundary.plot(ax=ax,\n",
    "                          edgecolor=\"lightgreen\",\n",
    "                          color=None,\n",
    "                          linewidth=3)\n",
    "plt.show()"
   ]
  },
  {
   "cell_type": "code",
   "execution_count": null,
   "metadata": {},
   "outputs": [],
   "source": [
    "# Crop the chm using rioxarray\n",
    "\n",
    "pre_chm_clip = pre_lidar_chm_class_ma.rio.clip(crop_extent.geometry.apply(mapping),\n",
    "                                                              # This is needed if your GDF is in a diff CRS than the raster data\n",
    "                                                              crop_extent.crs)\n",
    "\n",
    "\n",
    "# Plot the cropped data\n",
    "f, ax=plt.subplots()\n",
    "pre_chm_clip.plot.imshow(ax=ax)\n",
    "\n",
    "# Use this is you want to turn of scientific notation for your plots\n",
    "ax.ticklabel_format(useOffset=False, \n",
    "                    style='plain')\n",
    "ax.set(title=\"Cropped CHM Data\")\n",
    "plt.show()"
   ]
  }
 ],
 "metadata": {
  "kernelspec": {
   "display_name": "Python 3",
   "language": "python",
   "name": "python3"
  },
  "language_info": {
   "codemirror_mode": {
    "name": "ipython",
    "version": 3
   },
   "file_extension": ".py",
   "mimetype": "text/x-python",
   "name": "python",
   "nbconvert_exporter": "python",
   "pygments_lexer": "ipython3",
   "version": "3.8.5"
  },
  "toc": {
   "base_numbering": 1,
   "nav_menu": {},
   "number_sections": true,
   "sideBar": true,
   "skip_h1_title": true,
   "title_cell": "Table of Contents",
   "title_sidebar": "Contents",
   "toc_cell": false,
   "toc_position": {},
   "toc_section_display": true,
   "toc_window_display": false
  }
 },
 "nbformat": 4,
 "nbformat_minor": 2
}
