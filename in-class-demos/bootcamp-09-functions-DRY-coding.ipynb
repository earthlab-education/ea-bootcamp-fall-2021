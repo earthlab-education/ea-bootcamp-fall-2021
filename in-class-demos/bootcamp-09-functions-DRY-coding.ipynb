{
 "cells": [
  {
   "cell_type": "code",
   "execution_count": null,
   "metadata": {},
   "outputs": [],
   "source": [
    "import os\n",
    "from glob import glob\n",
    "\n",
    "import matplotlib.pyplot as plt\n",
    "import numpy as np\n",
    "import pandas as pd\n",
    "import earthpy as et"
   ]
  },
  {
   "cell_type": "markdown",
   "metadata": {},
   "source": [
    "### Writing Pseudocode:\n",
    "### Challenge 1: Import Monthly Fire Count Data\n",
    "\n",
    "In the cell below complete the following task:\n",
    "\n",
    "* Create a for loop that prints the file name  for each `.csv` file in the `earthpy-downloads\\ca-fires-yearly\\monthly-fire-count` directory\n",
    "* In that same loop, extract the date for each year in each `.csv` file name and add it to a new list sorted in order from earliest to most recent  year using `list.append()`.\n",
    "\n",
    "Your final list should look something like this (with more years however): \n",
    "\n",
    "`[\"1992\", \"1993\", \"1994\"]`\n",
    "\n",
    "At the end of the cell, call the list object of years so that it prints below \n",
    "the cell as standard output (**do not use the print statement**)."
   ]
  },
  {
   "cell_type": "code",
   "execution_count": null,
   "metadata": {},
   "outputs": [],
   "source": []
  },
  {
   "cell_type": "markdown",
   "metadata": {},
   "source": [
    "### DRY Coding\n",
    "\n",
    "1. Easier to follow and read\n",
    "2. Easier to update and maintain\n",
    "\n",
    "### Custom function:"
   ]
  },
  {
   "cell_type": "code",
   "execution_count": null,
   "metadata": {},
   "outputs": [],
   "source": [
    "def fahr_to_kelvin(fahr):\n",
    "    \"\"\"Convert temperature in Fahrenheit to kelvin.\n",
    "\n",
    "    Parameters:\n",
    "    -----------\n",
    "    fahr: int or float\n",
    "        The temperature in Fahrenheit.\n",
    "    \n",
    "    Returns:\n",
    "    -----------\n",
    "    kelvin : int or float\n",
    "        The temperature in kelvin.\n",
    "    \"\"\"\n",
    "    kelvin = ((fahr - 32) * (5 / 9)) + 273.15\n",
    "    return kelvin"
   ]
  },
  {
   "cell_type": "code",
   "execution_count": null,
   "metadata": {},
   "outputs": [],
   "source": [
    "print(fahr_to_kelvin(0))\n",
    "print(fahr_to_kelvin(75))"
   ]
  },
  {
   "cell_type": "markdown",
   "metadata": {},
   "source": [
    "### Anatomy of a Function:\n",
    "\n",
    "* def keyword\n",
    "* function_name - concise but descriptive of what the function does!\n",
    "* parameter(s): input required to perform the task\n",
    "* return statement: output returned by the function"
   ]
  },
  {
   "cell_type": "code",
   "execution_count": null,
   "metadata": {},
   "outputs": [],
   "source": [
    "def function_name(parameter):\n",
    "    print(\"some code here\")   \n",
    "    return output"
   ]
  },
  {
   "cell_type": "markdown",
   "metadata": {},
   "source": [
    "### Doc String: \n",
    "\n",
    "multi-line documentation comment, that provides details about the function, including the specifics of the input parameters and the returns (e.g. type of objects, additional description) and any other important documentation about how to use the function.\n",
    "\n",
    "You can learn more about docstrings in the PEP 257 guidelines focused on docstrings. This textbook uses the docstring standard that is outlined in the numpy documentation."
   ]
  },
  {
   "cell_type": "code",
   "execution_count": null,
   "metadata": {},
   "outputs": [],
   "source": [
    "def function_name(data):\n",
    "    \"\"\"Docstrings should include a description of the function here \n",
    "    as well as identify the parameters (inputs) that the function \n",
    "    can take and the return (output) provided by the function,\n",
    "    as shown below. \n",
    "    \n",
    "    Parameters\n",
    "    ----------\n",
    "    input : type\n",
    "        Description of input.\n",
    "    \n",
    "    Returns\n",
    "    ------\n",
    "    output : type\n",
    "        Description of output.\n",
    "    \"\"\"\n",
    "    print(\"some code here\")\n",
    "    \n",
    "    return output"
   ]
  },
  {
   "cell_type": "markdown",
   "metadata": {},
   "source": [
    "### function to convert mm to inches\n",
    "* descriptive function name\n",
    "* input parameter is original value in mm\n",
    "* output value in inches\n",
    "* add docstring"
   ]
  },
  {
   "cell_type": "code",
   "execution_count": null,
   "metadata": {},
   "outputs": [],
   "source": [
    "def mm_to_in(mm):\n",
    "    \"\"\"Convert input from millimeters to inches. \n",
    "    \n",
    "    Parameters\n",
    "    ----------\n",
    "    mm : int or float\n",
    "        Numeric value with units in millimeters.\n",
    "\n",
    "    Returns\n",
    "    ------\n",
    "    inches : int or float\n",
    "        Numeric value with units in inches.\n",
    "    \"\"\"\n",
    "    inches = mm / 25.4    \n",
    "    return inches"
   ]
  },
  {
   "cell_type": "markdown",
   "metadata": {},
   "source": [
    "### Calling a custom function"
   ]
  },
  {
   "cell_type": "code",
   "execution_count": null,
   "metadata": {},
   "outputs": [],
   "source": [
    "# Average monthly precip (mm) in Jan for Boulder, CO\n",
    "precip_jan_mm = 17.78\n",
    "\n",
    "# Convert to inches\n",
    "precip_jan_in = mm_to_in(mm = precip_jan_mm)"
   ]
  },
  {
   "cell_type": "code",
   "execution_count": null,
   "metadata": {},
   "outputs": [],
   "source": [
    "print(precip_jan_mm)\n",
    "print(precip_jan_in)"
   ]
  },
  {
   "cell_type": "markdown",
   "metadata": {},
   "source": [
    "### Placeholder variables in functions\n",
    "Placeholder variables hold a different value each time the function is called\n",
    "\n",
    "** They don't exist outside of the function!"
   ]
  },
  {
   "cell_type": "code",
   "execution_count": null,
   "metadata": {},
   "outputs": [],
   "source": [
    "# Create new variable with converted values\n",
    "precip_jan_in = mm_to_in(mm = precip_jan_mm) # mm is a placeholder variable for input of the function\n",
    "# inches is placeholder for the output of the function"
   ]
  },
  {
   "cell_type": "code",
   "execution_count": null,
   "metadata": {},
   "outputs": [],
   "source": [
    "# Average monthly precip (mm) for Boulder, CO\n",
    "avg_monthly_precip_mm = np.array([17.78, 19.05, 46.99, 74.422, \n",
    "                                  77.47, 51.308, 49.022, 41.148, \n",
    "                                  46.736, 33.274, 35.306, 21.336])\n",
    "\n",
    "# Convert to inches\n",
    "mm_to_in(mm = avg_monthly_precip_mm)"
   ]
  },
  {
   "cell_type": "code",
   "execution_count": null,
   "metadata": {},
   "outputs": [],
   "source": [
    "# Define a precip dataframe\n",
    "precip_2002 = pd.DataFrame(columns=[\"month\", \"precip_mm\"],\n",
    "                           data=[\n",
    "                                [\"Jan\", 27.178],  [\"Feb\", 11.176],\n",
    "                                [\"Mar\", 38.100],  [\"Apr\", 5.080],\n",
    "                                [\"May\", 81.280],  [\"June\", 29.972],\n",
    "                                [\"July\", 2.286],  [\"Aug\", 36.576],\n",
    "                                [\"Sept\", 38.608], [\"Oct\", 61.976],\n",
    "                                [\"Nov\", 19.812],  [\"Dec\", 0.508]\n",
    "                           ])"
   ]
  },
  {
   "cell_type": "code",
   "execution_count": null,
   "metadata": {},
   "outputs": [],
   "source": [
    "# Create new column with precip in inches\n",
    "precip_2002[\"precip_in\"] = mm_to_in(mm = precip_2002[\"precip_mm\"])\n",
    "\n",
    "precip_2002"
   ]
  },
  {
   "cell_type": "markdown",
   "metadata": {},
   "source": [
    "### Calling Help on a Function"
   ]
  },
  {
   "cell_type": "code",
   "execution_count": null,
   "metadata": {},
   "outputs": [],
   "source": [
    "help(np.mean)"
   ]
  },
  {
   "cell_type": "code",
   "execution_count": null,
   "metadata": {},
   "outputs": [],
   "source": [
    "help(mm_to_in)"
   ]
  },
  {
   "cell_type": "markdown",
   "metadata": {},
   "source": [
    "### Combining function calls\n",
    "The output of mm_to_in -> np.mean"
   ]
  },
  {
   "cell_type": "code",
   "execution_count": null,
   "metadata": {},
   "outputs": [],
   "source": [
    "avg_monthly_precip_in = np.mean(mm_to_in(mm = avg_monthly_precip_mm))\n",
    "avg_monthly_precip_in"
   ]
  },
  {
   "cell_type": "markdown",
   "metadata": {},
   "source": [
    "### Multiple parameters"
   ]
  },
  {
   "cell_type": "code",
   "execution_count": null,
   "metadata": {},
   "outputs": [],
   "source": [
    "def multiply_values(x,y):\n",
    "    \"\"\"Calculate product of two inputs. \n",
    "    \n",
    "    Parameters\n",
    "    ----------\n",
    "    x : int or float\n",
    "    y : int or float\n",
    "\n",
    "    Returns\n",
    "    ------\n",
    "    z : int or float\n",
    "    \"\"\"\n",
    "    z = x * y\n",
    "    return z"
   ]
  },
  {
   "cell_type": "code",
   "execution_count": null,
   "metadata": {},
   "outputs": [],
   "source": [
    "# Call function with numeric values\n",
    "multiply_values(x = 0.7, y = 25.4)"
   ]
  },
  {
   "cell_type": "markdown",
   "metadata": {},
   "source": [
    "### Multiple parameters - combine functions"
   ]
  },
  {
   "cell_type": "code",
   "execution_count": null,
   "metadata": {},
   "outputs": [],
   "source": [
    "def mean_mm_to_in_arr(arr_mm, axis_value):\n",
    "    \"\"\"Calculate mean values of input array along a specified\n",
    "    axis and convert values from millimeters to inches.\n",
    "    \n",
    "    Parameters\n",
    "    ----------\n",
    "    arr_mm : numpy array\n",
    "        Numeric values in millimeters.\n",
    "    axis_value : int\n",
    "        0 to calculate mean for each column.\n",
    "        1 to calculate mean for each row.\n",
    "\n",
    "    Returns\n",
    "    ------\n",
    "    mean_arr_in : numpy array\n",
    "        Mean values of input array in inches.\n",
    "    \"\"\"    \n",
    "    mean_arr_mm = np.mean(arr_mm, axis = axis_value)\n",
    "    mean_arr_in = mean_arr_mm / 25.4 \n",
    "        \n",
    "    return mean_arr_in"
   ]
  },
  {
   "cell_type": "code",
   "execution_count": null,
   "metadata": {},
   "outputs": [],
   "source": [
    "# 2d array of average monthly precip (mm) for 2002 and 2013 in Boulder, CO\n",
    "precip_2002_2013_mm = np.array([[27.178, 11.176, 38.1, 5.08, 81.28, 29.972, \n",
    "                                 2.286, 36.576, 38.608, 61.976, 19.812, 0.508],\n",
    "                                [6.858, 28.702, 43.688, 105.156, 67.564, 15.494,  \n",
    "                                 26.162, 35.56 , 461.264, 56.896, 7.366, 12.7]\n",
    "                               ])"
   ]
  },
  {
   "cell_type": "code",
   "execution_count": null,
   "metadata": {},
   "outputs": [],
   "source": [
    "# Calculate monthly mean (inches) for precip_2002_2013\n",
    "monthly_mean_in = mean_mm_to_in_arr(arr_mm = precip_2002_2013_mm, \n",
    "                                    axis_value = 0)\n",
    "\n",
    "monthly_mean_in"
   ]
  },
  {
   "cell_type": "code",
   "execution_count": null,
   "metadata": {},
   "outputs": [],
   "source": [
    "# Calculate monthly mean (inches) for precip_2002_2013\n",
    "monthly_mean_in = mean_mm_to_in_arr(arr_mm = precip_2002_2013_mm, \n",
    "                                    axis_value = 1)\n",
    "\n",
    "monthly_mean_in"
   ]
  },
  {
   "cell_type": "markdown",
   "metadata": {},
   "source": [
    "### Define optional input parameter for a function"
   ]
  },
  {
   "cell_type": "code",
   "execution_count": null,
   "metadata": {},
   "outputs": [],
   "source": [
    "def mean_mm_to_in_arr(arr_mm, axis_value=None):\n",
    "    \"\"\"Calculate mean values of input array and convert values \n",
    "    from millimeters to inches. If an axis is specified,\n",
    "    the mean will be calculated along that axis. \n",
    "\n",
    "    \n",
    "    Parameters\n",
    "    ----------\n",
    "    arr_mm : numpy array\n",
    "        Numeric values in millimeters.\n",
    "    axis_value : int (optional)\n",
    "        0 to calculate mean for each column.\n",
    "        1 to calculate mean for each row.\n",
    "\n",
    "    Returns\n",
    "    ------\n",
    "    mean_arr_in : numpy array\n",
    "        Mean values of input array in inches.\n",
    "    \"\"\"   \n",
    "    if axis_value is None:\n",
    "        mean_arr_mm = np.mean(arr_mm)        \n",
    "    else:\n",
    "        mean_arr_mm = np.mean(arr_mm, axis = axis_value)\n",
    "    \n",
    "    mean_arr_in = mean_arr_mm / 25.4 \n",
    "        \n",
    "    return mean_arr_in"
   ]
  },
  {
   "cell_type": "markdown",
   "metadata": {},
   "source": [
    "### File download function"
   ]
  },
  {
   "cell_type": "code",
   "execution_count": null,
   "metadata": {},
   "outputs": [],
   "source": [
    "def download_import_df(file_url, path):   \n",
    "    \"\"\"Download file from specified URL and import file\n",
    "    into a pandas dataframe from a specified path. \n",
    "    \n",
    "    Working directory is set to earth-analytics directory \n",
    "    under home, which is automatically created by the\n",
    "    download. \n",
    "\n",
    "    \n",
    "    Parameters\n",
    "    ----------\n",
    "    file_url : str\n",
    "        URL to CSV file (http or https).\n",
    "    path : str\n",
    "        Path to CSV file using relative path\n",
    "        to earth-analytics directory under home.        \n",
    "\n",
    "    Returns\n",
    "    ------\n",
    "    df : pandas dataframe\n",
    "        Dataframe imported from downloaded CSV file.\n",
    "    \"\"\" \n",
    "    \n",
    "    et.data.get_data(url=file_url)      \n",
    "    os.chdir(os.path.join(et.io.HOME, \"earth-analytics\"))    \n",
    "    df = pd.read_csv(path)\n",
    "    \n",
    "    return df"
   ]
  },
  {
   "cell_type": "markdown",
   "metadata": {},
   "source": [
    "### Concatenating dataframes"
   ]
  },
  {
   "cell_type": "code",
   "execution_count": null,
   "metadata": {},
   "outputs": [],
   "source": [
    "data_dir = os.path.join(et.io.HOME,'earth-analytics','data')\n",
    "file_path = os.path.join(data_dir,\"earthpy-downloads\",\"avg-monthly-temp-fahr\",\"san-diego\",\"*\")\n",
    "file_list = glob(file_path)\n",
    "\n",
    "sd_list = []\n",
    "file_list.sort()\n",
    "for f in file_list:\n",
    "    file_name = os.path.basename(f)\n",
    "    df = pd.read_csv(f)\n",
    "    print(df.shape)\n",
    "    print(\"year: \",file_name[10:14])\n",
    "    sd_list.append(df)\n",
    "    \n",
    "sd_data = pd.concat(sd_list)\n",
    "sd_data"
   ]
  },
  {
   "cell_type": "markdown",
   "metadata": {},
   "source": [
    "### Plotting using groupby and nested loop"
   ]
  },
  {
   "cell_type": "code",
   "execution_count": null,
   "metadata": {},
   "outputs": [],
   "source": [
    "df = pd.read_csv('~/earth-analytics/data/demo_data.csv')\n",
    "plot_grp_one = df.groupby(['year'])\n",
    "\n",
    "\n",
    "fig, ax = plt.subplots()\n",
    "for year, fire_list in plot_grp_one:\n",
    "    for cause, fire_size in zip(fire_list.cause.values, fire_list.fire_size.values):\n",
    "        ax.scatter(year,\n",
    "                   fire_size,\n",
    "                   label=cause)\n",
    "ax.set(title=\"Large Fire Cause Analysis 1995-2000\",\n",
    "            xlabel=\"Month Number\",\n",
    "            ylabel=\"Fire Size (acres)\")\n",
    "\n",
    "handles, labels = ax.get_legend_handles_labels()\n",
    "unique = [(h, l) for i, (h, l) in enumerate(zip(handles, labels)) if l not in labels[:i]]\n",
    "ax.legend(*zip(*unique))\n",
    "\n",
    "plt.show()"
   ]
  },
  {
   "cell_type": "code",
   "execution_count": null,
   "metadata": {},
   "outputs": [],
   "source": []
  }
 ],
 "metadata": {
  "kernelspec": {
   "display_name": "Python 3",
   "language": "python",
   "name": "python3"
  },
  "language_info": {
   "codemirror_mode": {
    "name": "ipython",
    "version": 3
   },
   "file_extension": ".py",
   "mimetype": "text/x-python",
   "name": "python",
   "nbconvert_exporter": "python",
   "pygments_lexer": "ipython3",
   "version": "3.8.5"
  }
 },
 "nbformat": 4,
 "nbformat_minor": 4
}
