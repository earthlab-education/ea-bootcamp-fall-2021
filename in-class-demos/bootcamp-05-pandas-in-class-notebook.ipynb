{
 "cells": [
  {
   "cell_type": "markdown",
   "metadata": {},
   "source": [
    "<img style=\"float: left;\" src=\"earth-lab-logo-rgb.png\" width=\"150\" height=\"150\" />\n",
    "\n",
    "# Earth Analytics Education - Bootcamp Course Fall 2020"
   ]
  },
  {
   "cell_type": "markdown",
   "metadata": {},
   "source": [
    "## Important !! \n",
    "\n",
    "1. Before you turn in your assignment, make sure to run the entire notebook with a fresh kernel. To do this first, **restart the kernel** (in the menubar, select Kernel$\\rightarrow$Restart & Run All)\n",
    "2. In the cells below you will replace the `raise NotImplementedError()` code with your code that addresses the activity challenge. If you don't replace that code, your notebook will not run properly.\n",
    "\n",
    "```\n",
    "# YOUR CODE HERE\n",
    "raise NotImplementedError()\n",
    "```\n",
    "\n",
    "3. Any open ended questions will have a \"YOUR ANSWER HERE\" within a markdown cell. Replace that text with your answer also formatted using Markdown.\n",
    "4. **IMPORTANT: DO NOT RENAME THIS NOTEBOOK!** If the file name changes, the autograder will not grade your assignment properly.\n",
    "\n",
    "## Follow to PEP 8 Syntax Guidelines\n",
    "\n",
    "* Run the `autopep8` tool on all cells prior to submitting (HINT: hit shift + the tool to run it on all cells at once!\n",
    "* Use clear and expressive names for variables. \n",
    "* Organize your code to support readability.\n",
    "* Check for code line length\n",
    "* Use comments and white space sparingly where it is needed\n"
   ]
  },
  {
   "cell_type": "markdown",
   "metadata": {},
   "source": [
    "### Add Your Name Below \n",
    "**Your Name:**"
   ]
  },
  {
   "cell_type": "markdown",
   "metadata": {},
   "source": [
    "<img style=\"float: left;\" src=\"colored-bar.png\"/>"
   ]
  },
  {
   "cell_type": "markdown",
   "metadata": {},
   "source": [
    "---"
   ]
  },
  {
   "cell_type": "markdown",
   "metadata": {
    "deletable": false,
    "editable": false,
    "nbgrader": {
     "cell_type": "markdown",
     "checksum": "73c52e461d4e6a6d0c795f507d82d141",
     "grade": false,
     "grade_id": "hw-instructions",
     "locked": true,
     "schema_version": 3,
     "solution": false
    }
   },
   "source": [
    "# Assignment 5 Homework - Pandas Dataframes\n",
    "\n",
    "Prior to completing assignment 5, be sure you have reviewed \n",
    "\n",
    "* <a href=\"https://www.earthdatascience.org/courses/intro-to-earth-data-science/scientific-data-structures-python/pandas-dataframes/\" target=\"_blank\">Chapter 15 in Section 6 of the Intro to Earth Data Science online textbook</a> which covers **pandas** dataframes.   \n",
    "* You can review the <a href=\"https://www.earthdatascience.org/courses/intro-to-earth-data-science/write-clean-expressive-code/intro-to-clean-code/python-pep-8-style-guide/\" target=\"_blank\">online textbook page on PEP 8 </a> as needed.\n",
    "\n",
    "Read the instructions below for each question carefully to complete the required tasks.\n",
    "\n",
    "## Assignment Data\n",
    "\n",
    "For this assignment, you will write **Python** code to download and work with data on fire occurrence in California between 1992 and 2015 provided by <a href=\"https://www.fs.usda.gov/rds/archive/Product/RDS-2013-0009.4/\" target=\"_blank\">the United States Forest Service</a>."
   ]
  },
  {
   "cell_type": "code",
   "execution_count": null,
   "metadata": {
    "deletable": false,
    "editable": false,
    "nbgrader": {
     "cell_type": "code",
     "checksum": "726b3644abef1e8db1bbdc1ab5fdc4b5",
     "grade": false,
     "grade_id": "core-imports",
     "locked": true,
     "schema_version": 3,
     "solution": false
    }
   },
   "outputs": [],
   "source": [
    "# Core imports needed for grading\n",
    "import matplotcheck.notebook as nb\n",
    "# Is the time series module used in this set of tests??\n",
    "from matplotcheck.base import PlotTester"
   ]
  },
  {
   "cell_type": "markdown",
   "metadata": {
    "deletable": false,
    "editable": false,
    "nbgrader": {
     "cell_type": "markdown",
     "checksum": "50cc8cd7ae4e56c0ef79fcf1ece86316",
     "grade": false,
     "grade_id": "cell-cd274524bd101ade",
     "locked": true,
     "schema_version": 3,
     "solution": false,
     "task": false
    }
   },
   "source": [
    "<img style=\"float: left;\" src=\"colored-bar.png\"/>"
   ]
  },
  {
   "cell_type": "markdown",
   "metadata": {
    "deletable": false,
    "editable": false,
    "nbgrader": {
     "cell_type": "markdown",
     "checksum": "a6bcbbbc67e0773fd07bc16b0e00d7e0",
     "grade": false,
     "grade_id": "question-student-imports",
     "locked": true,
     "schema_version": 3,
     "solution": false
    }
   },
   "source": [
    "## Import Python Packages\n",
    "\n",
    "In the cell below, add code **after the line for `Your Code Here`**, replacing `raise NotImplementedError()` with your code to import the packages/modules needed to:\n",
    "* create plots \n",
    "* set your working directory\n",
    "* download data using earthpy functions\n",
    "* work with pandas dataframes\n",
    "\n",
    "Be sure to list the package imports following the appropriate PEP 8 order. "
   ]
  },
  {
   "cell_type": "code",
   "execution_count": null,
   "metadata": {
    "deletable": false,
    "nbgrader": {
     "cell_type": "code",
     "checksum": "20489880accefdb27a2f10ca8cc97835",
     "grade": false,
     "grade_id": "student-imports-answer",
     "locked": false,
     "schema_version": 3,
     "solution": true,
     "task": false
    }
   },
   "outputs": [],
   "source": [
    "# YOUR CODE HERE\n",
    "raise NotImplementedError()"
   ]
  },
  {
   "cell_type": "code",
   "execution_count": null,
   "metadata": {
    "deletable": false,
    "editable": false,
    "nbgrader": {
     "cell_type": "code",
     "checksum": "db468135bfc17fe6796c27dc16fa4c33",
     "grade": true,
     "grade_id": "package-import-tests",
     "locked": true,
     "points": 4,
     "schema_version": 3,
     "solution": false,
     "task": false
    }
   },
   "outputs": [],
   "source": [
    "# Test package imports - DO NOT MODIFY THIS CELL!\n",
    "import_answer_points = 0\n",
    "\n",
    "try:\n",
    "    pd.NA\n",
    "    print(\"\\u2705 Score! Pandas has been imported as a pd!\")\n",
    "    import_answer_points += 1\n",
    "except NameError:\n",
    "    print(\"\\u274C Pandas has not been imported as a pd, please make sure to import is properly.\")\n",
    "\n",
    "try:\n",
    "    plt.show()\n",
    "    print(\"\\u2705 Nice! matplotlib.pyplot has been imported as plt!\")\n",
    "    import_answer_points += 1\n",
    "except NameError:\n",
    "    print(\"matplotlib.pyplot has not been imported as plt, please make sure to import is properly.\")\n",
    "\n",
    "try:\n",
    "    os.getcwd()\n",
    "    print(\"\\u2705 Great work! The os module has imported correctly!\")\n",
    "    import_answer_points += 1\n",
    "except NameError:\n",
    "    print(\"\\u274C Oops make sure that the os package is imported.\")\n",
    "\n",
    "try:\n",
    "    data = et.io\n",
    "    print(\"\\u2705 Great work! The earthpy package has imported correctly!\")\n",
    "    import_answer_points += 1\n",
    "except NameError:\n",
    "    print(\"\\u274C Oops make sure that the earthpy package is imported using the alias et.\")\n",
    "\n",
    "print(\"\\n \\u27A1 You received {} out of 4 points.\".format(import_answer_points))\n",
    "\n",
    "import_answer_points"
   ]
  },
  {
   "cell_type": "markdown",
   "metadata": {
    "deletable": false,
    "editable": false,
    "nbgrader": {
     "cell_type": "markdown",
     "checksum": "c396d48a9a65353bcc27e5b2e4368664",
     "grade": false,
     "grade_id": "question-download-data",
     "locked": true,
     "schema_version": 3,
     "solution": false,
     "task": false
    }
   },
   "source": [
    "## Download Data Using EarthPy\n",
    "\n",
    "In the cell below, add code **after the line for `Your Code Here`**, replacing `raise NotImplementedError()` with your code, to complete the following task:\n",
    "\n",
    "* Download the following dataset using **earthpy**: \n",
    "    * ca-fires-1992-2015-gt-100-acres.csv from https://ndownloader.figshare.com/files/17980802\n",
    "        * The dataset contains one record for every fire greater than 100 acres that occurred between 1992 and 2015 in California. \n",
    "        * The dataset has columns for the size of the fire (acres) and for the year and month of the fire, along with other details about the cause, reporting agency, county name, etc."
   ]
  },
  {
   "cell_type": "code",
   "execution_count": null,
   "metadata": {
    "deletable": false,
    "nbgrader": {
     "cell_type": "code",
     "checksum": "4ae1af384c3d34c1a9f98c17b42b3a9e",
     "grade": true,
     "grade_id": "student-download-data-answer",
     "locked": false,
     "points": 1,
     "schema_version": 3,
     "solution": true,
     "task": false
    }
   },
   "outputs": [],
   "source": [
    "# YOUR CODE HERE\n",
    "raise NotImplementedError()"
   ]
  },
  {
   "cell_type": "markdown",
   "metadata": {
    "deletable": false,
    "editable": false,
    "nbgrader": {
     "cell_type": "markdown",
     "checksum": "8c3bc1e353ce093c7e3a9c171a534c86",
     "grade": false,
     "grade_id": "question-set-wd",
     "locked": true,
     "schema_version": 3,
     "solution": false,
     "task": false
    }
   },
   "source": [
    "## Set Your Working Directory\n",
    "\n",
    "In the cell below, add code **after the line for `Your Code Here`**, replacing `raise NotImplementedError()` with your code, to set your working directory to **your `earth-analytics` directory in your home directory**.\n",
    "\n",
    "Be sure to use the appropriate functions that will allow your code to run successfully on any operating system."
   ]
  },
  {
   "cell_type": "code",
   "execution_count": null,
   "metadata": {
    "deletable": false,
    "nbgrader": {
     "cell_type": "code",
     "checksum": "252bc5b508afd2f494e4cabaee471f6b",
     "grade": true,
     "grade_id": "student-set-wd-answer",
     "locked": false,
     "points": 1,
     "schema_version": 3,
     "solution": true,
     "task": false
    }
   },
   "outputs": [],
   "source": [
    "# YOUR CODE HERE\n",
    "raise NotImplementedError()"
   ]
  },
  {
   "cell_type": "markdown",
   "metadata": {
    "deletable": false,
    "editable": false,
    "nbgrader": {
     "cell_type": "markdown",
     "checksum": "775982040f61c61bbfb9f4a03d8a8264",
     "grade": false,
     "grade_id": "question-check-path",
     "locked": true,
     "schema_version": 3,
     "solution": false,
     "task": false
    }
   },
   "source": [
    "## Check Path to Data File\n",
    "\n",
    "In the cell below, add code **after the line for `Your Code Here`**, replacing `raise NotImplementedError()` with your code, to complete the following tasks:\n",
    "\n",
    "1. Define a **relative path to the file downloaded using earthpy**.\n",
    "    * Note: the path should be relative to your earth-analytics directory in your home directory.\n",
    "2. Check that the path exists (i.e. receive a response of True from the appropriate function).\n",
    "\n",
    "Be sure to use the appropriate functions that will allow your code to run successfully on any operating system."
   ]
  },
  {
   "cell_type": "code",
   "execution_count": null,
   "metadata": {
    "deletable": false,
    "nbgrader": {
     "cell_type": "code",
     "checksum": "0a27643ce77baf7ed966c20e3fe8529f",
     "grade": true,
     "grade_id": "student-check-path-answer",
     "locked": false,
     "points": 2,
     "schema_version": 3,
     "solution": true,
     "task": false
    }
   },
   "outputs": [],
   "source": [
    "# YOUR CODE HERE\n",
    "raise NotImplementedError()"
   ]
  },
  {
   "cell_type": "markdown",
   "metadata": {
    "deletable": false,
    "editable": false,
    "nbgrader": {
     "cell_type": "markdown",
     "checksum": "210660434763d6fdfaa58ca9eb90735f",
     "grade": false,
     "grade_id": "cell-460f50aa55521eaf",
     "locked": true,
     "schema_version": 3,
     "solution": false,
     "task": false
    }
   },
   "source": [
    "<img style=\"float: left;\" src=\"colored-bar.png\"/>"
   ]
  },
  {
   "cell_type": "markdown",
   "metadata": {
    "deletable": false,
    "editable": false,
    "nbgrader": {
     "cell_type": "markdown",
     "checksum": "32a9c7be6763a7cd11425e3c9b5ad6ff",
     "grade": false,
     "grade_id": "question-import-data",
     "locked": true,
     "schema_version": 3,
     "solution": false,
     "task": false
    }
   },
   "source": [
    "## Import Data Into Pandas Dataframes\n",
    "\n",
    "In the cell below, replace `raise NotImplementedError()` with code to complete the following tasks:\n",
    "1. Import the downloaded `.csv` file into a **pandas** dataframe using the **relative path** you defined in the previous cell. \n",
    "2. Print the **only first 5 records** of the dataframe using `.head()`. "
   ]
  },
  {
   "cell_type": "code",
   "execution_count": null,
   "metadata": {
    "deletable": false,
    "nbgrader": {
     "cell_type": "code",
     "checksum": "6eb2c203f869eb16c0f9614d33bc7284",
     "grade": true,
     "grade_id": "student-import-data-answer",
     "locked": false,
     "points": 2,
     "schema_version": 3,
     "solution": true,
     "task": false
    }
   },
   "outputs": [],
   "source": [
    "# YOUR CODE HERE\n",
    "raise NotImplementedError()"
   ]
  },
  {
   "cell_type": "markdown",
   "metadata": {
    "deletable": false,
    "editable": false,
    "nbgrader": {
     "cell_type": "markdown",
     "checksum": "9341df9b44a2ad3cc94773c51db20745",
     "grade": false,
     "grade_id": "cell-97cb67dc45eae5cc",
     "locked": true,
     "schema_version": 3,
     "solution": false,
     "task": false
    }
   },
   "source": [
    "In the cell below, add the dataframe object that you created above.\n",
    "Run the cell so that the first 5 and the last 5 rows of the data frame \n",
    "render below the cell.\n",
    "\n",
    "Important: DO NOT USE `print()`, simply add the variable name below and\n",
    "run the cell!"
   ]
  },
  {
   "cell_type": "code",
   "execution_count": null,
   "metadata": {
    "deletable": false,
    "nbgrader": {
     "cell_type": "code",
     "checksum": "19b6cb71ffbca3c1d19515c12fb87742",
     "grade": false,
     "grade_id": "cell-1a57abfe266e7643",
     "locked": false,
     "schema_version": 3,
     "solution": true,
     "task": false
    }
   },
   "outputs": [],
   "source": [
    "# YOUR CODE HERE\n",
    "raise NotImplementedError()"
   ]
  },
  {
   "cell_type": "code",
   "execution_count": null,
   "metadata": {
    "deletable": false,
    "editable": false,
    "nbgrader": {
     "cell_type": "code",
     "checksum": "2a691dff0470cd2a1fd3613d859c2c3e",
     "grade": true,
     "grade_id": "cell-5093525746a3603b",
     "locked": true,
     "points": 4,
     "schema_version": 3,
     "solution": false,
     "task": false
    }
   },
   "outputs": [],
   "source": [
    "# DO NOT MODIFY THIS CELL\n",
    "student_fire_df = _\n",
    "\n",
    "ca_fires_dataframe_pts = 0\n",
    "\n",
    "# Tests that the datset is a pandas dataset\n",
    "if type(student_fire_df) == pd.DataFrame:\n",
    "    print(\"\\u2705 Great job! Your data were correctly Data read in as a DataFrame, well done!\")\n",
    "    ca_fires_dataframe_pts += 4\n",
    "else:\n",
    "    print(\n",
    "        \"\\u274C Oops. Your data is not a Dataframe. Make sure to run the cell directly \"\n",
    "        + \"above this one immediately before running these tests.\"\n",
    "    )\n",
    "    \n",
    "print(\"\\n \\u27A1 You recieved {} points out of 4\".format(ca_fires_dataframe_pts))\n",
    "\n",
    "ca_fires_dataframe_pts"
   ]
  },
  {
   "cell_type": "code",
   "execution_count": null,
   "metadata": {
    "deletable": false,
    "editable": false,
    "nbgrader": {
     "cell_type": "code",
     "checksum": "767b38b42c905caca9778b4086779c98",
     "grade": true,
     "grade_id": "cell-a7ef4c7ba3524e96",
     "locked": true,
     "points": 4,
     "schema_version": 3,
     "solution": false,
     "task": false
    }
   },
   "outputs": [],
   "source": [
    "# DO NOT MODIFY THIS CELL!"
   ]
  },
  {
   "cell_type": "markdown",
   "metadata": {
    "deletable": false,
    "editable": false,
    "nbgrader": {
     "cell_type": "markdown",
     "checksum": "32008cfed4bbab07dbc9699a19a1241e",
     "grade": false,
     "grade_id": "cell-67b1f114a2c07cc8",
     "locked": true,
     "schema_version": 3,
     "solution": false,
     "task": false
    }
   },
   "source": [
    "<img style=\"float: left;\" src=\"colored-bar.png\"/>"
   ]
  },
  {
   "cell_type": "markdown",
   "metadata": {
    "deletable": false,
    "editable": false,
    "nbgrader": {
     "cell_type": "markdown",
     "checksum": "f81acd97bb9ca0980df5e0fac20a621a",
     "grade": false,
     "grade_id": "question-info-pd",
     "locked": true,
     "schema_version": 3,
     "solution": false,
     "task": false
    }
   },
   "source": [
    "## Get Description Of Your Data's Structure\n",
    "\n",
    "In the cell below, add code **after the line for `Your Code Here`**, replacing `raise NotImplementedError()` with your code, to complete the following task:\n",
    "\n",
    "* Use the appropriate code to display general information (in particular, the number of rows and columns, column names and data types) about the dataset.\n",
    "    * Choose the code that most efficiently (i.e. with the least amount of code) accomplishes this goal. "
   ]
  },
  {
   "cell_type": "code",
   "execution_count": null,
   "metadata": {
    "deletable": false,
    "nbgrader": {
     "cell_type": "code",
     "checksum": "340165146e6e0fd81335eb94310d4335",
     "grade": true,
     "grade_id": "student-info-pd-answer",
     "locked": false,
     "points": 2,
     "schema_version": 3,
     "solution": true,
     "task": false
    }
   },
   "outputs": [],
   "source": [
    "# YOUR CODE HERE\n",
    "raise NotImplementedError()"
   ]
  },
  {
   "cell_type": "markdown",
   "metadata": {
    "deletable": false,
    "editable": false,
    "nbgrader": {
     "cell_type": "markdown",
     "checksum": "90afbecd3da8f174d703a9d5b993ce31",
     "grade": false,
     "grade_id": "question-run-calc-pandas",
     "locked": true,
     "schema_version": 3,
     "solution": false,
     "task": false
    }
   },
   "source": [
    "## Create a Column for Fire Size in Hectares\n",
    "\n",
    "In the cell below complete the following tasks:\n",
    "\n",
    "1. Create a new column in your dataframe that contains fire_size in HECTARES instead of acres. Name the column **fire_size_hectares** (HINT: hectares is a standard international unit that represents 10,000 square meters).\n",
    "Notes: \n",
    "    * 1 hectare = 2.47105 acres \n",
    "    * Hint: Think about which mathematical operation (e.g. `+`, `*`) you need to run this calculation.\n",
    "2. At the end of the cell, add the data frame object so the first 5 and last 5 rows render\n",
    "below the cell (DO NOT USE PRINT)\n"
   ]
  },
  {
   "cell_type": "code",
   "execution_count": null,
   "metadata": {
    "deletable": false,
    "nbgrader": {
     "cell_type": "code",
     "checksum": "d64d6450a9c8313fb64c77b33b04647c",
     "grade": false,
     "grade_id": "student-run-calc-pandas-answer",
     "locked": false,
     "schema_version": 3,
     "solution": true,
     "task": false
    }
   },
   "outputs": [],
   "source": [
    "# YOUR CODE HERE\n",
    "raise NotImplementedError()"
   ]
  },
  {
   "cell_type": "code",
   "execution_count": null,
   "metadata": {
    "deletable": false,
    "editable": false,
    "nbgrader": {
     "cell_type": "code",
     "checksum": "79df679184666523b77a210302904852",
     "grade": true,
     "grade_id": "cell-56fbc05cc3981967",
     "locked": true,
     "points": 2,
     "schema_version": 3,
     "solution": false,
     "task": false
    }
   },
   "outputs": [],
   "source": [
    "# DO NOT MODIFY THIS CELL\n",
    "\n",
    "modified_student_data_tail = _\n",
    "\n",
    "modified_student_data_tail_points = 0\n",
    "\n",
    "try: \n",
    "    modified_student_data_tail.fire_size_hectares\n",
    "    print(\"\\u2705 Great - You added a fire_size_hectares column to your dataframe!\")\n",
    "    modified_student_data_tail_points += 2\n",
    "except: \n",
    "    print(\"\\u274C Oops - please does a fire_size_hectares column exist in your data frame?\")\n",
    "print(\"\\n \\u27A1 You recieved {} out of 4 points\".format(modified_student_data_tail_points))\n",
    "    \n",
    "modified_student_data_tail_points"
   ]
  },
  {
   "cell_type": "code",
   "execution_count": null,
   "metadata": {
    "deletable": false,
    "editable": false,
    "nbgrader": {
     "cell_type": "code",
     "checksum": "7ac76c7794abb8bd10a0ebbce56596e5",
     "grade": true,
     "grade_id": "cell-1aabe8d19ce65194",
     "locked": true,
     "points": 5,
     "schema_version": 3,
     "solution": false,
     "task": false
    }
   },
   "outputs": [],
   "source": [
    "# DO NOT MODIFY THIS CELL\n"
   ]
  },
  {
   "cell_type": "markdown",
   "metadata": {
    "deletable": false,
    "editable": false,
    "nbgrader": {
     "cell_type": "markdown",
     "checksum": "6f6b47f2fb068aeb4a87e44e6eb40cc1",
     "grade": false,
     "grade_id": "question-summarize-pd",
     "locked": true,
     "schema_version": 3,
     "solution": false,
     "task": false
    }
   },
   "source": [
    "## Summarize Fire Size Across Entire Dataset\n",
    "\n",
    "In the cell below, add code **after the line for `Your Code Here`**, replacing `raise NotImplementedError()` with your code, to complete the following task:\n",
    "\n",
    "* Display the mean, minimum, and maximum values for fire size across the entire dataset.\n",
    "    * Choose the code that most efficiently (i.e. with the least amount of code) accomplishes this goal. "
   ]
  },
  {
   "cell_type": "code",
   "execution_count": null,
   "metadata": {
    "deletable": false,
    "nbgrader": {
     "cell_type": "code",
     "checksum": "08784c01d0d875dcfb08d479e97e6bf0",
     "grade": true,
     "grade_id": "student-summarize-pd-answer",
     "locked": false,
     "points": 5,
     "schema_version": 3,
     "solution": true,
     "task": false
    }
   },
   "outputs": [],
   "source": [
    "# YOUR CODE HERE\n",
    "raise NotImplementedError()"
   ]
  },
  {
   "cell_type": "markdown",
   "metadata": {
    "deletable": false,
    "editable": false,
    "nbgrader": {
     "cell_type": "markdown",
     "checksum": "cce7217fa197c4f71886a421c799384d",
     "grade": false,
     "grade_id": "question-groupby",
     "locked": true,
     "schema_version": 3,
     "solution": false,
     "task": false
    }
   },
   "source": [
    "## Calculate Maximum Fire Size Per Year\n",
    "\n",
    "In the cell below, add code **after the line for `Your Code Here`**, replacing `raise NotImplementedError()` with your code, to complete the following tasks:\n",
    "\n",
    "1. Calculate the maximum fire size in hectares for each year in the dataset.\n",
    "2. Save the output to a new dataframe.\n",
    "    * Choose the code that most efficiently (i.e. with the least amount of code) accomplishes this goal. \n",
    "3. IMPORTANT: call the dataframe in the last line of the cell below to ensure that the dataframe that you create prints below. Do not use the print statement! "
   ]
  },
  {
   "cell_type": "code",
   "execution_count": null,
   "metadata": {
    "deletable": false,
    "nbgrader": {
     "cell_type": "code",
     "checksum": "b7b970135e17aa1b44e1df3b7a81ec79",
     "grade": false,
     "grade_id": "student-groupby-answer",
     "locked": false,
     "schema_version": 3,
     "solution": true,
     "task": false
    }
   },
   "outputs": [],
   "source": [
    "# YOUR CODE HERE\n",
    "raise NotImplementedError()"
   ]
  },
  {
   "cell_type": "code",
   "execution_count": null,
   "metadata": {
    "deletable": false,
    "editable": false,
    "nbgrader": {
     "cell_type": "code",
     "checksum": "ba3970b1aaad3df8f9906a01a7eb184e",
     "grade": true,
     "grade_id": "cell-db940c2b49d7608f",
     "locked": true,
     "points": 12,
     "schema_version": 3,
     "solution": false,
     "task": false
    }
   },
   "outputs": [],
   "source": [
    "# DO NOT MODIFY THIS CELL\n"
   ]
  },
  {
   "cell_type": "markdown",
   "metadata": {
    "deletable": false,
    "editable": false,
    "nbgrader": {
     "cell_type": "markdown",
     "checksum": "c078f7f1f714a4329c5b3f209052c8a9",
     "grade": false,
     "grade_id": "question-reset-index",
     "locked": true,
     "schema_version": 3,
     "solution": false,
     "task": false
    }
   },
   "source": [
    "## Reset Index in Pandas Dataframe\n",
    "\n",
    "In the cell below, add code **after the line for `Your Code Here`**, replacing `raise NotImplementedError()` with your code, to complete the following task:\n",
    "1. Reset the index of the dataframe created in the previous question (i.e. return row index to range starting at [0]). \n",
    "    * Use the appropriate code so that you **do not have to create a new pandas dataframe.** "
   ]
  },
  {
   "cell_type": "code",
   "execution_count": null,
   "metadata": {
    "deletable": false,
    "nbgrader": {
     "cell_type": "code",
     "checksum": "a310053f474f93930c028b3ca8b5e493",
     "grade": false,
     "grade_id": "student-reset-index-answer",
     "locked": false,
     "schema_version": 3,
     "solution": true,
     "task": false
    }
   },
   "outputs": [],
   "source": [
    "# YOUR CODE HERE\n",
    "raise NotImplementedError()"
   ]
  },
  {
   "cell_type": "code",
   "execution_count": null,
   "metadata": {
    "deletable": false,
    "editable": false,
    "nbgrader": {
     "cell_type": "code",
     "checksum": "d7a0ec6eac10443430b4cae728502014",
     "grade": true,
     "grade_id": "index-reset-tests",
     "locked": true,
     "points": 12,
     "schema_version": 3,
     "solution": false,
     "task": false
    }
   },
   "outputs": [],
   "source": [
    "# DO NOT MODIFY THIS CELL\n"
   ]
  },
  {
   "cell_type": "markdown",
   "metadata": {
    "deletable": false,
    "editable": false,
    "nbgrader": {
     "cell_type": "markdown",
     "checksum": "c545a96464cf3850d9530e0953544b30",
     "grade": false,
     "grade_id": "cell-88c9f3b6840805f8",
     "locked": true,
     "schema_version": 3,
     "solution": false,
     "task": false
    }
   },
   "source": [
    "<img style=\"float: left;\" src=\"colored-bar.png\"/>"
   ]
  },
  {
   "cell_type": "markdown",
   "metadata": {
    "deletable": false,
    "editable": false,
    "nbgrader": {
     "cell_type": "markdown",
     "checksum": "abedf626e293bd74e98a1ed49e303cb9",
     "grade": false,
     "grade_id": "question-plot",
     "locked": true,
     "schema_version": 3,
     "solution": false
    }
   },
   "source": [
    "## Create Figure From Columns in Pandas Dataframe\n",
    "\n",
    "In the cell below, complete the following task:\n",
    "\n",
    "* Create a figure with two subplots. Each subplot should use the `.plot()` function and should contain a point for each datapoint and a line that connects the points to represent trends. \n",
    "\n",
    "1. The first subplot should contain **maximum fire size per year**.\n",
    "2. The second plot in your figure should contain **mean fire size per year**\n",
    "\n",
    "* Be sure to include an appropriate title and axes labels including units of measurement where appropriate. \n",
    "\n",
    "For your title and labels, be sure to think about the following pieces of information that could help someone easily interpret the plot:\n",
    "* geographic coverage or extent of data.\n",
    "* duration or temporal extent of the data.\n",
    "* what was actually measured and/or represented by the data.\n",
    "* units of measurement.\n",
    "\n",
    "**Request for our autograder:** please comment out the code line `plt.show()` in your plot code like this: `# plt.show()`. If you do not comment out that code line, you may see an extra empty plot underneath your desired figure. "
   ]
  },
  {
   "cell_type": "code",
   "execution_count": null,
   "metadata": {
    "deletable": false,
    "nbgrader": {
     "cell_type": "code",
     "checksum": "85716f19fe45480462b8bc1b470dec68",
     "grade": false,
     "grade_id": "student-create-plot-1-answer",
     "locked": false,
     "schema_version": 3,
     "solution": true,
     "task": false
    }
   },
   "outputs": [],
   "source": [
    "# DO NOT MODIFY THIS CELL!\n",
    "# YOUR CODE HERE\n",
    "raise NotImplementedError()\n",
    "\n",
    "### DO NOT REMOVE LINE BELOW ###\n",
    "ts_1_plot = nb.convert_axes(plt, which_axes=\"all\")"
   ]
  },
  {
   "cell_type": "code",
   "execution_count": null,
   "metadata": {
    "deletable": false,
    "editable": false,
    "nbgrader": {
     "cell_type": "code",
     "checksum": "11903a8db6b7384be2009ef6e83722e6",
     "grade": true,
     "grade_id": "cell-a4b45b71c3a479b6",
     "locked": true,
     "points": 12,
     "schema_version": 3,
     "solution": false,
     "task": false
    }
   },
   "outputs": [],
   "source": [
    "# DO NO MODIFY THIS CELL\n"
   ]
  },
  {
   "cell_type": "markdown",
   "metadata": {
    "deletable": false,
    "editable": false,
    "nbgrader": {
     "cell_type": "markdown",
     "checksum": "cbb054d307d943d0e2f3cbd556292dd9",
     "grade": false,
     "grade_id": "cell-7f788bfc379b83e8",
     "locked": true,
     "schema_version": 3,
     "solution": false,
     "task": false
    }
   },
   "source": [
    "## Group DataFrame by Two Columns\n",
    "\n",
    "You can group a dataframe by two (or more) columns using the syntax:\n",
    "```\n",
    "dataframe.groupby([\"column1-name\",\"column2-name\"])\n",
    "```\n",
    "\n",
    "In the cell below, calculate the max fire size in hectares for each year  and \n",
    "grouped by the `cause` column. At the end of the cell, be sure to add the \n",
    "output dataframe so the first and last 5 rows print below (do not use the print()) \n",
    "statement! Just call the variable at the end of the cell.\n",
    "\n",
    "Your final dataframe will look something like this:\n",
    "\n",
    "```\n",
    " \t\t      fire_size_hectares\n",
    "year \tcause \t\n",
    "1992 \tArson \t25899.921086\n",
    "```"
   ]
  },
  {
   "cell_type": "code",
   "execution_count": null,
   "metadata": {
    "deletable": false,
    "nbgrader": {
     "cell_type": "code",
     "checksum": "945fd5e12d7075bb7d1785e169104cb9",
     "grade": false,
     "grade_id": "cell-999afc5ac2484d8f",
     "locked": false,
     "schema_version": 3,
     "solution": true,
     "task": false
    }
   },
   "outputs": [],
   "source": [
    "# YOUR CODE HERE\n",
    "raise NotImplementedError()"
   ]
  },
  {
   "cell_type": "code",
   "execution_count": null,
   "metadata": {
    "deletable": false,
    "editable": false,
    "nbgrader": {
     "cell_type": "code",
     "checksum": "39f55155f07afc0f06c47733322588c6",
     "grade": true,
     "grade_id": "cell-705037589c745712",
     "locked": true,
     "points": 0,
     "schema_version": 3,
     "solution": false,
     "task": false
    }
   },
   "outputs": [],
   "source": [
    "# DO NOT MODIFY THIS CELL!\n",
    "fire_by_cause = _\n",
    "\n",
    "# Tests that the datset is a pandas dataset\n",
    "if type(fire_by_cause) == pd.DataFrame:\n",
    "    print(\"\\u2705 Great job! Your data were correctly Data read in as a DataFrame, well done!\")\n",
    "else:\n",
    "    print(\n",
    "        \"\\u274C Oops. Your data is not a Dataframe. Make sure to run the cell directly \"\n",
    "        + \"above this one immediately before running these tests.\"\n",
    "    )\n",
    "    \n",
    "print(\"\\n \\u27A1 This is just a test cell to ensure you created a dataframe above!\")\n",
    "\n",
    "fire_by_cause"
   ]
  },
  {
   "cell_type": "code",
   "execution_count": null,
   "metadata": {
    "deletable": false,
    "editable": false,
    "nbgrader": {
     "cell_type": "code",
     "checksum": "01a245ef3f146304e2997174822cbc00",
     "grade": true,
     "grade_id": "cell-29e87ca0f710c98d",
     "locked": true,
     "points": 5,
     "schema_version": 3,
     "solution": false,
     "task": false
    }
   },
   "outputs": [],
   "source": [
    "# DO NOT MODIFY THIS CELL!\n"
   ]
  },
  {
   "cell_type": "markdown",
   "metadata": {
    "deletable": false,
    "editable": false,
    "nbgrader": {
     "cell_type": "markdown",
     "checksum": "f1949355f1317ef67d84740a0baa5d87",
     "grade": false,
     "grade_id": "question-explain-plot",
     "locked": true,
     "schema_version": 3,
     "solution": false
    }
   },
   "source": [
    "## Explain Your Data and Plot\n",
    "\n",
    "In the Markdown cell below, answer the following questions about your data and plot using any kind of Markdown list.\n",
    "\n",
    "1. Does the maximum size of fires appear to be increasing over time in California? Explain your answer using the plot.\n",
    "\n",
    "2. Are the year tick marks in your plot being generated from text strings or numeric data? Explain your answer using the dataset and/or plot. \n",
    "\n",
    "3. According to this dataset, how many fires greater than 100 acres occurred between 1992 and 2015 in California? Explain your answer using the dataset.\n",
    "\n",
    "Remove any existing text in the cell before adding your answer."
   ]
  },
  {
   "cell_type": "markdown",
   "metadata": {
    "deletable": false,
    "nbgrader": {
     "cell_type": "markdown",
     "checksum": "4f3a73fe0c1712974c44d8531307384b",
     "grade": true,
     "grade_id": "student-explain-plot-answer",
     "locked": false,
     "points": 10,
     "schema_version": 3,
     "solution": true
    }
   },
   "source": [
    "YOUR ANSWER HERE"
   ]
  },
  {
   "cell_type": "markdown",
   "metadata": {
    "deletable": false,
    "editable": false,
    "nbgrader": {
     "cell_type": "markdown",
     "checksum": "98ba1484c4901e36ffd760a988fc83f3",
     "grade": false,
     "grade_id": "cell-67457fd35a504a90",
     "locked": true,
     "schema_version": 3,
     "solution": false,
     "task": false
    }
   },
   "source": [
    "<img style=\"float: left;\" src=\"colored-bar.png\"/>"
   ]
  },
  {
   "cell_type": "markdown",
   "metadata": {
    "deletable": false,
    "editable": false,
    "nbgrader": {
     "cell_type": "markdown",
     "checksum": "f5761d873ac214f3c4b311021344fb07",
     "grade": false,
     "grade_id": "question-explain-pep-8",
     "locked": true,
     "schema_version": 3,
     "solution": false,
     "task": false
    }
   },
   "source": [
    "## Discuss Your Workflow\n",
    "\n",
    "In the Markdown cell below, answer the following questions using any kind of Markdown list.\n",
    "\n",
    "1. Explain why this notebook asks you to reset the index of the dataframe with the maximum fire size per year *before* you plot the data.   \n",
    "\n",
    "Remove any existing text in the cell before adding your answer."
   ]
  },
  {
   "cell_type": "markdown",
   "metadata": {
    "deletable": false,
    "nbgrader": {
     "cell_type": "markdown",
     "checksum": "7a66815bf18d4c139714e072691069cb",
     "grade": true,
     "grade_id": "student-explain-pep-8",
     "locked": false,
     "points": 5,
     "schema_version": 3,
     "solution": true,
     "task": false
    }
   },
   "source": [
    "YOUR ANSWER HERE"
   ]
  },
  {
   "cell_type": "markdown",
   "metadata": {
    "deletable": false,
    "editable": false,
    "nbgrader": {
     "cell_type": "markdown",
     "checksum": "c18048ce04abdf042181b18f1363b421",
     "grade": false,
     "grade_id": "cell-c9fedb63ea1af0bc",
     "locked": true,
     "schema_version": 3,
     "solution": false,
     "task": false
    }
   },
   "source": [
    "<img style=\"float: left;\" src=\"colored-bar.png\"/>"
   ]
  },
  {
   "cell_type": "markdown",
   "metadata": {
    "deletable": false,
    "editable": false,
    "nbgrader": {
     "cell_type": "markdown",
     "checksum": "17862c99428896ecb8cc849123ea4fba",
     "grade": false,
     "grade_id": "cell-2a99d3880f0ed8a8",
     "locked": true,
     "points": 12,
     "schema_version": 3,
     "solution": false,
     "task": true
    }
   },
   "source": [
    "## Pep 8, Spelling and Does the Notebook Run?\n",
    "In this cell, we will give you points for the following\n",
    "\n",
    "1. PEP 8 is followed throughout the notebook (4 points)\n",
    "2. Spelling and grammar are considered in your written responses above (4 points)\n",
    "3. The notebook runs from top to bottom without any editing (it is reproducible) - 4 points"
   ]
  }
 ],
 "metadata": {
  "kernelspec": {
   "display_name": "Python 3",
   "language": "python",
   "name": "python3"
  },
  "language_info": {
   "codemirror_mode": {
    "name": "ipython",
    "version": 3
   },
   "file_extension": ".py",
   "mimetype": "text/x-python",
   "name": "python",
   "nbconvert_exporter": "python",
   "pygments_lexer": "ipython3",
   "version": "3.8.5"
  },
  "toc": {
   "base_numbering": 1,
   "nav_menu": {},
   "number_sections": true,
   "sideBar": true,
   "skip_h1_title": false,
   "title_cell": "Table of Contents",
   "title_sidebar": "Contents",
   "toc_cell": false,
   "toc_position": {},
   "toc_section_display": true,
   "toc_window_display": true
  },
  "varInspector": {
   "cols": {
    "lenName": 16,
    "lenType": 16,
    "lenVar": 40
   },
   "kernels_config": {
    "python": {
     "delete_cmd_postfix": "",
     "delete_cmd_prefix": "del ",
     "library": "var_list.py",
     "varRefreshCmd": "print(var_dic_list())"
    },
    "r": {
     "delete_cmd_postfix": ") ",
     "delete_cmd_prefix": "rm(",
     "library": "var_list.r",
     "varRefreshCmd": "cat(var_dic_list()) "
    }
   },
   "types_to_exclude": [
    "module",
    "function",
    "builtin_function_or_method",
    "instance",
    "_Feature"
   ],
   "window_display": false
  }
 },
 "nbformat": 4,
 "nbformat_minor": 2
}
