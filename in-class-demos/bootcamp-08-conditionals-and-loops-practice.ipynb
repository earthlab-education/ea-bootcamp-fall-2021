{
 "cells": [
  {
   "cell_type": "code",
   "execution_count": null,
   "metadata": {},
   "outputs": [],
   "source": [
    "# Import necessary packages\n",
    "import os\n",
    "from glob import glob\n",
    "\n",
    "import numpy as np\n",
    "import matplotlib.pyplot as plt\n",
    "import seaborn as sns\n",
    "import earthpy as et"
   ]
  },
  {
   "cell_type": "markdown",
   "metadata": {},
   "source": [
    "# Conditional statements"
   ]
  },
  {
   "cell_type": "code",
   "execution_count": null,
   "metadata": {},
   "outputs": [],
   "source": [
    "# Pseudocode WILL NOT ACTUALLY RUN!\n",
    "if condition: \n",
    "    print(\"Condition is true, and this statement is printed.\") \n",
    "else: \n",
    "    print(\"Condition is false (i.e. not true), so a different statement is printed.\") "
   ]
  },
  {
   "cell_type": "markdown",
   "metadata": {},
   "source": [
    "### Compare values using a conditional statement"
   ]
  },
  {
   "cell_type": "code",
   "execution_count": null,
   "metadata": {},
   "outputs": [],
   "source": [
    "# Set x to 10\n",
    "x = 10\n",
    "#x = 0\n",
    "\n",
    "# Compare x to 10\n",
    "if x == 10:\n",
    "    print(\"x is equal to 10.\")    \n",
    "else:\n",
    "    print(\"x has a value of\", x, \"which is not equal to 10.\")   "
   ]
  },
  {
   "cell_type": "code",
   "execution_count": null,
   "metadata": {},
   "outputs": [],
   "source": [
    "# Create y equal to -10\n",
    "y = -10\n",
    "#y = 100\n",
    "\n",
    "# Check whether x is greater than y\n",
    "if x > y:\n",
    "    print(\"x has a value of\", x, \"which is greater than\", y)\n",
    "else:\n",
    "    print(\"x has a value of\", x, \"which is less than\", y) "
   ]
  },
  {
   "cell_type": "markdown",
   "metadata": {},
   "source": [
    "### Check for values using conditional statements"
   ]
  },
  {
   "cell_type": "code",
   "execution_count": null,
   "metadata": {},
   "outputs": [],
   "source": [
    "# Create list of average monthly precip (inches) in Boulder, CO\n",
    "# Then try with a value not in the list\n",
    "avg_monthly_precip = [0.70,  0.75, 1.85, 2.93, 3.05, 2.02, \n",
    "                      1.93, 1.62, 1.84, 1.31, 1.39, 0.84]\n",
    "\n",
    "# Check for value 0.70 in list\n",
    "if 0.70 in avg_monthly_precip:\n",
    "    print(\"Value is in list.\")\n",
    "else:     \n",
    "    print(\"Value is not in list.\")"
   ]
  },
  {
   "cell_type": "code",
   "execution_count": null,
   "metadata": {},
   "outputs": [],
   "source": [
    "# Check that value 0.71 not in list\n",
    "# Then try with a value in the list\n",
    "if 0.71 not in avg_monthly_precip:\n",
    "    print(\"Value is not in list.\")\n",
    "else:     \n",
    "    print(\"Value is in list.\")"
   ]
  },
  {
   "cell_type": "markdown",
   "metadata": {},
   "source": [
    "**This also works with strings**"
   ]
  },
  {
   "cell_type": "code",
   "execution_count": null,
   "metadata": {},
   "outputs": [],
   "source": [
    "# Check for string \"precip\" within text string \"avg_monthly_temp\"\n",
    "# Then change avg_monthly_temp -> avg_monthly_precip\n",
    "if \"precip\" in \"avg_monthly_temp\":\n",
    "    print(\"This textstring contains the word precip.\")\n",
    "    \n",
    "else:\n",
    "    print(\"This textstring does not contain the word precip.\")"
   ]
  },
  {
   "cell_type": "markdown",
   "metadata": {},
   "source": [
    "**This works with type checking**"
   ]
  },
  {
   "cell_type": "code",
   "execution_count": null,
   "metadata": {},
   "outputs": [],
   "source": [
    "# Set x to 0\n",
    "x = 0\n",
    "#x = 3.14\n",
    "#x = 'Hello world!'\n",
    "#x = [\"Jan\", \"Feb\", \"Mar\", \"Apr\", \"May\", \"June\"]\n",
    "         \n",
    "\n",
    "\n",
    "# Check if x is type integer\n",
    "if type(x) is int:\n",
    "    print(x, \"is an integer.\")\n",
    "else:\n",
    "    print(x, \"is not an integer.\")\n",
    "    \n",
    "# Check if x is type float\n",
    "if type(x) is float:\n",
    "    print(x, \"is a float.\")\n",
    "else:\n",
    "    print(x, \"is not a float.\")\n",
    "\n",
    "# Check if x is not type string\n",
    "if type(x) is not str:\n",
    "    print(x, \"is not a string.\")\n",
    "else:\n",
    "    print(x, \"is a string.\")\n",
    "\n",
    "if type(x) is list:\n",
    "    print(\"Object is a list.\")\n",
    "else:\n",
    "    print(\"Object is not a list.\")\n"
   ]
  },
  {
   "cell_type": "markdown",
   "metadata": {},
   "source": [
    "**Something more useful**"
   ]
  },
  {
   "cell_type": "code",
   "execution_count": null,
   "metadata": {},
   "outputs": [],
   "source": [
    "# Avg monthly precip (inches) of Boulder, CO for 1-d array\n",
    "avg_month_precip_url = 'https://ndownloader.figshare.com/files/12565616'\n",
    "et.data.get_data(url=avg_month_precip_url)"
   ]
  },
  {
   "cell_type": "code",
   "execution_count": null,
   "metadata": {},
   "outputs": [],
   "source": [
    "# Set working directory to earth-analytics\n",
    "os.chdir(os.path.join(et.io.HOME, 'earth-analytics'))"
   ]
  },
  {
   "cell_type": "code",
   "execution_count": null,
   "metadata": {},
   "outputs": [],
   "source": [
    "# Path relative to working directory\n",
    "avg_month_precip_path = os.path.join(\"data\", \"earthpy-downloads\", \n",
    "                                     \"avg-monthly-precip.txt\")"
   ]
  },
  {
   "cell_type": "code",
   "execution_count": null,
   "metadata": {},
   "outputs": [],
   "source": [
    "# Check path exists before trying to load the data\n",
    "if os.path.exists(avg_month_precip_path):\n",
    "    avg_month_precip = np.loadtxt(avg_month_precip_path)\n",
    "    print(avg_month_precip)\n",
    "else:\n",
    "    print(\"ERROR: This path does not exist.\")"
   ]
  },
  {
   "cell_type": "markdown",
   "metadata": {},
   "source": [
    "## Multiple Conditionals"
   ]
  },
  {
   "cell_type": "code",
   "execution_count": null,
   "metadata": {},
   "outputs": [],
   "source": [
    "# Pseudocode WILL NOT ACTUALLY RUN!\n",
    "if condition:\n",
    "    print(\"First condition is true.\")\n",
    "elif alternative_condition:\n",
    "    print(\"First condition is not true but alternative condition is true.\")\n",
    "else:\n",
    "    print(\"Neither of these conditions is true, so this statement is printed.\")"
   ]
  },
  {
   "cell_type": "code",
   "execution_count": null,
   "metadata": {},
   "outputs": [],
   "source": [
    "# Set x equal to 5 and y equal to 10\n",
    "x = 5\n",
    "y = 10\n",
    "#x = 15\n",
    "#x = 10\n",
    "\n",
    "# Execute code based on comparison of x to y\n",
    "if x < y:\n",
    "    print(\"x started with value of\", x)\n",
    "    x += 5\n",
    "    print(\"It now has a value of\", x, \"which is equal to y.\")\n",
    "\n",
    "elif x > y:\n",
    "    print(\"x started with value of\", x)\n",
    "    x -= 5\n",
    "    print(\"It now has a value of\", x, \"which is equal to y.\")\n",
    "\n",
    "else:\n",
    "    print(\"x started with a value of\", x, \"which is already equal to y.\")"
   ]
  },
  {
   "cell_type": "markdown",
   "metadata": {},
   "source": [
    "## Conditional Statements With Combinations of Conditions (and, or, not)\n",
    "**Check for Two Conditions using *and***"
   ]
  },
  {
   "cell_type": "code",
   "execution_count": null,
   "metadata": {},
   "outputs": [],
   "source": [
    "# Set x equal to 5 and y equal to 10\n",
    "x = 5\n",
    "y = 10\n",
    "#x = 5.1\n",
    "\n",
    "# Add x and y if they are both integers\n",
    "if type(x) is int and type(y) is int:\n",
    "    print(x + y)\n",
    "else:\n",
    "    print(\"Either x or y is not an integer.\")"
   ]
  },
  {
   "cell_type": "markdown",
   "metadata": {},
   "source": [
    "**Check for Either Condition using *or***"
   ]
  },
  {
   "cell_type": "code",
   "execution_count": null,
   "metadata": {},
   "outputs": [],
   "source": [
    "# Set x equal to 0 and y equal to 10\n",
    "x = 0\n",
    "y = 10\n",
    "\n",
    "# Check whether either is equal to zero\n",
    "if x == 0 or y == 0:\n",
    "    print(\"Either x or y is equal to 0.\")\n",
    "    x += 1\n",
    "    y += 1\n",
    "    print(\"x is now\", x, \"and y is now\", y)\n",
    "\n",
    "else:\n",
    "    print(\"Neither x nor y is equal to 0.\")"
   ]
  },
  {
   "cell_type": "markdown",
   "metadata": {},
   "source": [
    "# Loops"
   ]
  },
  {
   "cell_type": "markdown",
   "metadata": {},
   "source": [
    "**For loops:**"
   ]
  },
  {
   "cell_type": "code",
   "execution_count": null,
   "metadata": {},
   "outputs": [],
   "source": [
    "# Pseudocode for loop WILL NOT ACTUALLY RUN\n",
    "item_list = [item_1, item_2, item_3]\n",
    "\n",
    "for i in item_list:\n",
    "    execute some code here"
   ]
  },
  {
   "cell_type": "markdown",
   "metadata": {},
   "source": [
    "**Iterate over a list**"
   ]
  },
  {
   "cell_type": "code",
   "execution_count": null,
   "metadata": {},
   "outputs": [],
   "source": [
    "# Create list of integers\n",
    "num_list = [12, 5, 136, 47]\n",
    "\n",
    "# For each item in list, add 10 and print new value\n",
    "for i in num_list:\n",
    "    i *= 25.4\n",
    "    print(i)"
   ]
  },
  {
   "cell_type": "code",
   "execution_count": null,
   "metadata": {},
   "outputs": [],
   "source": [
    "for c in \"Hello world\":\n",
    "    print(c)"
   ]
  },
  {
   "cell_type": "code",
   "execution_count": null,
   "metadata": {},
   "outputs": [],
   "source": [
    "for i in range(0,10):\n",
    "    print(2**i)"
   ]
  },
  {
   "cell_type": "markdown",
   "metadata": {},
   "source": [
    "**While loops:**"
   ]
  },
  {
   "cell_type": "code",
   "execution_count": null,
   "metadata": {},
   "outputs": [],
   "source": [
    "# Pseudocode while loop THIS WILL NOT ACTUALLY RUN\n",
    "while condition:\n",
    "    execute some code here"
   ]
  },
  {
   "cell_type": "code",
   "execution_count": null,
   "metadata": {},
   "outputs": [],
   "source": [
    "# Set x equal to 0\n",
    "x = 0\n",
    "\n",
    "# Add 1 to x until x is no longer less than 10\n",
    "while x < 10:\n",
    "    x += 1\n",
    "    print(x)"
   ]
  },
  {
   "cell_type": "code",
   "execution_count": null,
   "metadata": {},
   "outputs": [],
   "source": [
    "# Set x equal to 1\n",
    "x = 1\n",
    "\n",
    "# Add 1 to x, while x is between 1 and 5\n",
    "while x in range(1, 5):\n",
    "    x += 1\n",
    "    print(x)"
   ]
  },
  {
   "cell_type": "markdown",
   "metadata": {},
   "source": [
    "# Sample workflow bringing it together"
   ]
  },
  {
   "cell_type": "code",
   "execution_count": null,
   "metadata": {},
   "outputs": [],
   "source": [
    "# Set working directory\n",
    "os.chdir(os.path.join(et.io.HOME, 'earth-analytics'))"
   ]
  },
  {
   "cell_type": "code",
   "execution_count": null,
   "metadata": {},
   "outputs": [],
   "source": [
    "# Data URLs\n",
    "annual_precip_url = 'https://ndownloader.figshare.com/files/12799931'\n",
    "month_names_url = 'https://ndownloader.figshare.com/files/12565619'\n",
    "\n",
    "urls = [annual_precip_url, month_names_url]\n",
    "\n",
    "# Download data\n",
    "for file_url in urls:\n",
    "    et.data.get_data(url=file_url)"
   ]
  },
  {
   "cell_type": "code",
   "execution_count": null,
   "metadata": {},
   "outputs": [],
   "source": [
    "data_path = os.path.join(\"data\",\"earthpy-downloads\",\"monthly-precip-mm-1998-to-2017.csv\")\n",
    "months_path = os.path.join(\"data\",\"earthpy-downloads\",\"months.txt\")\n",
    "\n",
    "# Check for files and then load data files for plot\n",
    "if os.path.exists(data_path) and os.path.exists(months_path):\n",
    "    boulder_annual_precip_mm = np.loadtxt(data_path, delimiter=\",\")\n",
    "    print(boulder_annual_precip_mm.shape)\n",
    "    months = np.loadtxt(months_path,'str')\n",
    "    print(months)\n",
    "else:\n",
    "    print(\"Data file not found!\")"
   ]
  },
  {
   "cell_type": "code",
   "execution_count": null,
   "metadata": {},
   "outputs": [],
   "source": [
    "# Define plot space\n",
    "fig, ax = plt.subplots(figsize=(15, 10))\n",
    "\n",
    "# Set up plot variables\n",
    "plot_years = [*range(1998, 2018, 1)] \n",
    "plot_colors = sns.color_palette(\"mako\", n_colors=len(plot_years))\n",
    "\n",
    "\n",
    "for ayear, acolor, annual_precip in zip(plot_years, plot_colors, boulder_annual_precip_mm):\n",
    "    ax.plot(months,\n",
    "            annual_precip,\n",
    "            label=\"plot_years\",\n",
    "            color=acolor)\n",
    "\n",
    "# Set plot title and axes labels\n",
    "ax.set(title=\"Average Monthly Precip (mm) 1998-2017\",\n",
    "       xlabel=\"Month\",\n",
    "       ylabel=\"Precipitation (mm)\")\n",
    "\n",
    "# Set Legend\n",
    "plt.legend(plot_years, title=\"Legend\", loc='best')\n",
    "\n",
    "plt.show()"
   ]
  },
  {
   "cell_type": "markdown",
   "metadata": {},
   "source": [
    "## Using Glob"
   ]
  },
  {
   "cell_type": "code",
   "execution_count": null,
   "metadata": {},
   "outputs": [],
   "source": [
    "# Download data on average monthly temp for two California sites\n",
    "file_url = \"https://ndownloader.figshare.com/files/21894528\"\n",
    "data_path = et.data.get_data(url=file_url)\n",
    "data_path\n",
    "\n",
    "# Set working directory to earth-analytics\n",
    "os.chdir(os.path.join(et.io.HOME,\n",
    "                      \"earth-analytics\",\n",
    "                      \"data\",\n",
    "                      \"earthpy-downloads\"))"
   ]
  },
  {
   "cell_type": "code",
   "execution_count": null,
   "metadata": {},
   "outputs": [],
   "source": [
    "# List directories for the data\n",
    "os.listdir(data_path)"
   ]
  },
  {
   "cell_type": "code",
   "execution_count": null,
   "metadata": {},
   "outputs": [],
   "source": [
    "# Print all dirs found by glob\n",
    "data_dirs = os.path.join(data_path, \"*\")\n",
    "all_dirs = glob(data_dirs)\n",
    "\n",
    "for a_dir in all_dirs:\n",
    "    all_files = os.path.join(a_dir, \"*\")\n",
    "    file_list = glob(all_files)\n",
    "    print(file_list)"
   ]
  },
  {
   "cell_type": "markdown",
   "metadata": {},
   "source": [
    "## In-Class Exercises:\n",
    "\n",
    "#### Complete <a href=\"https://www.earthdatascience.org/courses/intro-to-earth-data-science/write-efficient-python-code/loops/loops-exercise/\" target=\"_blank\">Lesson 5. Loops in Python Exercise</a>\n",
    "\n",
    "As part of Bonus Challenge 1, plot the data like we did above. You can either create one plot for each location or combine them however you think works best. \n",
    "\n",
    "Extract the year and location from the file names.\n",
    "Hint: probably the easiest way to extract the year is to index from the end of the string given that the filename always ends in 'YYYY-temp.csv'.\n",
    "\n",
    "For location you could use a conditional to check for either of the two locations.\n",
    "\n",
    "This is an opportunity to play with nested loops and conditionals as part of your workflow.\n"
   ]
  },
  {
   "cell_type": "code",
   "execution_count": null,
   "metadata": {},
   "outputs": [],
   "source": []
  }
 ],
 "metadata": {
  "kernelspec": {
   "display_name": "Python 3",
   "language": "python",
   "name": "python3"
  },
  "language_info": {
   "codemirror_mode": {
    "name": "ipython",
    "version": 3
   },
   "file_extension": ".py",
   "mimetype": "text/x-python",
   "name": "python",
   "nbconvert_exporter": "python",
   "pygments_lexer": "ipython3",
   "version": "3.8.5"
  }
 },
 "nbformat": 4,
 "nbformat_minor": 4
}
