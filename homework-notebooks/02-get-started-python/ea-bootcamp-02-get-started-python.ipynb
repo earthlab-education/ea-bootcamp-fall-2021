{
 "cells": [
  {
   "cell_type": "markdown",
   "metadata": {},
   "source": [
    "<img style=\"float: left;\" src=\"earth-lab-logo-rgb.png\" width=\"150\" height=\"150\" />\n",
    "\n",
    "# Earth Analytics Education - Bootcamp Course Fall 2020"
   ]
  },
  {
   "cell_type": "markdown",
   "metadata": {},
   "source": [
    "### Important !! \n",
    "Before you turn in your assignment, make sure to run the entire notebook with a fresh kernel. To do this:\n",
    "\n",
    "* First, **restart the kernel** (in the menubar, select Kernel$\\rightarrow$Restart & Run All) and then \n",
    "\n",
    "In the cells below you will see the following\n",
    "For each code cell, you will replace the `raise NotImplementedError()` code with your code that addresses the activity challenge. \n",
    "```\n",
    "# YOUR CODE HERE\n",
    "raise NotImplementedError()\n",
    "```\n",
    "\n",
    "\n",
    "Any open ended questions will have a \"YOUR ANSWER HERE\" within a markdown cell. Replace that text with your answer also formatted using Markdown."
   ]
  },
  {
   "cell_type": "markdown",
   "metadata": {},
   "source": [
    "---"
   ]
  },
  {
   "cell_type": "markdown",
   "metadata": {
    "deletable": false,
    "editable": false,
    "nbgrader": {
     "cell_type": "markdown",
     "checksum": "170fed19ead9f0a684aef9b5be29503f",
     "grade": false,
     "grade_id": "hw-instructions",
     "locked": true,
     "schema_version": 3,
     "solution": false
    }
   },
   "source": [
    "# Week 2 Homework\n",
    "\n",
    "Prior to starting assignment 2, be sure you have read the following chapters of the Introduction to Earth Data Science online textbook. \n",
    "\n",
    "* **Chapter 10 from Section 4** <a href=\"https://www.earthdatascience.org/courses/intro-to-earth-data-science/python-code-fundamentals/get-started-using-python/lists/\" target=\"_blank\">Chapter 10 - Introduction to PythonIntro to Earth Data Science</a>\n",
    "* **Chapter 11 from Section 4** <a href=\"https://www.earthdatascience.org/courses/intro-to-earth-data-science/python-code-fundamentals/use-python-packages/\" target=\"_blank\">Chapter 11 - Python Packages and Environments</a>\n",
    "* **Chapter 16 from Section 7** <a href=\"https://www.earthdatascience.org/courses/intro-to-earth-data-science/write-efficient-python-code/intro-to-clean-code/\" target=\"_blank\">Chapter 16 - Introduction to Clean Code</a>\n",
    "\n",
    "These chapters cover:\n",
    "\n",
    "* how to create and work with variables and lists \n",
    "* more background on python packages and environments\n",
    "* how to write clean code, including an introduction to the PEP 8 style guide for **Python**.   \n",
    "\n",
    "## Important - Please Read Each Cell Carefully and Complete the Entire Assignment\n",
    "\n",
    "Read the instructions below for each question carefully. Then complete the required tasks.\n",
    "\n",
    "As you complete this assignment, be sure to:\n",
    "\n",
    "1. use clear and expressive names for variables\n",
    "2. organize your code to support readability\n",
    "3. follow pep 8 standards for code syntax \n",
    "\n",
    "We will grade the quality of your code! \n",
    "\n",
    "The PEP 8 tool in Jupyter may help you with checking syntax. \n",
    "\n",
    "### How To Turn On Scratchpad and the PEP 8 Tool in Jupyter\n",
    "<img style=\"float: left;\" src=\"turn-on-scratchpad.gif\"/>\n"
   ]
  },
  {
   "cell_type": "code",
   "execution_count": null,
   "metadata": {
    "deletable": false,
    "editable": false,
    "nbgrader": {
     "cell_type": "code",
     "checksum": "433eb1ba5f2df96e23416bde4bf6b61b",
     "grade": false,
     "grade_id": "core-imports",
     "locked": true,
     "schema_version": 3,
     "solution": false
    }
   },
   "outputs": [],
   "source": [
    "# DO NOT MODIFY THIS CELL - imports needed for grading\n",
    "import matplotcheck.notebook as nb\n",
    "import matplotcheck.timeseries as ts"
   ]
  },
  {
   "cell_type": "markdown",
   "metadata": {},
   "source": [
    "<img style=\"float: left;\" src=\"colored-bar.png\"/>"
   ]
  },
  {
   "cell_type": "markdown",
   "metadata": {
    "deletable": false,
    "editable": false,
    "nbgrader": {
     "cell_type": "markdown",
     "checksum": "37ec1ac7bc9828d5bcd5f2d530e20904",
     "grade": false,
     "grade_id": "question-student-imports",
     "locked": true,
     "schema_version": 3,
     "solution": false
    }
   },
   "source": [
    "## Import Python Packages\n",
    "\n",
    "In the cell below, copy and paste the following code **after the line for `Your Code Here`**, replacing `raise NotImplementedError()` with your code:\n",
    "```python\n",
    "import matplotlib.pyplot as plt\n",
    "```\n",
    "\n",
    "This line of code will import the `matplotlib` package, which you will use to create a plot.  \n",
    "\n",
    "You will learn more about using different Python packages in the next few weeks. "
   ]
  },
  {
   "cell_type": "code",
   "execution_count": null,
   "metadata": {
    "deletable": false,
    "nbgrader": {
     "cell_type": "code",
     "checksum": "37158714975e4ff9d1b46a9272aae251",
     "grade": false,
     "grade_id": "student-imports-answer",
     "locked": false,
     "schema_version": 3,
     "solution": true,
     "task": false
    }
   },
   "outputs": [],
   "source": [
    "# Import necessary packages\n",
    "\n",
    "# YOUR CODE HERE\n",
    "raise NotImplementedError()"
   ]
  },
  {
   "cell_type": "markdown",
   "metadata": {},
   "source": [
    "# Welcome to our grading process! \n",
    "\n",
    "The cell below will test that you correctly imported `matplotlib.pyplot` in the cell above!\n",
    "Do not modify anything in the cell below. "
   ]
  },
  {
   "cell_type": "code",
   "execution_count": null,
   "metadata": {
    "deletable": false,
    "editable": false,
    "nbgrader": {
     "cell_type": "code",
     "checksum": "c878099bd3edcf15de75ecf09c17eabc",
     "grade": true,
     "grade_id": "cell-8451c41fa2aa1ca6",
     "locked": true,
     "points": 5,
     "schema_version": 3,
     "solution": false,
     "task": false
    }
   },
   "outputs": [],
   "source": [
    "# DO NOT MODIFY THIS CELL!\n",
    "\n",
    "# Data for plotting\n",
    "try:\n",
    "    fig, ax = plt.subplots()\n",
    "    ax.plot([1, 2, 3, 4], [1, 4, 9, 16])\n",
    "    ax.set_title(\"A Test Plot\")\n",
    "    plt.show()\n",
    "    print(\"Nice work - you imported the pyplot module correctly. Look at that pretty plot you made!\")\n",
    "except NameError as ne:\n",
    "    print(\"Oops - it looks like matplotlib.pyplot is not loaded\", ne)\n",
    "    "
   ]
  },
  {
   "cell_type": "markdown",
   "metadata": {},
   "source": [
    "<img style=\"float: left;\" src=\"colored-bar.png\"/>"
   ]
  },
  {
   "cell_type": "markdown",
   "metadata": {},
   "source": [
    "## Assignment Data \n",
    "This data in this assignment, represent average monthly temperature for <a href=\"https://www.esrl.noaa.gov/psd/boulder/Boulder.mm.html\" target=\"_blank\">Boulder, Colorado, provided by the U.S. National Oceanic and Atmospheric Administration (NOAA).</a> "
   ]
  },
  {
   "cell_type": "markdown",
   "metadata": {
    "deletable": false,
    "editable": false,
    "nbgrader": {
     "cell_type": "markdown",
     "checksum": "10e5aaffaa90803dad9c688360705557",
     "grade": false,
     "grade_id": "student-create-variable-question",
     "locked": true,
     "schema_version": 3,
     "solution": false,
     "task": false
    }
   },
   "source": [
    "## Create Variables in Python\n",
    "\n",
    "Add your code to the cell below to complete the following task:\n",
    "\n",
    "* Create a unique variable that represents the monthly average temperature (Fahrenheit) for each month January through June.\n",
    "* Name each variable using the month column name. You should have 6 variables in total. (`jan`, `feb`, `march`, `april`, `may` and `june`)\n",
    "\n",
    "IMPORTANT: Python variable names are CASE SENSITIVE! Be sure that you spell the variable name correctly and consider capitalization.\n",
    "\n",
    "Month  | Temperature (Fahrenheit) |\n",
    "--- | --- |\n",
    "jan | 32.0 |\n",
    "feb | 35.6 |\n",
    "mar | 41.0 |\n",
    "apr | 49.2 |\n",
    "may | 57.9 |\n",
    "june | 67.2 |"
   ]
  },
  {
   "cell_type": "code",
   "execution_count": null,
   "metadata": {
    "deletable": false,
    "nbgrader": {
     "cell_type": "code",
     "checksum": "d120c3eb26ea1ba4df25990f94d0a4e4",
     "grade": false,
     "grade_id": "student-create-variables-answer",
     "locked": false,
     "schema_version": 3,
     "solution": true,
     "task": false
    }
   },
   "outputs": [],
   "source": [
    "# Create variables of monthly temp\n",
    "\n",
    "# YOUR CODE HERE\n",
    "raise NotImplementedError()"
   ]
  },
  {
   "cell_type": "code",
   "execution_count": null,
   "metadata": {
    "deletable": false,
    "editable": false,
    "nbgrader": {
     "cell_type": "code",
     "checksum": "3ab770144bb94b7db90242902f510a49",
     "grade": true,
     "grade_id": "cell-c2ac5c2ae1b690db",
     "locked": true,
     "points": 5,
     "schema_version": 3,
     "solution": false,
     "task": false
    }
   },
   "outputs": [],
   "source": [
    "# DO NOT MODIFY THIS CELL!\n",
    "# Did you create all of the variables? Run this cell to find out\n",
    "try:\n",
    "    jan\n",
    "    feb\n",
    "    mar\n",
    "    apr\n",
    "    may\n",
    "    june\n",
    "    print(\"nice work - all of your variables exist!\")\n",
    "except NameError as ne:\n",
    "    print(\"oops! atleast one of your variables is missing? Did you create the variable ? If so be sure that it is spelled exactly as it is represented in the Month column in the table above\", ne)\n"
   ]
  },
  {
   "cell_type": "markdown",
   "metadata": {
    "deletable": false,
    "editable": false,
    "nbgrader": {
     "cell_type": "markdown",
     "checksum": "905b2f7d0c9c4aa9f1a51ce4f92c99e0",
     "grade": false,
     "grade_id": "question-calc-variables",
     "locked": true,
     "schema_version": 3,
     "solution": false,
     "task": false
    }
   },
   "source": [
    "## Run Calculations on Variables\n",
    "\n",
    "In the cell below, complete the following task:\n",
    "\n",
    "* Convert the 6 variable values for January through June that you created above **from Fahrenheit to Celsius** using the following equation:\n",
    "    * Celsius = (Fahrenheit - 32) / 1.8\n",
    "    * Note that Python by default follows the standard rules of math order of operations. This means that division would happen BEFORE subtraction. Including `Fahrenheit - 32` within parenthesis `()` tells `Python` to execute that calculation first.  "
   ]
  },
  {
   "cell_type": "code",
   "execution_count": null,
   "metadata": {
    "deletable": false,
    "nbgrader": {
     "cell_type": "code",
     "checksum": "109863b12b4de90b2d3f37ec50f732f0",
     "grade": false,
     "grade_id": "student-calc-variables-answer",
     "locked": false,
     "schema_version": 3,
     "solution": true,
     "task": false
    }
   },
   "outputs": [],
   "source": [
    "# Convert variable values from Fahrenheit to Celsius\n",
    "\n",
    "# YOUR CODE HERE\n",
    "raise NotImplementedError()"
   ]
  },
  {
   "cell_type": "code",
   "execution_count": null,
   "metadata": {
    "deletable": false,
    "editable": false,
    "nbgrader": {
     "cell_type": "code",
     "checksum": "c01baded39cc018cdd2493fd4c8da814",
     "grade": true,
     "grade_id": "cell-684c5ebacc0636b3",
     "locked": true,
     "points": 5,
     "schema_version": 3,
     "solution": false,
     "task": false
    }
   },
   "outputs": [],
   "source": [
    "# DO NOT MODIFY THIS CELL\n"
   ]
  },
  {
   "cell_type": "markdown",
   "metadata": {},
   "source": [
    "<img style=\"float: left;\" src=\"colored-bar.png\"/>"
   ]
  },
  {
   "cell_type": "markdown",
   "metadata": {
    "deletable": false,
    "editable": false,
    "nbgrader": {
     "cell_type": "markdown",
     "checksum": "0363b29f7d421eb7986c10bc53871675",
     "grade": false,
     "grade_id": "question-create-list-temp",
     "locked": true,
     "schema_version": 3,
     "solution": false,
     "task": false
    }
   },
   "source": [
    "## Create List of Converted Monthly Temperatures\n",
    "\n",
    "In the cell below, add your code **after the line for `Your Code Here`**, replacing `raise NotImplementedError()` with your code, to complete the following task:\n",
    "\n",
    "* Create a Python object of type **list** called **temp** for average monthly temperature for Boulder, CO containing the **variables for January to June in the Celsius degrees**. \n",
    "\n",
    "IMPORTANT: be sure to name your list object `temp`."
   ]
  },
  {
   "cell_type": "code",
   "execution_count": null,
   "metadata": {
    "deletable": false,
    "nbgrader": {
     "cell_type": "code",
     "checksum": "8157f0bcaaf636fe9e337cb0d1bfbb08",
     "grade": false,
     "grade_id": "student-create-list-temp-answer",
     "locked": false,
     "schema_version": 3,
     "solution": true,
     "task": false
    }
   },
   "outputs": [],
   "source": [
    "# Create list of converted monthly temps\n",
    "\n",
    "# YOUR CODE HERE\n",
    "raise NotImplementedError()"
   ]
  },
  {
   "cell_type": "code",
   "execution_count": null,
   "metadata": {
    "deletable": false,
    "editable": false,
    "nbgrader": {
     "cell_type": "code",
     "checksum": "3c667584d9a278e02bb6d2f5c54384a0",
     "grade": true,
     "grade_id": "cell-ba3077be9744940a",
     "locked": true,
     "points": 5,
     "schema_version": 3,
     "solution": false,
     "task": false
    }
   },
   "outputs": [],
   "source": [
    "# DO NOT MODIFY THIS CELL!\n",
    "if isinstance(temp, list):\n",
    "    print(\"Nice work! The variable temp exists and is of type - list\")\n",
    "else:\n",
    "    print(\"oops! Did you create a variable called temp that is of type list? Please reread the directions.\")\n",
    "    \n"
   ]
  },
  {
   "cell_type": "code",
   "execution_count": null,
   "metadata": {},
   "outputs": [],
   "source": [
    "# TODO -- hidden test that ensures the temp object has the right values in it\n"
   ]
  },
  {
   "cell_type": "markdown",
   "metadata": {
    "deletable": false,
    "editable": false,
    "nbgrader": {
     "cell_type": "markdown",
     "checksum": "1242e3bf6d612cb0f2e3999efe9c9606",
     "grade": false,
     "grade_id": "question-add-values-list",
     "locked": true,
     "schema_version": 3,
     "solution": false,
     "task": false
    }
   },
   "source": [
    "## Add Values to List of Converted Monthly Temperatures\n",
    "\n",
    "In the cell below, replace the  `raise NotImplementedError()` with your code to complete the following task:\n",
    "\n",
    "* Add the average monthly temperature values for **July to December in the Celsius degrees** (in the table below) to your list called `temp` of converted monthly temperatures. \n",
    "* **Print your completed list of converted monthly temperatures (in Celsius degrees).** \n",
    "\n",
    "Month  | Temperature (Celsius) |\n",
    "--- | --- |\n",
    "July | 22.8 |\n",
    "Aug | 21.7 |\n",
    "Sept | 16.7 |\n",
    "Oct | 11.6 |\n",
    "Nov | 4.9 |\n",
    "Dec | 1.0 |"
   ]
  },
  {
   "cell_type": "code",
   "execution_count": null,
   "metadata": {
    "deletable": false,
    "nbgrader": {
     "cell_type": "code",
     "checksum": "28b94b897e9af8620e0eb04cb0c07d8c",
     "grade": true,
     "grade_id": "student-add-values-list",
     "locked": false,
     "points": 5,
     "schema_version": 3,
     "solution": true,
     "task": false
    }
   },
   "outputs": [],
   "source": [
    "# Your Code Here - Add values to temp list for July to Dec\n",
    "\n",
    "# YOUR CODE HERE\n",
    "raise NotImplementedError()"
   ]
  },
  {
   "cell_type": "markdown",
   "metadata": {},
   "source": [
    "<img style=\"float: left;\" src=\"colored-bar.png\"/>"
   ]
  },
  {
   "cell_type": "markdown",
   "metadata": {
    "deletable": false,
    "editable": false,
    "nbgrader": {
     "cell_type": "markdown",
     "checksum": "6f0f9e5f332aa019c5a08b8e4118a655",
     "grade": false,
     "grade_id": "question-create-list-months",
     "locked": true,
     "schema_version": 3,
     "solution": false,
     "task": false
    }
   },
   "source": [
    "## Create List of Month Names\n",
    "\n",
    "In the cell below, add your code **after the line for `Your Code Here`**, replacing `raise NotImplementedError()` with your code, to complete the following task:\n",
    "\n",
    "* Create a list containing the month names using **full-length** month names (e.g. January, February)."
   ]
  },
  {
   "cell_type": "code",
   "execution_count": null,
   "metadata": {
    "deletable": false,
    "nbgrader": {
     "cell_type": "code",
     "checksum": "2b9f1a2ce3c1eefc5b5bbe86570de3bc",
     "grade": false,
     "grade_id": "student-create-list-months-answer",
     "locked": false,
     "schema_version": 3,
     "solution": true,
     "task": false
    }
   },
   "outputs": [],
   "source": [
    "# Create list of month names\n",
    "\n",
    "# YOUR CODE HERE\n",
    "raise NotImplementedError()\n",
    "\n"
   ]
  },
  {
   "cell_type": "code",
   "execution_count": null,
   "metadata": {
    "deletable": false,
    "editable": false,
    "nbgrader": {
     "cell_type": "code",
     "checksum": "9558a35e5c96819da7a6f9a6b2af617b",
     "grade": true,
     "grade_id": "cell-16e4456ea71445e4",
     "locked": true,
     "points": 5,
     "schema_version": 3,
     "solution": false,
     "task": false
    }
   },
   "outputs": [],
   "source": [
    "# DO NOT MODIFY THIS CELL\n",
    "if isinstance(months, list):\n",
    "    print(\"Nice work! The variable months exists and is of type - list\")\n",
    "else:\n",
    "    print(\"oops! Did you create a variable called months that is of type list? Please reread the directions.\")\n",
    "    "
   ]
  },
  {
   "cell_type": "markdown",
   "metadata": {
    "deletable": false,
    "editable": false,
    "nbgrader": {
     "cell_type": "markdown",
     "checksum": "adca11efdac431b23d35741b51fa7bfc",
     "grade": false,
     "grade_id": "question-update-list",
     "locked": true,
     "schema_version": 3,
     "solution": false,
     "task": false
    }
   },
   "source": [
    "## Update List of Month Names\n",
    "\n",
    "In the cell below, add your code **after the line for `Your Code Here`**, replacing `raise NotImplementedError()` with your code, to complete the following task:\n",
    "\n",
    "* Update the items in your list containing the month names from **full-length** month names (e.g. January) to **abbreviated** month names (e.g. Jan). \n",
    "    * Be sure to use the appropriate index values to **update only the items that require updating** in the list (review the data table for the abbreviations).\n",
    "    * Two points will be deducted for each extra update that was not needed."
   ]
  },
  {
   "cell_type": "code",
   "execution_count": null,
   "metadata": {
    "deletable": false,
    "nbgrader": {
     "cell_type": "code",
     "checksum": "eccc168df4ac2eaeecc1fd97332a2ce0",
     "grade": false,
     "grade_id": "student-update-list-answer",
     "locked": false,
     "schema_version": 3,
     "solution": true,
     "task": false
    }
   },
   "outputs": [],
   "source": [
    "# Abbreviate month names\n",
    "\n",
    "# YOUR CODE HERE\n",
    "raise NotImplementedError()"
   ]
  },
  {
   "cell_type": "code",
   "execution_count": null,
   "metadata": {
    "deletable": false,
    "editable": false,
    "nbgrader": {
     "cell_type": "code",
     "checksum": "c0c240cd863c2fa4800eabed0571224f",
     "grade": true,
     "grade_id": "cell-90190715fad3d400",
     "locked": true,
     "points": 20,
     "schema_version": 3,
     "solution": false,
     "task": false
    }
   },
   "outputs": [],
   "source": [
    "# DO NOT MODIFY THIS CELL\n",
    "    "
   ]
  },
  {
   "cell_type": "markdown",
   "metadata": {},
   "source": [
    "<img style=\"float: left;\" src=\"colored-bar.png\"/>"
   ]
  },
  {
   "cell_type": "markdown",
   "metadata": {
    "deletable": false,
    "editable": false,
    "nbgrader": {
     "cell_type": "markdown",
     "checksum": "973bd794ca334a8cfa940d0d3e6671b8",
     "grade": false,
     "grade_id": "question-plot",
     "locked": true,
     "schema_version": 3,
     "solution": false
    }
   },
   "source": [
    "## Create Plot From Lists (15 Points)\n",
    "\n",
    "In the cell below, add your code **after the line for `Your Code Here`**, replacing `raise NotImplementedError()` with your code, to complete the following task:\n",
    "\n",
    "* Create a **red bar** plot (2 pts) of the average monthly temperature for Boulder, CO:\n",
    "    * Be sure to use the lists you created in previous questions for **temperatures in Celsius** (4 pts) and **abbreviated month names** (4 pts). \n",
    "    * Be sure to include an appropriate title for your plot (2 pts).\n",
    "    * Be sure to include clear labels for the x-axis (2 pts) and y-axis (2 pts), **including the units of measurement** where appropriate (2 pts).\n",
    "\n",
    "For your titles and labels, be sure to think about the following pieces of information that could help someone easily interpret the plot:\n",
    "* geographic coverage or extent of data.\n",
    "* duration or temporal extent of the data.\n",
    "* what was actually measured and/or represented by the data.\n",
    "* units of measurement.\n",
    "\n",
    "### Plotting Resources on earthdatascience.org\n",
    "\n",
    "* <a href=\"https://www.earthdatascience.org/courses/scientists-guide-to-plotting-data-in-python/plot-with-matplotlib/introduction-to-matplotlib-plots/customize-plot-colors-labels-matplotlib/\" target=\"_blank\">Check out our introduction to customizing plots in our online plotting textbook for more on plotting. </a>\n",
    "* HINT: At the very top of this notebook you will find some example code to produce a plot. This may also help you create your plot. \n"
   ]
  },
  {
   "cell_type": "code",
   "execution_count": null,
   "metadata": {
    "deletable": false,
    "nbgrader": {
     "cell_type": "code",
     "checksum": "8334d2e108b59af48d1c32f6282c363a",
     "grade": false,
     "grade_id": "student-create-plot-1-answer",
     "locked": false,
     "schema_version": 3,
     "solution": true,
     "task": false
    }
   },
   "outputs": [],
   "source": [
    "# Create plot\n",
    "\n",
    "# YOUR CODE HERE\n",
    "raise NotImplementedError()\n",
    "\n",
    "### DO NOT REMOVE LINE BELOW ###\n",
    "ts_1_plot = nb.convert_axes(plt)"
   ]
  },
  {
   "cell_type": "code",
   "execution_count": null,
   "metadata": {
    "deletable": false,
    "editable": false,
    "nbgrader": {
     "cell_type": "code",
     "checksum": "18745382b4ea9efb8c8bfb3d44d04618",
     "grade": true,
     "grade_id": "cell-2e4e930a79ae62a8",
     "locked": true,
     "points": 20,
     "schema_version": 3,
     "solution": false,
     "task": false
    }
   },
   "outputs": [],
   "source": [
    "# DO NOT MODIFY THIS CELL\n",
    "    "
   ]
  },
  {
   "cell_type": "markdown",
   "metadata": {
    "deletable": false,
    "editable": false,
    "nbgrader": {
     "cell_type": "markdown",
     "checksum": "da8f97dbe55653ee5da5496b9545f1cd",
     "grade": false,
     "grade_id": "question-explain-plot",
     "locked": true,
     "schema_version": 3,
     "solution": false
    }
   },
   "source": [
    "## Explain Your Plot\n",
    "\n",
    "In the Markdown cell below, answer the following questions about your plot using a **numbered list**.\n",
    "\n",
    "1. Which month has the lowest average temperature, and which has the highest? How much of a difference is there between the lowest and highest average temperatures?\n",
    "\n",
    "2. Given that Boulder, CO is in the Northern hemisphere, are these results surprising? How might the results look different if you were plotting data from a location in the Southern hemisphere? (Hint: think about seasonality differences between the Northern and Southern hemispheres.) \n",
    "\n",
    "3. Given that Boulder, CO is at a moderately high latitude (~40 degrees North), are these results surprising? How might the results look different if you were plotting data from a location closer to the equator? (Hint: think about the difference between the lowest and highest temperatures for high versus low latitudes.)\n",
    "\n",
    "Remove any existing text in the cell before adding your answer.\n",
    "\n",
    "To answer these questions, it can help to review the <a href=\"https://www.google.com/maps/place/Boulder,+CO/@18.3736306,-81.2965677,3.85z/data=!4m5!3m4!1s0x876b8d4e278dafd3:0xc8393b7ca01b8058!8m2!3d40.0149856!4d-105.2705456\" target = \"_blank\">location of Boulder Colorado on Google Maps</a>. "
   ]
  },
  {
   "cell_type": "markdown",
   "metadata": {
    "deletable": false,
    "nbgrader": {
     "cell_type": "markdown",
     "checksum": "4f3a73fe0c1712974c44d8531307384b",
     "grade": true,
     "grade_id": "student-explain-plot-answer",
     "locked": false,
     "points": 10,
     "schema_version": 3,
     "solution": true
    }
   },
   "source": [
    "YOUR ANSWER HERE"
   ]
  },
  {
   "cell_type": "markdown",
   "metadata": {},
   "source": [
    "<img style=\"float: left;\" src=\"colored-bar.png\"/>"
   ]
  },
  {
   "cell_type": "markdown",
   "metadata": {
    "deletable": false,
    "editable": false,
    "nbgrader": {
     "cell_type": "markdown",
     "checksum": "12dd002a519e04db8bf1131dcc06f56f",
     "grade": false,
     "grade_id": "cell-3610955c8ba594c9",
     "locked": true,
     "schema_version": 3,
     "solution": false,
     "task": false
    }
   },
   "source": [
    "## PEP 8 Challenge (10 points)\n",
    "\n",
    "Look closely at the code in the cell below. List 3 things that are not PEP 8 complient."
   ]
  },
  {
   "cell_type": "code",
   "execution_count": null,
   "metadata": {
    "deletable": false,
    "editable": false,
    "nbgrader": {
     "cell_type": "code",
     "checksum": "c62187ee1d70684928cd1cf1f3cbdca0",
     "grade": false,
     "grade_id": "cell-1eb9321470053e7b",
     "locked": true,
     "schema_version": 3,
     "solution": false,
     "task": false
    }
   },
   "outputs": [],
   "source": [
    "#do not modify this cell !!\n",
    "\n",
    "#calculate total precipitation (inches)\n",
    "a_var= 1+.5\n",
    "a_var=2+.01+1\n",
    "a_var\n"
   ]
  },
  {
   "cell_type": "markdown",
   "metadata": {
    "deletable": false,
    "nbgrader": {
     "cell_type": "markdown",
     "checksum": "9e1550f6b740d26f4b5539491360d9c7",
     "grade": true,
     "grade_id": "cell-bfe6ea626dd0a8da",
     "locked": false,
     "points": 10,
     "schema_version": 3,
     "solution": true,
     "task": false
    }
   },
   "source": [
    "YOUR ANSWER HERE"
   ]
  },
  {
   "cell_type": "markdown",
   "metadata": {
    "deletable": false,
    "editable": false,
    "nbgrader": {
     "cell_type": "markdown",
     "checksum": "cc19b6667727f9684ac711d8aa0f0802",
     "grade": false,
     "grade_id": "question-explain-pep-8",
     "locked": true,
     "schema_version": 3,
     "solution": false,
     "task": false
    }
   },
   "source": [
    "## Discuss Use of PEP 8 Style Guide\n",
    "\n",
    "In the Markdown cell below, answer the following questions about the PEP 8 style guide using a **bullet list**:\n",
    "\n",
    "1. How did the PEP 8 style guide influence your choice of variable names and your code organization in this assignment?\n",
    "\n",
    "2. Describe one way in which these standards are promoted and/or enforced within the `Python` community.\n",
    "\n",
    "Remove any existing text in the cell before adding your answer."
   ]
  },
  {
   "cell_type": "markdown",
   "metadata": {
    "deletable": false,
    "nbgrader": {
     "cell_type": "markdown",
     "checksum": "44844bab616fdc807c58cbf7527548d1",
     "grade": true,
     "grade_id": "student-explain-pep-8",
     "locked": false,
     "points": 10,
     "schema_version": 3,
     "solution": true,
     "task": false
    }
   },
   "source": [
    "YOUR ANSWER HERE"
   ]
  },
  {
   "cell_type": "markdown",
   "metadata": {},
   "source": [
    "<img style=\"float: left;\" src=\"colored-bar.png\"/>"
   ]
  },
  {
   "cell_type": "markdown",
   "metadata": {
    "deletable": false,
    "editable": false,
    "nbgrader": {
     "cell_type": "markdown",
     "checksum": "c5d59140e0930b021c99670dd7a397fd",
     "grade": false,
     "grade_id": "cell-1acf9323539368ae",
     "locked": true,
     "schema_version": 3,
     "solution": false,
     "task": false
    }
   },
   "source": [
    "<div class=\"notice--warning\" markdown=\"1\">\n",
    "\n",
    "## <i class=\"fa fa-pencil-square-o\" aria-hidden=\"true\"></i> BONUS Challenge: List Comprehensions in Python (OPTIONAL)\n",
    "\n",
    "**You will not lose any points if you skip this activity! But if you complete it, you will get 5 bonus points on this assignment!**\n",
    "\n",
    "Above you performed many tasks manually. Included in those manual steps was one \n",
    "where you converted each individual value in your list from fahrenheit to Celsius.\n",
    "In **Python**, list comprehensions are a great way to perform operations on a sequence \n",
    "of values stored within a list. \n",
    "\n",
    "The syntax for a list comprehension is below. Essentially what is happening is that \n",
    "Python is iterating through each value in the old list (`for i in my_old_list`) and \n",
    "multiplying it by 2 (`i*2`). In each iteration of the loop, the value `i` represents \n",
    "the next value in the list. In the example below, `i` will first be the value 1, \n",
    "and then 2, and finally 3.\n",
    "\n",
    "\n",
    "```python\n",
    "my_old_list = [1, 2, 3]\n",
    "my_new_list = [i *2 for i in my_old_list] \n",
    "```\n",
    "\n",
    "`my_new_list` will equal each value in `my_old_list` multiplied by 2, so `my_new_list` \n",
    "will be equivalent to `[2, 4, 6]`. You can run this code and see the output for yourself!\n",
    "Try to experiment with writing more efficient code. Convert your `boulder_precip_inches` \n",
    "list of values to a new list called `boulder_precip_mm` using a list comprehension. Use \n",
    "the syntax above to help you create this list comprehension.\n",
    "\n",
    "### Your Challenge If Your Chose to Accept It\n",
    "\n",
    "The code below creates a list object called temp_fah that stores 6 temperature values in degrees\n",
    "Fahrenheit. \n",
    "\n",
    "`temp_fah = [32.0, 35.6, 41.0, 49.2, 57.9, 67.2]`\n",
    "\n",
    "Do the following:\n",
    "\n",
    "1. Copy the code into the code cell below\n",
    "2. Create a list comprehension that creates a new object called `temp_cel` that contains each value converted into Celsius.\n",
    "\n",
    "\n",
    "\n",
    "### Learn More About For Loops and List Comprehensions in Python (OPTIONAL)\n",
    "\n",
    "For more information on loops and changing values within a list, you can check out:\n",
    "\n",
    "* <a href=\"https://www.earthdatascience.org/courses/intro-to-earth-data-science/write-efficient-python-code/loops/\" target=\"_blank\">Earth Lab's lesson introducing loops in Python,</a> and \n",
    "* <a href=\"https://www.earthdatascience.org/courses/intro-to-earth-data-science/write-efficient-python-code/loops/list-comprehensions\" target=\"_blank\">Earth Lab's lesson on list comprehensions in Python.</a>\n",
    "\n",
    "</div>"
   ]
  },
  {
   "cell_type": "code",
   "execution_count": null,
   "metadata": {
    "deletable": false,
    "nbgrader": {
     "cell_type": "code",
     "checksum": "a5850fc417d517f082dbed49d1a422ee",
     "grade": false,
     "grade_id": "cell-c7a7ee4363d0aebb",
     "locked": false,
     "schema_version": 3,
     "solution": true,
     "task": false
    }
   },
   "outputs": [],
   "source": [
    "# YOUR CODE HERE\n",
    "raise NotImplementedError()"
   ]
  },
  {
   "cell_type": "code",
   "execution_count": null,
   "metadata": {
    "deletable": false,
    "editable": false,
    "nbgrader": {
     "cell_type": "code",
     "checksum": "f8347af6fd4b3b62b811f63ad88681de",
     "grade": true,
     "grade_id": "cell-ebb8fd1c4c3bb624",
     "locked": true,
     "points": 10,
     "schema_version": 3,
     "solution": false,
     "task": false
    }
   },
   "outputs": [],
   "source": [
    "# DO NOT MODIFY THIS CELL\n",
    "    \n"
   ]
  },
  {
   "cell_type": "code",
   "execution_count": null,
   "metadata": {
    "deletable": false,
    "editable": false,
    "nbgrader": {
     "cell_type": "code",
     "checksum": "e8a7ea53e16ddc1f0ff968e94ece446e",
     "grade": true,
     "grade_id": "hidden-plot-tests",
     "locked": true,
     "points": 0,
     "schema_version": 3,
     "solution": false
    }
   },
   "outputs": [],
   "source": [
    "# DO NOT MODIFY THIS CELL!"
   ]
  }
 ],
 "metadata": {
  "kernelspec": {
   "display_name": "Python 3",
   "language": "python",
   "name": "python3"
  },
  "language_info": {
   "codemirror_mode": {
    "name": "ipython",
    "version": 3
   },
   "file_extension": ".py",
   "mimetype": "text/x-python",
   "name": "python",
   "nbconvert_exporter": "python",
   "pygments_lexer": "ipython3",
   "version": "3.8.5"
  },
  "varInspector": {
   "cols": {
    "lenName": 16,
    "lenType": 16,
    "lenVar": 40
   },
   "kernels_config": {
    "python": {
     "delete_cmd_postfix": "",
     "delete_cmd_prefix": "del ",
     "library": "var_list.py",
     "varRefreshCmd": "print(var_dic_list())"
    },
    "r": {
     "delete_cmd_postfix": ") ",
     "delete_cmd_prefix": "rm(",
     "library": "var_list.r",
     "varRefreshCmd": "cat(var_dic_list()) "
    }
   },
   "position": {
    "height": "322.074px",
    "left": "955.267px",
    "right": "20px",
    "top": "116.997px",
    "width": "785.497px"
   },
   "types_to_exclude": [
    "module",
    "function",
    "builtin_function_or_method",
    "instance",
    "_Feature"
   ],
   "window_display": false
  }
 },
 "nbformat": 4,
 "nbformat_minor": 2
}
