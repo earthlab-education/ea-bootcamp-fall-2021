{
 "cells": [
  {
   "cell_type": "markdown",
   "metadata": {},
   "source": [
    "<img style=\"float: left;\" src=\"earth-lab-logo-rgb.png\" width=\"150\" height=\"150\" />\n",
    "\n",
    "# Earth Analytics Education - Bootcamp Course Fall 2020"
   ]
  },
  {
   "cell_type": "markdown",
   "metadata": {},
   "source": [
    "## Important  - Assignment Guidelines\n",
    "\n",
    "1. Before you submit your assignment to GitHub, make sure to run the entire notebook with a fresh kernel. To do this first, **restart the kernel** (in the menubar, select Kernel$\\rightarrow$Restart & Run All)\n",
    "2. Always replace the `raise NotImplementedError()` code with your code that addresses the activity challenge. If you don't replace that code, your notebook will not run.\n",
    "\n",
    "```\n",
    "# YOUR CODE HERE\n",
    "raise NotImplementedError()\n",
    "```\n",
    "\n",
    "3. Any open ended questions will have a \"YOUR ANSWER HERE\" within a markdown cell. Replace that text with your answer also formatted using Markdown.\n",
    "4. **DO NOT RENAME THIS NOTEBOOK File!** If the file name changes, the autograder will not grade your assignment properly.\n",
    "6. When you create a figure, comment out `plt.show()` to ensure the autograder can grade your plots. For figure cells, DO NOT DELETE the code that says `DO NOT REMOVE LINE BELOW`.\n",
    "\n",
    "```\n",
    "### DO NOT REMOVE LINE BELOW ###\n",
    "student_plot1_ax = nb.convert_axes(plt)\n",
    "```\n",
    "\n",
    "* Only include the package imports, code, and outputs that are required to run your homework assignment.\n",
    "* Be sure that your code can be run on any operating system. This means that:\n",
    "   1. the data should be downloaded in the notebook to ensure it's reproducible\n",
    "   2. all paths should be created dynamically using the `os.path.join`\n",
    "\n",
    "## Follow to PEP 8 Syntax Guidelines & Documentation\n",
    "\n",
    "* Run the `autopep8` tool on all cells prior to submitting (HINT: hit shift + the tool to run it on all cells at once!\n",
    "* Use clear and expressive names for variables. \n",
    "* Organize your code to support readability.\n",
    "* Check for code line length\n",
    "* Use comments and white space sparingly where it is needed\n",
    "* Make sure all python imports are at the top of your notebook and follow PEP 8 order conventions\n",
    "* Spell check your Notebook before submitting it.\n",
    "\n",
    "For all of the plots below, be sure to do the following:\n",
    "\n",
    "* Make sure each plot has a clear TITLE and, where appropriate, label the x and y axes. Be sure to include UNITS in your labels.\n"
   ]
  },
  {
   "cell_type": "markdown",
   "metadata": {},
   "source": [
    "### Add Your Name Below \n",
    "**Your Name:**"
   ]
  },
  {
   "cell_type": "markdown",
   "metadata": {},
   "source": [
    "<img style=\"float: left;\" src=\"colored-bar.png\"/>"
   ]
  },
  {
   "cell_type": "markdown",
   "metadata": {},
   "source": [
    "---"
   ]
  },
  {
   "cell_type": "markdown",
   "metadata": {
    "deletable": false,
    "editable": false,
    "nbgrader": {
     "cell_type": "markdown",
     "checksum": "e70cbdfb411cbd0fd854d3617967b7d5",
     "grade": false,
     "grade_id": "hw-instructions",
     "locked": true,
     "schema_version": 3,
     "solution": false,
     "task": false
    }
   },
   "source": [
    "# Week 12 Spatial Vector Data Homework Template\n",
    "\n",
    "## Assignment Background\n",
    "\n",
    "In this assignment, you will explore an area in California called the [San Joaquin Experimental Range](https://www.neonscience.org/field-sites/field-sites-map/SJER) known by the acronym SJER.\n",
    "\n",
    "The data that you will use for this week is available from **earthpy** using the following download: \n",
    "\n",
    "`et.data.get_data('spatial-vector-lidar')`\n",
    "\n",
    "To begin, add all of the needed package imports, download the data and set your working directory in the cells below. "
   ]
  },
  {
   "cell_type": "code",
   "execution_count": null,
   "metadata": {
    "deletable": false,
    "editable": false,
    "nbgrader": {
     "cell_type": "code",
     "checksum": "a2932c0be641977e05a2196c49718fc8",
     "grade": false,
     "grade_id": "core-imports",
     "locked": true,
     "schema_version": 3,
     "solution": false,
     "task": false
    }
   },
   "outputs": [],
   "source": [
    "# Autograding imports - do not modify this cell\n",
    "import matplotcheck.notebook as nb\n",
    "import matplotcheck.autograde as ag\n",
    "import matplotcheck.vector as vct\n",
    "import pandas as pd\n",
    "\n",
    "# This will hide one of geopandas warnings in cell 3\n",
    "import warnings\n",
    "warnings.filterwarnings('ignore',\n",
    "                        'GeoSeries.notna',\n",
    "                        UserWarning)"
   ]
  },
  {
   "cell_type": "code",
   "execution_count": null,
   "metadata": {
    "deletable": false,
    "nbgrader": {
     "cell_type": "code",
     "checksum": "4c85344ebbcb212c7d7575f9758b780d",
     "grade": false,
     "grade_id": "student-imports-answer",
     "locked": false,
     "schema_version": 3,
     "solution": true,
     "task": false
    },
    "tags": [
     "hide"
    ]
   },
   "outputs": [],
   "source": [
    "# Import packages, download data, and set working directory here\n",
    "\n",
    "# YOUR CODE HERE\n",
    "raise NotImplementedError()"
   ]
  },
  {
   "cell_type": "code",
   "execution_count": null,
   "metadata": {
    "deletable": false,
    "editable": false,
    "hideCode": false,
    "hidePrompt": false,
    "nbgrader": {
     "cell_type": "code",
     "checksum": "b7f0929c9cb850090d65d84011b9944b",
     "grade": true,
     "grade_id": "student-download-tests",
     "locked": true,
     "points": 4,
     "schema_version": 3,
     "solution": false,
     "task": false
    }
   },
   "outputs": [],
   "source": [
    "# DO NOT MODIFY THIS CELL\n",
    "# Tests that the working directory is set to earth-analytics/data\n",
    "\n",
    "path = os.path.normpath(os.getcwd())\n",
    "student_wd_parts = path.split(os.sep)\n",
    "\n",
    "wd_import_points = 0\n",
    "\n",
    "if student_wd_parts[-2:] == ['earth-analytics', 'data']:\n",
    "    print(\"\\u2705 Great - it looks like your working directory is set correctly to ~/earth-analytics/data\")\n",
    "    wd_import_points += 4\n",
    "else:\n",
    "    print(\"\\u274C Oops, the autograder will not run unless your working directory is set to earth-analytics/data\")\n",
    "\n",
    "print(\"\\n \\u27A1 You received {} out of 9 points for setting your working directory and imports.\".format(\n",
    "    wd_import_points))\n",
    "wd_import_points"
   ]
  },
  {
   "cell_type": "markdown",
   "metadata": {
    "deletable": false,
    "editable": false,
    "nbgrader": {
     "cell_type": "markdown",
     "checksum": "f21b394f4d84c04acf1ea1d74ca227fc",
     "grade": false,
     "grade_id": "challenge-1a-instructions",
     "locked": true,
     "schema_version": 3,
     "solution": false,
     "task": false
    }
   },
   "source": [
    "\n",
    "## Challenge 1a: Open And Clip Your Vector Data\n",
    "\n",
    "The NEON **SJER** field site is located in California. Your first task is to explore the area by creating a map of California roads that has symbology that represents different road types.\n",
    "\n",
    "### Open the roads layer and clip it using the SJER_crop extent\n",
    "\n",
    "In the cell below:\n",
    "\n",
    "1. Open the `california/madera-county-roads/tl_2013_06039_roads.shp` file located in your `spatial-vector-lidar` data download using GeoPandas. \n",
    "2. Clip the data using the SJER boundary (`california/neon-sjer-site/vector_data/SJER_crop.shp`) layer. \n",
    "3. Open the SJER plot locations data (`california/neon-sjer-site/vector_data/SJER_plot_centroids.shp`). \n",
    "4. Set all `RTTYP` that are \"none\" to \"Unknown\" using the syntax: `roads-object-name[\"RTTYP\"].fillna(\"Unknown\", inplace=True)`\n",
    "\n",
    "Call the **clipped and reprojected roads shapefile geodataframe object** at the \n",
    "end of the cell to ensure the tests below run.\n"
   ]
  },
  {
   "cell_type": "code",
   "execution_count": null,
   "metadata": {
    "deletable": false,
    "nbgrader": {
     "cell_type": "code",
     "checksum": "eca8526759758d4d32bd2564d1fc7ed1",
     "grade": false,
     "grade_id": "initial-clip-solution",
     "locked": false,
     "schema_version": 3,
     "solution": true,
     "task": false
    }
   },
   "outputs": [],
   "source": [
    "# YOUR CODE HERE\n",
    "raise NotImplementedError()"
   ]
  },
  {
   "cell_type": "code",
   "execution_count": null,
   "metadata": {
    "deletable": false,
    "editable": false,
    "nbgrader": {
     "cell_type": "code",
     "checksum": "f1e89c29ac75ffcde8a55b732eb2f966",
     "grade": true,
     "grade_id": "initial-clip-tests",
     "locked": true,
     "points": 5,
     "schema_version": 3,
     "solution": false,
     "task": false
    }
   },
   "outputs": [],
   "source": [
    "# DO NOT MODIFY THIS CELL"
   ]
  },
  {
   "cell_type": "markdown",
   "metadata": {
    "deletable": false,
    "editable": false,
    "nbgrader": {
     "cell_type": "markdown",
     "checksum": "37e405e4facaf16a69adb7befd3fc2ed",
     "grade": false,
     "grade_id": "challenge-1b-instructions",
     "locked": true,
     "schema_version": 3,
     "solution": false,
     "task": false
    }
   },
   "source": [
    "## Challenge 1b: Create a Figure Of Your Study Area\n",
    "\n",
    "In the cell below, add code to create your challenge figure using the \n",
    "objects that you generated above.\n",
    "\n",
    "Create a map that shows the madera roads layer, SJER plot locations and the SJER boundary (`california/neon-sjer-site/vector_data/SJER_crop.shp`). All data should be cropped to your\n",
    "SJER boundary crop extent (your Area Of Interest or AOI)\n",
    "\n",
    "### Important Notes For Your Figure\n",
    "\n",
    "1. Plot the roads so different **road types** are represented using unique symbology using the `RTTYP` attribute.\n",
    "2. Add the plot locations to your map. Color each location according to the attribute **plot type** using unique symbology for each `plot_type` in the data.\n",
    "3. Add a **title** to your figure.\n",
    "4. Be sure that your plot legend is not covering your final map.\n",
    "5. **IMPORTANT:** be sure that all of the data are cropped to the **same spatial extent**\n",
    "and **crs**. This means that you have to clip and reproject your data prior to plotting it."
   ]
  },
  {
   "cell_type": "code",
   "execution_count": null,
   "metadata": {
    "deletable": false,
    "nbgrader": {
     "cell_type": "code",
     "checksum": "790ed1c6ef72d79384bcaff8e0928d1a",
     "grade": false,
     "grade_id": "challenge-1-plot-answer",
     "locked": false,
     "schema_version": 3,
     "solution": true,
     "task": false
    },
    "tags": [
     "hide"
    ]
   },
   "outputs": [],
   "source": [
    "# PLOT 1 - Place only the code required to create a plot of your data here\n",
    "# Additional processing code can go above this code cell\n",
    "\n",
    "# YOUR CODE HERE\n",
    "raise NotImplementedError()\n",
    "\n",
    "### DO NOT REMOVE LINE BELOW ###\n",
    "plot01_roads_plot_locs = nb.convert_axes(plt, which_axes=\"current\")"
   ]
  },
  {
   "cell_type": "code",
   "execution_count": null,
   "metadata": {
    "deletable": false,
    "editable": false,
    "nbgrader": {
     "cell_type": "code",
     "checksum": "c85c7e66bba8e1d3e694638559150292",
     "grade": true,
     "grade_id": "challenge-1-plot-test",
     "locked": true,
     "points": 20,
     "schema_version": 3,
     "solution": false,
     "task": false
    }
   },
   "outputs": [],
   "source": [
    "# DO NOT MODIFY THIS CELL\n",
    "\n",
    "hw_plot1 = vct.VectorTester(plot01_roads_plot_locs)\n",
    "results = []\n",
    "\n",
    "test_plot_title = ag.run_test(hw_plot1.assert_title_contains,\n",
    "                              strings_expected='',\n",
    "                              points=1,\n",
    "                              correct_message=\"\\u2705 Your plot has a title, nice!\",\n",
    "                              error_message=\"\\u274C Your plot is missing a title.\")\n"
   ]
  },
  {
   "cell_type": "markdown",
   "metadata": {
    "deletable": false,
    "editable": false,
    "nbgrader": {
     "cell_type": "markdown",
     "checksum": "7062525addd8ba3163f4c9bd2cb33e57",
     "grade": false,
     "grade_id": "challenge-1-plot-test-2",
     "locked": true,
     "points": 2,
     "schema_version": 3,
     "solution": false,
     "task": true
    }
   },
   "source": [
    "### Figure 1 - Manual Points - \n",
    "* Points for plot title being expressive"
   ]
  },
  {
   "cell_type": "markdown",
   "metadata": {
    "deletable": false,
    "editable": false,
    "nbgrader": {
     "cell_type": "markdown",
     "checksum": "1851988329d482a84f701a578580da50",
     "grade": false,
     "grade_id": "challenge-1-question-1",
     "locked": true,
     "schema_version": 3,
     "solution": false,
     "task": false
    }
   },
   "source": [
    "## Question (5 points)\n",
    "\n",
    "What does the RTTYP road type acronyms **M** and **S** stand for? \n",
    "Please your answer in the markdown cell BELOW.\n",
    "\n",
    "HINT: use the `tl_2013_06039_roads.shp.xml` file in your data download to help you figure out the answer to this question\n",
    "HINT2: you can also find good results using Google (on the column name)! "
   ]
  },
  {
   "cell_type": "markdown",
   "metadata": {
    "deletable": false,
    "nbgrader": {
     "cell_type": "markdown",
     "checksum": "7507d435acb0bda1af8992c39b4bbf9e",
     "grade": true,
     "grade_id": "challenge-1-question-points",
     "locked": false,
     "points": 5,
     "schema_version": 3,
     "solution": true,
     "task": false
    }
   },
   "source": [
    "YOUR ANSWER HERE"
   ]
  },
  {
   "cell_type": "markdown",
   "metadata": {
    "deletable": false,
    "editable": false,
    "nbgrader": {
     "cell_type": "markdown",
     "checksum": "73bff644fcd2e884bbeebb2189004308",
     "grade": false,
     "grade_id": "challenge-2-instructions",
     "locked": true,
     "schema_version": 3,
     "solution": false,
     "task": false
    }
   },
   "source": [
    "## Challenge 2: Figure 2 - Roads in Del Norte, Modoc & Siskiyou Counties\n",
    "\n",
    "Create a plot of roads that are located in: Del Norte, Modoc & Siskiyou Counties. To do this, you will need the following layers:\n",
    "\n",
    "* Counties in California: `california/CA_Counties/CA_Counties_TIGER2016.shp`\n",
    "* Roads: `global/ne_10m_roads/ne_10m_roads.shp` \n",
    "\n",
    "To create this plot, you will need to:\n",
    "\n",
    "1. Reproject the roads and the county data to `epsg=5070`\n",
    "2. Select the three counties that you want to work with in the counties dataset. One fast way to do this is using syntax as follows: \n",
    "\n",
    "`roads_df[roads_df['NAME'].isin([\"Siskiyou\", \"Modoc\", \"Del Norte\"])]`\n",
    "\n",
    "3. Clip the roads data to the boundary of the counties that you wish to look at.\n",
    "4. Assign each road segment an attribute that identifies it as within each county.\n",
    "\n",
    "Color the roads in each county using a unique color.\n",
    "\n",
    "HINT: use the `legend=True` argument in `.plot()` to create a legend.\n",
    "Because you are only creating a legend for one layer, you can quickly use `.plot()`\n",
    "rather than `ax.legend()` which is what you used to create the figure above.\n",
    "\n",
    "\n",
    "### IMPORTANT: \n",
    "\n",
    "* Both layers need to the in the SAME coordinate reference system for you to work with them together. REPROJECT both data layers to albers `.to_crs(epsg=5070)`\n",
    "* Clip the roads to the boundary of the three_counties layer that you created which only contains the 3 selected counties: `\"Siskiyou\", \"Modoc\", \"Del Norte\"`\n",
    "* To assign each road to its respective county, you will perform a spatial join using `.sjoin()`.\n",
    "* You will need to redefine the CRS of the roads layer, after the clip, which you can do using something like:\n",
    "\n",
    "```county_roads.crs = ca_cty_albers.crs```\n",
    "\n",
    "**NOTE:** you can ignore the warning from pyproj: `'+init=<authority>:<code>' syntax is deprecated.`, which will be resolved by GeoPandas in the next release."
   ]
  },
  {
   "cell_type": "markdown",
   "metadata": {
    "deletable": false,
    "editable": false,
    "nbgrader": {
     "cell_type": "markdown",
     "checksum": "cc91a19ee012c0fb7308ce92738d41c3",
     "grade": false,
     "grade_id": "challenge-2-instructions-1-2",
     "locked": true,
     "schema_version": 3,
     "solution": false,
     "task": false
    }
   },
   "source": [
    "In the cell below, add the code needed to \n",
    "\n",
    "* Open each layer\n",
    "* Reproject the data \n",
    "* Clip and subset the data \n",
    "\n",
    "At the end of the cell, be sure to call the clipped roads layer."
   ]
  },
  {
   "cell_type": "code",
   "execution_count": null,
   "metadata": {
    "deletable": false,
    "nbgrader": {
     "cell_type": "code",
     "checksum": "6a89b2ebd07249679e0dd59261ca7501",
     "grade": false,
     "grade_id": "challenge-2-answer",
     "locked": false,
     "schema_version": 3,
     "solution": true,
     "task": false
    }
   },
   "outputs": [],
   "source": [
    "# In this cell, add the code needed to open, reproject and clip / subset the data\n",
    "\n",
    "# YOUR CODE HERE\n",
    "raise NotImplementedError()"
   ]
  },
  {
   "cell_type": "code",
   "execution_count": null,
   "metadata": {
    "deletable": false,
    "editable": false,
    "nbgrader": {
     "cell_type": "code",
     "checksum": "5506aa3a94587f16d05d7d2bda98454e",
     "grade": true,
     "grade_id": "challenge-2-tests",
     "locked": true,
     "points": 0,
     "schema_version": 3,
     "solution": false,
     "task": false
    }
   },
   "outputs": [],
   "source": [
    "student_three_counties = _\n",
    "\n",
    "three_counties_points = 0\n",
    "\n",
    "if isinstance(student_three_counties, gpd.geodataframe.GeoDataFrame):\n",
    "    print(\"\\u2705 Great! Your clipped object is a GeoDataFrame!\")\n",
    "    three_counties_points += 1\n",
    "else:\n",
    "    print(\"\\u274C Oops, your clipped object is not a GeoDataFrame.\")\n",
    "\n",
    "if student_three_counties.crs.to_epsg() == 5070:\n",
    "    print(\"\\u2705 Great! Your clipped object has the correct CRS!\")\n",
    "    three_counties_points += 2\n",
    "else:\n",
    "    print(\"\\u274C Oops, your clipped object does not have the correct CRS.\")"
   ]
  },
  {
   "cell_type": "code",
   "execution_count": null,
   "metadata": {
    "deletable": false,
    "editable": false,
    "nbgrader": {
     "cell_type": "code",
     "checksum": "ae0bead0db96928bc731f992150bfed1",
     "grade": true,
     "grade_id": "challenge-2-tests-2",
     "locked": true,
     "points": 5,
     "schema_version": 3,
     "solution": false,
     "task": false
    }
   },
   "outputs": [],
   "source": [
    "# DO NOT MODIFY THIS CELL"
   ]
  },
  {
   "cell_type": "markdown",
   "metadata": {
    "deletable": false,
    "editable": false,
    "nbgrader": {
     "cell_type": "markdown",
     "checksum": "0b7f72d102fd069f6e1d130ed59fc9a7",
     "grade": false,
     "grade_id": "challenge-2-instructions-2",
     "locked": true,
     "schema_version": 3,
     "solution": false,
     "task": false
    }
   },
   "source": [
    "## Challenge 2b: Figure\n",
    "\n",
    "In the cell beloow,  add code to create the figure described above."
   ]
  },
  {
   "cell_type": "code",
   "execution_count": null,
   "metadata": {
    "caption": "Map showing the roads layer clipped to the three counties and colored according to which county the road is in.",
    "deletable": false,
    "nbgrader": {
     "cell_type": "code",
     "checksum": "f64acf588186664b552fde47b10c3275",
     "grade": false,
     "grade_id": "challenge-2-plot",
     "locked": false,
     "schema_version": 3,
     "solution": true,
     "task": false
    },
    "tags": [
     "hide"
    ]
   },
   "outputs": [],
   "source": [
    "# Figure 2 - Place only the code required to plot your data here\n",
    "# Additional processing code can go above this code cell\n",
    "\n",
    "# YOUR CODE HERE\n",
    "raise NotImplementedError()\n",
    "\n",
    "### DO NOT REMOVE LINE BELOW ###\n",
    "plot02_county_roads_clip = nb.convert_axes(plt, which_axes=\"current\")"
   ]
  },
  {
   "cell_type": "code",
   "execution_count": null,
   "metadata": {
    "deletable": false,
    "editable": false,
    "nbgrader": {
     "cell_type": "code",
     "checksum": "33128d407dbc2ab908dadc780a5211b6",
     "grade": true,
     "grade_id": "challenge-2-plot-tests",
     "locked": true,
     "points": 20,
     "schema_version": 3,
     "solution": false,
     "task": false
    }
   },
   "outputs": [],
   "source": [
    "# DO NOT MODIFY THIS CELL\n",
    "hw_plot2 = vct.VectorTester(plot02_county_roads_clip)\n",
    "\n",
    "\n",
    "plot_title = ag.run_test(hw_plot2.assert_title_contains,\n",
    "                         strings_expected='',\n",
    "                         points=1,\n",
    "                         correct_message=\"\\u2705 Plot title exists!\",\n",
    "                         error_message=\"\\u274C Check your plot title exists.\")\n",
    "\n",
    "print(plot_title['message'])\n"
   ]
  },
  {
   "cell_type": "markdown",
   "metadata": {
    "deletable": false,
    "editable": false,
    "nbgrader": {
     "cell_type": "markdown",
     "checksum": "b69776e576e55e77a6ab4856f0bc5250",
     "grade": false,
     "grade_id": "challenge-3-instructions",
     "locked": true,
     "schema_version": 3,
     "solution": false,
     "task": false
    }
   },
   "source": [
    "## Challenge 3:  Calculate Total Length of Road Siskiyou, Modoc, Del Norte County in California\n",
    "\n",
    "Create a dataframe that shows the total length of road in these counties used in plot 2: Siskiyou, Modoc, and Del Norte. To calculate this, use the data you created for plot 2.\n",
    "\n",
    "To calculate length of each line in your geodataframe, you can use the syntax `gdf.length`. Create a new column using the syntax:\n",
    "\n",
    "`gdf[\"length\"] = gdf.length`\n",
    "\n",
    "You can summarize the data to calculate total length using pandas `.groupby()` on the county column name.\n",
    "\n",
    "Note: you can use: `pd.options.display.float_format = '{:.4f}'.format` if you'd like to turn off scientific notation for your outputs.\n",
    "\n",
    "It should look something like this:\n",
    "\n",
    "\n",
    "||length|\n",
    "|----|----|\n",
    "|NAME|| \n",
    "|Del Norte| road length here|\n",
    "|Modoc| road length here|\n",
    "|Siskiyou| road length here|\n",
    "\n",
    "\n",
    "At the end of the cell, call the dataframe object"
   ]
  },
  {
   "cell_type": "code",
   "execution_count": null,
   "metadata": {
    "deletable": false,
    "nbgrader": {
     "cell_type": "code",
     "checksum": "62a627696ff27d7562f50a7cb0c82856",
     "grade": false,
     "grade_id": "challenge-3-answer",
     "locked": false,
     "schema_version": 3,
     "solution": true,
     "task": false
    },
    "tags": [
     "hide"
    ]
   },
   "outputs": [],
   "source": [
    "# TABLE 1 - Place the code required to create the dataframe\n",
    "\n",
    "# YOUR CODE HERE\n",
    "raise NotImplementedError()"
   ]
  },
  {
   "cell_type": "code",
   "execution_count": null,
   "metadata": {
    "deletable": false,
    "editable": false,
    "nbgrader": {
     "cell_type": "code",
     "checksum": "b6c85bdb73ba7abcc55abb9cc12c7b08",
     "grade": true,
     "grade_id": "challenge-3-tests-visible",
     "locked": true,
     "points": 0,
     "schema_version": 3,
     "solution": false,
     "task": false
    }
   },
   "outputs": [],
   "source": [
    "# DO NOT MODIFY THIS CELL\n",
    "# Test that the cali_roads_summary is of type dataframe and named correctly\n",
    "\n",
    "# Let's make sure you created an object with the correct name and of the correct type above!\n",
    "\n",
    "student_length_dataframe = _\n",
    "\n",
    "length_points = 0\n",
    "\n",
    "if len(student_length_dataframe) == 3:\n",
    "    print(\"\\u2705 Correct number of entries in the dataframe, good job!\")\n",
    "    length_points += 2\n",
    "else:\n",
    "    print(\"\\u274C Incorrect amount of entries in the dataframe.\")\n",
    "\n",
    "if student_length_dataframe.length.dtype == 'float':\n",
    "    print(\"\\u2705 Length column has the correct datatype!\")\n",
    "    length_points += 2\n",
    "else:\n",
    "    print(\"\\u274C Length column does not have the correct datetype.\")"
   ]
  },
  {
   "cell_type": "code",
   "execution_count": null,
   "metadata": {
    "deletable": false,
    "editable": false,
    "nbgrader": {
     "cell_type": "code",
     "checksum": "82163c627cf738f0a50a4ca821854c47",
     "grade": true,
     "grade_id": "challenge-3-tests-hidden",
     "locked": true,
     "points": 9,
     "schema_version": 3,
     "solution": false,
     "task": false
    }
   },
   "outputs": [],
   "source": [
    "# DO NOT MODIFY THIS CELL"
   ]
  },
  {
   "cell_type": "markdown",
   "metadata": {
    "deletable": false,
    "editable": false,
    "nbgrader": {
     "cell_type": "markdown",
     "checksum": "84e59468be92982b13f3fb1f7301b870",
     "grade": false,
     "grade_id": "challenge-4-instructions",
     "locked": true,
     "schema_version": 3,
     "solution": false,
     "task": false
    }
   },
   "source": [
    "## Challenge 4: Plot 3 - Global  Estimated Population \n",
    "\n",
    "Create a plot of quantile maps of the. sum. of global estimated population by region. To do this, you will use the following layers:\n",
    "\n",
    "1. Download the natural earth data from the following URL:\n",
    "`https://ndownloader.figshare.com/files/25515986`\n",
    "\n",
    "The URL below might look odd as it has two \"http\" strings in it, but it is how the url's are organized on natural earth and should work. \n",
    "\n",
    "Recall that using `et.data.get_data(url=url)` will download the data to the following directory: `earth-analytics/data/earthpy-downloads/` \n",
    "\n",
    "After you have downloaded the data, import the data and \n",
    "1. subset the data to include the following columns: `[\"REGION_WB\", \"POP_EST\", 'geometry']`\n",
    "2. Dissolve the data by region (`REGION_WB`) column and aggregate by `sum`. \n",
    "    * HINT: you can provide the aggfun= argument with a `[list]` of function names in quotes and it will summarize numeric columns using each function.\n",
    "3. Create a figure that shows the sum of estimated population (`POP_EST`) by region.\n",
    "    \n",
    "**NOTE:** you can ignore the warning from merge: `UserWarning: merging between different levels can give an unintended result`."
   ]
  },
  {
   "cell_type": "markdown",
   "metadata": {
    "deletable": false,
    "editable": false,
    "nbgrader": {
     "cell_type": "markdown",
     "checksum": "77475c016ea539cd7da923e588e4fd0a",
     "grade": false,
     "grade_id": "challenge-4-instructions-1-2",
     "locked": true,
     "schema_version": 3,
     "solution": false,
     "task": false
    }
   },
   "source": [
    "In the cell below:\n",
    "\n",
    "* Open up the data\n",
    "* Subset the columns needed using `dataframe[[\"column-1\", \"column-2\", \"column-3\"]]`\n",
    "* use the `dissolve` function to dissolve the data by the `REGION_WB` column\n",
    "\n",
    "Call your final dissolved geodataframe at the end of the cell"
   ]
  },
  {
   "cell_type": "code",
   "execution_count": null,
   "metadata": {
    "deletable": false,
    "nbgrader": {
     "cell_type": "code",
     "checksum": "cd75e0a0ee9494520722a9ad327b4408",
     "grade": false,
     "grade_id": "challenge-4-answer",
     "locked": false,
     "schema_version": 3,
     "solution": true,
     "task": false
    }
   },
   "outputs": [],
   "source": [
    "# YOUR CODE HERE\n",
    "raise NotImplementedError()"
   ]
  },
  {
   "cell_type": "code",
   "execution_count": null,
   "metadata": {
    "deletable": false,
    "editable": false,
    "nbgrader": {
     "cell_type": "code",
     "checksum": "a4867a3568a9b60d7d106bf0e249c0cb",
     "grade": true,
     "grade_id": "challenge-4-tests",
     "locked": true,
     "points": 4,
     "schema_version": 3,
     "solution": false,
     "task": false
    }
   },
   "outputs": [],
   "source": [
    "# DO NOT MODIFY THIS CELL\n",
    "student_dissolve_dataframe = _\n",
    "\n",
    "dissolve_points = 0\n",
    "\n",
    "if len(student_dissolve_dataframe) == 8:\n",
    "    print(\"\\u2705 Correct number of entries in the dataframe, good job!\")\n",
    "    dissolve_points += 2\n",
    "else:\n",
    "    print(\"\\u274C Incorrect amount of entries in the dataframe.\")\n",
    "\n",
    "if isinstance(student_dissolve_dataframe, gpd.GeoDataFrame):\n",
    "    print(\"\\u2705 Data is stored in a GeoDataFrame, good job!\")\n",
    "    dissolve_points += 2\n",
    "else:\n",
    "    print(\"\\u274C Data is not stored in a GeoDataFrame.\")\n",
    "\n",
    "print(\"\\n \\u27A1 You received {} out of 4 points.\".format(\n",
    "    dissolve_points))\n",
    "dissolve_points"
   ]
  },
  {
   "cell_type": "code",
   "execution_count": null,
   "metadata": {
    "deletable": false,
    "nbgrader": {
     "cell_type": "code",
     "checksum": "35c35c158e0059d3fc2ee3f14f21ed1f",
     "grade": false,
     "grade_id": "challenge-4-plot",
     "locked": false,
     "schema_version": 3,
     "solution": true,
     "task": false
    }
   },
   "outputs": [],
   "source": [
    "# PLOT 3 - Place only the code required to plot your data here\n",
    "# Additional processing code can go above this code cell\n",
    "\n",
    "# YOUR CODE HERE\n",
    "raise NotImplementedError()\n",
    "\n",
    "### DO NOT REMOVE LINE BELOW ###\n",
    "plot04_global_population = nb.convert_axes(plt, which_axes=\"current\")"
   ]
  },
  {
   "cell_type": "code",
   "execution_count": null,
   "metadata": {
    "deletable": false,
    "editable": false,
    "nbgrader": {
     "cell_type": "code",
     "checksum": "07b9c3ff31c22fa5678f9db80dd909cf",
     "grade": true,
     "grade_id": "challenge-4-plot-tests-extra",
     "locked": true,
     "points": 0,
     "schema_version": 3,
     "solution": false,
     "task": false
    }
   },
   "outputs": [],
   "source": [
    "# DO NOT MODIFY THIS CELL"
   ]
  },
  {
   "cell_type": "code",
   "execution_count": null,
   "metadata": {
    "deletable": false,
    "editable": false,
    "nbgrader": {
     "cell_type": "code",
     "checksum": "bb617ef7e3814d6d6e89bd0e67178b94",
     "grade": true,
     "grade_id": "challenge-4-plot-tests",
     "locked": true,
     "points": 7,
     "schema_version": 3,
     "solution": false,
     "task": false
    }
   },
   "outputs": [],
   "source": [
    "# DO NOT MODIFY THIS CELL\n",
    "\n",
    "hw_plot4_rank = vct.VectorTester(plot04_global_population)\n",
    "\n",
    "results = []\n",
    "\n",
    "plot_title_rank = ag.run_test(hw_plot4_rank.assert_title_contains,\n",
    "                              strings_expected='',\n",
    "                              points=1,\n",
    "                              correct_message=\"\\u2705 Plot title exists!\",\n",
    "                              error_message=\"\\u274C Check that your plot title exists.\")\n",
    "\n"
   ]
  },
  {
   "cell_type": "markdown",
   "metadata": {
    "deletable": false,
    "editable": false,
    "nbgrader": {
     "cell_type": "markdown",
     "checksum": "253b4ed8a9d2f2aae57bf667a218767a",
     "grade": false,
     "grade_id": "plot-3-manual-points",
     "locked": true,
     "points": 9,
     "schema_version": 3,
     "solution": false,
     "task": true
    }
   },
   "source": [
    "## Manual points for geometries in plot "
   ]
  },
  {
   "cell_type": "markdown",
   "metadata": {
    "deletable": false,
    "editable": false,
    "nbgrader": {
     "cell_type": "markdown",
     "checksum": "e1194afb79e1dbdd538d449b2724caf3",
     "grade": false,
     "grade_id": "pep8-grading",
     "locked": true,
     "points": 10,
     "schema_version": 3,
     "solution": false,
     "task": true
    }
   },
   "source": [
    "## Do not modify this cell (10 points)\n",
    "\n",
    "* Here we will grade pep8 format and imports listed at the top following pep 8 conventions.\n",
    "* Notebook begins with cell [1] and runs without modifications. \n",
    "* Be sure that your code can be run on any operating system. This means that:\n",
    "    * the data should be downloaded in the notebook to ensure it's reproducible\n",
    "    * all paths should be created dynamically using the os package to ensure that they work across operating systems"
   ]
  }
 ],
 "metadata": {
  "anaconda-cloud": {},
  "kernelspec": {
   "display_name": "Python 3",
   "language": "python",
   "name": "python3"
  },
  "language_info": {
   "codemirror_mode": {
    "name": "ipython",
    "version": 3
   },
   "file_extension": ".py",
   "mimetype": "text/x-python",
   "name": "python",
   "nbconvert_exporter": "python",
   "pygments_lexer": "ipython3",
   "version": "3.8.5"
  },
  "toc": {
   "base_numbering": 1,
   "nav_menu": {},
   "number_sections": true,
   "sideBar": true,
   "skip_h1_title": false,
   "title_cell": "Table of Contents",
   "title_sidebar": "Contents",
   "toc_cell": false,
   "toc_position": {},
   "toc_section_display": true,
   "toc_window_display": true
  },
  "varInspector": {
   "cols": {
    "lenName": 16,
    "lenType": 16,
    "lenVar": 40
   },
   "kernels_config": {
    "python": {
     "delete_cmd_postfix": "",
     "delete_cmd_prefix": "del ",
     "library": "var_list.py",
     "varRefreshCmd": "print(var_dic_list())"
    },
    "r": {
     "delete_cmd_postfix": ") ",
     "delete_cmd_prefix": "rm(",
     "library": "var_list.r",
     "varRefreshCmd": "cat(var_dic_list()) "
    }
   },
   "types_to_exclude": [
    "module",
    "function",
    "builtin_function_or_method",
    "instance",
    "_Feature"
   ],
   "window_display": false
  }
 },
 "nbformat": 4,
 "nbformat_minor": 2
}
