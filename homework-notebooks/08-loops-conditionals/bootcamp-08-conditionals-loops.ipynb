{
 "cells": [
  {
   "cell_type": "markdown",
   "metadata": {},
   "source": [
    "<img style=\"float: left;\" src=\"earth-lab-logo-rgb.png\" width=\"150\" height=\"150\" />\n",
    "\n",
    "# Earth Analytics Education - Bootcamp Course Fall 2020"
   ]
  },
  {
   "cell_type": "markdown",
   "metadata": {},
   "source": [
    "## Important  - Assignment Guidelines\n",
    "\n",
    "1. Before you turn in your assignment, make sure to run the entire notebook with a fresh kernel. To do this first, **restart the kernel** (in the menubar, select Kernel$\\rightarrow$Restart & Run All)\n",
    "2. In the cells below you will replace the `raise NotImplementedError()` code with your code that addresses the activity challenge. If you don't replace that code, your notebook will not run properly.\n",
    "\n",
    "```\n",
    "# YOUR CODE HERE\n",
    "raise NotImplementedError()\n",
    "```\n",
    "\n",
    "3. Any open ended questions will have a \"YOUR ANSWER HERE\" within a markdown cell. Replace that text with your answer also formatted using Markdown.\n",
    "4. **IMPORTANT: DO NOT RENAME THIS NOTEBOOK!** If the file name changes, the autograder will not grade your assignment properly.\n",
    "5. **Do not rename the notebook file.** If you do, the autograder will not recognize your submisson.\n",
    "6. When you plot, please comment out `plt.show()` as the code below will effectively run `plt.show()` for you and also will grab your plot for autograding. DO NOT DELETE any code that says `DO NOT REMOVE LINE BELOW`. That code is for autograding!!\n",
    "\n",
    "```\n",
    "### DO NOT REMOVE LINE BELOW ###\n",
    "student_plot1_ax = nb.convert_axes(plt)\n",
    "```\n",
    "\n",
    "\n",
    "\n",
    "## Follow to PEP 8 Syntax Guidelines\n",
    "\n",
    "* Run the `autopep8` tool on all cells prior to submitting (HINT: hit shift + the tool to run it on all cells at once!\n",
    "* Use clear and expressive names for variables. \n",
    "* Organize your code to support readability.\n",
    "* Check for code line length\n",
    "* Use comments and white space sparingly where it is needed\n"
   ]
  },
  {
   "cell_type": "markdown",
   "metadata": {},
   "source": [
    "### Add Your Name Below \n",
    "**Your Name:**"
   ]
  },
  {
   "cell_type": "markdown",
   "metadata": {},
   "source": [
    "<img style=\"float: left;\" src=\"colored-bar.png\"/>"
   ]
  },
  {
   "cell_type": "markdown",
   "metadata": {},
   "source": [
    "---"
   ]
  },
  {
   "cell_type": "markdown",
   "metadata": {
    "deletable": false,
    "editable": false,
    "hideCode": false,
    "hidePrompt": false,
    "nbgrader": {
     "cell_type": "markdown",
     "checksum": "0fb214a126133f1870f1b9b0a30998c1",
     "grade": false,
     "grade_id": "hw-instructions",
     "locked": true,
     "schema_version": 3,
     "solution": false
    }
   },
   "source": [
    "# Week 8 Homework - Loops & Conditionals\n",
    "\n",
    "To complete assignment 10, review Chaps 17-18 in Section 7 of the <a href=\"https://www.earthdatascience.org/courses/intro-to-earth-data-science/\" target=\"_blank\">Intro to Earth Data Science online textbook</a> online textbook, which conditional statements and loops in **Python**.   \n",
    "\n",
    "Read the instructions for each question carefully to successfully complete the required tasks.\n",
    "\n",
    "\n",
    "## Assignment Data\n",
    "\n",
    "For this assignment, you will write **Python** code to download and work with data on fire occurrence in California between 1992 and 2015 provided by <a href=\"https://www.fs.usda.gov/rds/archive/Product/RDS-2013-0009.4/\" target=\"_blank\">the United States Forest Service</a>."
   ]
  },
  {
   "cell_type": "code",
   "execution_count": null,
   "metadata": {
    "deletable": false,
    "editable": false,
    "hideCode": false,
    "hidePrompt": false,
    "nbgrader": {
     "cell_type": "code",
     "checksum": "b3903be10f1ed60e6ee64175dd5b6bba",
     "grade": false,
     "grade_id": "core-imports",
     "locked": true,
     "schema_version": 3,
     "solution": false
    }
   },
   "outputs": [],
   "source": [
    "# DO NOT MODIFY THIS CELL\n",
    "# Core imports needed for grading\n",
    "import matplotcheck.notebook as nb\n",
    "from matplotcheck.base import PlotTester\n",
    "import matplotcheck.autograde as ag\n",
    "import matplotlib"
   ]
  },
  {
   "cell_type": "markdown",
   "metadata": {
    "deletable": false,
    "editable": false,
    "hideCode": false,
    "hidePrompt": false,
    "nbgrader": {
     "cell_type": "markdown",
     "checksum": "c918bcad051b053e5f5dcc18eddc11bd",
     "grade": false,
     "grade_id": "question-student-imports",
     "locked": true,
     "schema_version": 3,
     "solution": false
    }
   },
   "source": [
    "## Import Python Packages\n",
    "\n",
    "In the cell below, add code **after the line for `Your Code Here`**, replacing `raise NotImplementedError()` with your code to import the packages/modules needed to:\n",
    "* create plots \n",
    "* set your working directory\n",
    "* get lists of files in a directory\n",
    "* download data using earthpy functions\n",
    "* work with pandas DataFrames\n",
    "\n",
    "Be sure to list the package imports following the appropriate PEP 8 order and spacing. \n"
   ]
  },
  {
   "cell_type": "code",
   "execution_count": null,
   "metadata": {
    "deletable": false,
    "hideCode": false,
    "hidePrompt": false,
    "nbgrader": {
     "cell_type": "code",
     "checksum": "c82ca46f08745f749981abab3b3cf755",
     "grade": true,
     "grade_id": "student-imports-answer",
     "locked": false,
     "points": 1,
     "schema_version": 3,
     "solution": true
    }
   },
   "outputs": [],
   "source": [
    "# YOUR CODE HERE\n",
    "raise NotImplementedError()"
   ]
  },
  {
   "cell_type": "markdown",
   "metadata": {
    "deletable": false,
    "editable": false,
    "hideCode": false,
    "hidePrompt": false,
    "nbgrader": {
     "cell_type": "markdown",
     "checksum": "9f64da123482104f3b2d9855aed006c5",
     "grade": false,
     "grade_id": "question-set-wd",
     "locked": true,
     "schema_version": 3,
     "solution": false,
     "task": false
    }
   },
   "source": [
    "## Set Working Directory\n",
    "\n",
    "In the cell below complete the following task:\n",
    "\n",
    "* **Use a conditional statement** to:\n",
    "    * Set the working directory to **your `earth-analytics/data` directory in your home directory** if the path exists.\n",
    "    * Make the directory using `os.makedirs()` and then print a helpful message that the path does not exist but it's being created. \n",
    "\n",
    "Reduce repetition in your code with reusable variables. \n",
    "\n",
    "Be sure to use the appropriate functions that will allow your code to run successfully on any operating system."
   ]
  },
  {
   "cell_type": "code",
   "execution_count": null,
   "metadata": {
    "deletable": false,
    "hideCode": false,
    "hidePrompt": false,
    "nbgrader": {
     "cell_type": "code",
     "checksum": "216a043acbc3557538bc5a7ee45b2178",
     "grade": false,
     "grade_id": "student-set-wd-answer",
     "locked": false,
     "schema_version": 3,
     "solution": true,
     "task": false
    }
   },
   "outputs": [],
   "source": [
    "# YOUR CODE HERE\n",
    "raise NotImplementedError()"
   ]
  },
  {
   "cell_type": "markdown",
   "metadata": {
    "deletable": false,
    "editable": false,
    "hideCode": false,
    "hidePrompt": false,
    "nbgrader": {
     "cell_type": "markdown",
     "checksum": "4fe93290f09e34d66abc039767ab4088",
     "grade": false,
     "grade_id": "question-download-data",
     "locked": true,
     "schema_version": 3,
     "solution": false,
     "task": false
    }
   },
   "source": [
    "## Download Data Using EarthPy\n",
    "\n",
    "In the cell below, add code **after the line for `Your Code Here`**, replacing `raise NotImplementedError()` with your code, to complete the following task:\n",
    "\n",
    "* **Use EarthPy to download this url: https://ndownloader.figshare.com/files/25033508**: \n",
    "\n",
    "In this download, you'll see three directories with files containing data by year:\n",
    "\n",
    "* ca-fires-yearly/monthly-fire-count\n",
    "    * The dataset contains the total number of fires (greater than 100 acres) that occurred in each month and year in California between 1992 and 2015. The data are organized with a file for each year from 1992 to 2015.\n",
    "* ca-fires-yearly/monthly-mean-size\n",
    "    * The dataset contains the mean fire size (acres) of all fires greater than 100 acres for each month and year in California between 1992 and 2015. The data are organized with a file for each year from 1992 to 2015\n",
    "* ca-fires-yearly/1992-2015-gt-100-acres\n",
    "    * The dataset contains the cause of all fires greater than 100 acres in California between 1992 and 2015. The data are organized with a file for each year from 1992 to 2015"
   ]
  },
  {
   "cell_type": "code",
   "execution_count": null,
   "metadata": {
    "deletable": false,
    "hideCode": false,
    "hidePrompt": false,
    "nbgrader": {
     "cell_type": "code",
     "checksum": "f332460b2885b7e64dc8145f658a3eb0",
     "grade": false,
     "grade_id": "student-download-data-answer",
     "locked": false,
     "schema_version": 3,
     "solution": true,
     "task": false
    }
   },
   "outputs": [],
   "source": [
    "# YOUR CODE HERE\n",
    "raise NotImplementedError()"
   ]
  },
  {
   "cell_type": "code",
   "execution_count": null,
   "metadata": {
    "deletable": false,
    "editable": false,
    "hideCode": false,
    "hidePrompt": false,
    "nbgrader": {
     "cell_type": "code",
     "checksum": "20a1fb3207b3e24404d29bc4bfef1206",
     "grade": true,
     "grade_id": "student-download-tests",
     "locked": true,
     "points": 5,
     "schema_version": 3,
     "solution": false,
     "task": false
    }
   },
   "outputs": [],
   "source": [
    "# DO NOT MODIFY THIS CELL\n",
    "# Tests that the working directory is set to earth-analytics/data\n",
    "\n",
    "path = os.path.normpath(os.getcwd())\n",
    "student_wd_parts = path.split(os.sep)\n",
    "\n",
    "wd_points = 0\n",
    "\n",
    "if student_wd_parts[-2:] == ['earth-analytics', 'data']:\n",
    "    print(\"\\u2705 Great - it looks like your working directory is set correctly to .../earth-analytics/data\")\n",
    "    wd_points += 5\n",
    "else:\n",
    "    print(\"\\u274C Oops, the autograder will not run unless your working directory is set to earth-analytics/data\")\n",
    "\n",
    "print(\"\\n \\u27A1 You received {} out of 5 points for setting your working directory.\".format(\n",
    "    wd_points))\n",
    "wd_points"
   ]
  },
  {
   "cell_type": "markdown",
   "metadata": {
    "deletable": false,
    "editable": false,
    "nbgrader": {
     "cell_type": "markdown",
     "checksum": "d5f368dde2556d0ddda78bafd22b45e9",
     "grade": false,
     "grade_id": "cell-ce7e4756075f9dfc",
     "locked": true,
     "schema_version": 3,
     "solution": false,
     "task": false
    }
   },
   "source": [
    "<img style=\"float: left;\" src=\"colored-bar.png\"/>"
   ]
  },
  {
   "cell_type": "markdown",
   "metadata": {
    "deletable": false,
    "editable": false,
    "hideCode": false,
    "hidePrompt": false,
    "nbgrader": {
     "cell_type": "markdown",
     "checksum": "f5d508b891e6676802f8509b0dd62db7",
     "grade": false,
     "grade_id": "question-import-data",
     "locked": true,
     "schema_version": 3,
     "solution": false,
     "task": false
    }
   },
   "source": [
    "## Challenge 1: Import Monthly Fire Count Data\n",
    "\n",
    "In the cell below complete the following task:\n",
    "\n",
    "* Create a for loop that prints the file name  for each `.csv` file in the `earthpy-downloads\\ca-fires-yearly\\monthly-fire-count` directory\n",
    "* In that same loop, extract the date for each year in each `.csv` file name and add it to a new list sorted in order from earliest to most recent  year using `list.append()`.\n",
    "\n",
    "Your final list should look something like this (with more years however): \n",
    "\n",
    "`[\"1992\", \"1993\", \"1994\"]`\n",
    "\n",
    "At the end of the cell, call the list object of years so that it prints below \n",
    "the cell as standard output (**do not use the print statement**)."
   ]
  },
  {
   "cell_type": "code",
   "execution_count": null,
   "metadata": {
    "deletable": false,
    "hideCode": false,
    "hidePrompt": false,
    "nbgrader": {
     "cell_type": "code",
     "checksum": "dcda1eb98536da04053331b7438f553f",
     "grade": false,
     "grade_id": "student-import-count-answer",
     "locked": false,
     "schema_version": 3,
     "solution": true,
     "task": false
    }
   },
   "outputs": [],
   "source": [
    "# YOUR CODE HERE\n",
    "raise NotImplementedError()"
   ]
  },
  {
   "cell_type": "code",
   "execution_count": null,
   "metadata": {
    "deletable": false,
    "editable": false,
    "hideCode": false,
    "hidePrompt": false,
    "nbgrader": {
     "cell_type": "code",
     "checksum": "59cd1533c50178f75944425a5ed4a649",
     "grade": true,
     "grade_id": "student-import-count-tests-1",
     "locked": true,
     "points": 0,
     "schema_version": 3,
     "solution": false,
     "task": false
    }
   },
   "outputs": [],
   "source": [
    "# Test that the list was created and returned correctly\n",
    "\n",
    "student_year_list = _\n",
    "\n",
    "if isinstance(student_year_list, list):\n",
    "    print(\"\\u2705 The object you created is a list, good job!\")\n",
    "else:\n",
    "    print(\"\\u274C The object you created is not a list, please make sure to create a list.\")"
   ]
  },
  {
   "cell_type": "code",
   "execution_count": null,
   "metadata": {
    "deletable": false,
    "editable": false,
    "hideCode": false,
    "hidePrompt": false,
    "nbgrader": {
     "cell_type": "code",
     "checksum": "b3b6b26505d712fd8c8eea7472282011",
     "grade": true,
     "grade_id": "student-import-count-tests-2",
     "locked": true,
     "points": 5,
     "schema_version": 3,
     "solution": false,
     "task": false
    }
   },
   "outputs": [],
   "source": [
    "# DO NOT MODIFY THIS CELL"
   ]
  },
  {
   "cell_type": "markdown",
   "metadata": {
    "deletable": false,
    "editable": false,
    "hideCode": false,
    "hidePrompt": false,
    "nbgrader": {
     "cell_type": "markdown",
     "checksum": "ac11ff9bf4f7c72a8a4c7665de369075",
     "grade": false,
     "grade_id": "cell-bb906292772cf961",
     "locked": true,
     "schema_version": 3,
     "solution": false,
     "task": false
    }
   },
   "source": [
    "## Challenge 2: Create A Monthly Fire Count DataFrame With a Year Column\n",
    "\n",
    "In the cell below use the same for loop structure that you used above to create a dataframe containing \n",
    "data for all of the years. The dataframe should have month names as a header and should contain monthly fire counts for each year. \n",
    "\n",
    "1. loop through each `.csv` file sorted by name\n",
    "2. open that file using pandas\n",
    "3. add a new column to each data.frame that contains the year associated with the data. You will need to extract the year from the file name similar to what you did above. \n",
    "3. add the DataFrame object to a list object using `list-name.append()`\n",
    "4. When you loop is complete:\n",
    "   * combine all of the dataframes in the list into a new `DataFrame` using `pd.concat(list-name, ax=0)` to combine all of the dataframes in your list into a final dataframe that contains all of the data.\n",
    "   * Set the \"year\"  column as an index\n",
    "\n",
    "Call the final `DataFrame` object at the end of the cell. "
   ]
  },
  {
   "cell_type": "code",
   "execution_count": null,
   "metadata": {
    "deletable": false,
    "hideCode": false,
    "hidePrompt": false,
    "nbgrader": {
     "cell_type": "code",
     "checksum": "707f870c92b709ce6e63482536b3d790",
     "grade": false,
     "grade_id": "student-count-year-answer",
     "locked": false,
     "schema_version": 3,
     "solution": true,
     "task": false
    }
   },
   "outputs": [],
   "source": [
    "# YOUR CODE HERE\n",
    "raise NotImplementedError()"
   ]
  },
  {
   "cell_type": "code",
   "execution_count": null,
   "metadata": {
    "deletable": false,
    "editable": false,
    "hideCode": false,
    "hidePrompt": false,
    "nbgrader": {
     "cell_type": "code",
     "checksum": "29d6a2ec95e659acd54974dea3532963",
     "grade": true,
     "grade_id": "student-count-year-test-1",
     "locked": true,
     "points": 0,
     "schema_version": 3,
     "solution": false,
     "task": false
    }
   },
   "outputs": [],
   "source": [
    "# DO NOT MODIFY THIS CELL\n",
    "student_dataframe_monthly_count = _\n",
    "\n",
    "if isinstance(student_dataframe_monthly_count, pd.DataFrame):\n",
    "    print(\"\\u2705 Object created is a dataframe, good job!\")\n",
    "else:\n",
    "    print(\"\\u274C Object created is not a dataframe.\")\n",
    "\n",
    "if student_dataframe_monthly_count.index.name == 'year':\n",
    "    print(\"\\u2705 Successfully read in the year column as the index!\")\n",
    "else:\n",
    "    print(\"\\u274C The index is not set to the year column.\")"
   ]
  },
  {
   "cell_type": "code",
   "execution_count": null,
   "metadata": {
    "deletable": false,
    "editable": false,
    "hideCode": false,
    "hidePrompt": false,
    "nbgrader": {
     "cell_type": "code",
     "checksum": "fe4dacbb08722b927eee5f11ae99b887",
     "grade": true,
     "grade_id": "cell-student-count-year-test-2",
     "locked": true,
     "points": 5,
     "schema_version": 3,
     "solution": false,
     "task": false
    }
   },
   "outputs": [],
   "source": [
    "# DO NOT MODIFY THIS CELL"
   ]
  },
  {
   "cell_type": "markdown",
   "metadata": {
    "deletable": false,
    "editable": false,
    "hideCode": false,
    "hidePrompt": false,
    "nbgrader": {
     "cell_type": "markdown",
     "checksum": "9a96b7874ffd7aba16dddedd3e60618c",
     "grade": false,
     "grade_id": "cell-016680d27d8302d2",
     "locked": true,
     "schema_version": 3,
     "solution": false,
     "task": false
    }
   },
   "source": [
    "## Challenge 3: Calculate Monthly Mean Fire Count\n",
    "\n",
    "In the cell below use Pandas to calculate the **mean monthly fire count**.\n",
    "You should have one value for each month as an output. \n",
    "\n",
    "Set the display options to:\n",
    "\n",
    "`pd.options.display.float_format = '{:.1f}'.format`\n",
    "\n",
    "To ensure that the values returned are rounded.\n",
    "Be sure to call the object at the end of the cell so that it renders as cell output.\n",
    "**DO NOT USE THE PRINT STATEMENT!**"
   ]
  },
  {
   "cell_type": "code",
   "execution_count": null,
   "metadata": {
    "deletable": false,
    "hideCode": false,
    "hidePrompt": false,
    "nbgrader": {
     "cell_type": "code",
     "checksum": "1fe82e57cc366bb9c28cdd3af4ba2501",
     "grade": false,
     "grade_id": "student-monthly-mean-answer",
     "locked": false,
     "schema_version": 3,
     "solution": true,
     "task": false
    }
   },
   "outputs": [],
   "source": [
    "# YOUR CODE HERE\n",
    "raise NotImplementedError()"
   ]
  },
  {
   "cell_type": "code",
   "execution_count": null,
   "metadata": {
    "deletable": false,
    "editable": false,
    "hideCode": false,
    "hidePrompt": false,
    "nbgrader": {
     "cell_type": "code",
     "checksum": "b53342fcd9f83ea2062d5cd1eaf1c4dd",
     "grade": true,
     "grade_id": "student-monthly-mean-test",
     "locked": true,
     "points": 5,
     "schema_version": 3,
     "solution": false,
     "task": false
    }
   },
   "outputs": [],
   "source": [
    "# DO NOT MODIFY THIS CELL"
   ]
  },
  {
   "cell_type": "markdown",
   "metadata": {
    "deletable": false,
    "editable": false,
    "nbgrader": {
     "cell_type": "markdown",
     "checksum": "92e63211fe374fca76e9667d102455a2",
     "grade": false,
     "grade_id": "cell-8269ec0155cd4cf9",
     "locked": true,
     "schema_version": 3,
     "solution": false,
     "task": false
    }
   },
   "source": [
    "<img style=\"float: left;\" src=\"colored-bar.png\"/>"
   ]
  },
  {
   "cell_type": "markdown",
   "metadata": {
    "deletable": false,
    "editable": false,
    "hideCode": false,
    "hidePrompt": false,
    "nbgrader": {
     "cell_type": "markdown",
     "checksum": "ddb0c616f0d39c18f8597ecccd4cdb76",
     "grade": false,
     "grade_id": "challenge-4-description",
     "locked": true,
     "schema_version": 3,
     "solution": false,
     "task": false
    }
   },
   "source": [
    "## Challenge 4: Calculate Yearly Mean Fire Count\n",
    "\n",
    "In the cell below use pandas to calculate the mean yearly fire count.\n",
    "HINT: similar to `numpy.mean()`, using `axis=` when you call `.mean()` will help you \n",
    "calculate a mean per row (by year) rather than by column (by month). \n",
    "\n",
    "For your answer below, use `pd.options.display.float_format = '{:.1f}'.format` to \n",
    "ensure that your data values are rounded to one decimal point. \n",
    "\n",
    "IMPORTANT: Call the object that contains mean values at the end of the cell so the \n",
    "output renders as output below."
   ]
  },
  {
   "cell_type": "code",
   "execution_count": null,
   "metadata": {
    "deletable": false,
    "hideCode": false,
    "hidePrompt": false,
    "nbgrader": {
     "cell_type": "code",
     "checksum": "25e94302ea4bc11edeb3af1f2d48542f",
     "grade": false,
     "grade_id": "student_yearly_mean_answer",
     "locked": false,
     "schema_version": 3,
     "solution": true,
     "task": false
    }
   },
   "outputs": [],
   "source": [
    "# YOUR CODE HERE\n",
    "raise NotImplementedError()"
   ]
  },
  {
   "cell_type": "code",
   "execution_count": null,
   "metadata": {
    "deletable": false,
    "editable": false,
    "hideCode": false,
    "hidePrompt": false,
    "nbgrader": {
     "cell_type": "code",
     "checksum": "78888eb18bbe1c918ca7b1e24ddf41cc",
     "grade": true,
     "grade_id": "student_yearly_mean_test",
     "locked": true,
     "points": 5,
     "schema_version": 3,
     "solution": false,
     "task": false
    }
   },
   "outputs": [],
   "source": [
    "# DO NOT MODIFY THIS CELL"
   ]
  },
  {
   "cell_type": "markdown",
   "metadata": {
    "deletable": false,
    "editable": false,
    "nbgrader": {
     "cell_type": "markdown",
     "checksum": "bf74e8c1a225a65ab85788082856b0d5",
     "grade": false,
     "grade_id": "cell-a8e5f076177ae396",
     "locked": true,
     "schema_version": 3,
     "solution": false,
     "task": false
    }
   },
   "source": [
    "<img style=\"float: left;\" src=\"colored-bar.png\"/>"
   ]
  },
  {
   "cell_type": "markdown",
   "metadata": {
    "deletable": false,
    "editable": false,
    "hideCode": false,
    "hidePrompt": false,
    "nbgrader": {
     "cell_type": "markdown",
     "checksum": "edd11f78697df27679cd11bd7a8a3ddc",
     "grade": false,
     "grade_id": "cell-challenge-5-desc",
     "locked": true,
     "schema_version": 3,
     "solution": false,
     "task": false
    }
   },
   "source": [
    "## Challenge 5: Open and Create a Fire Size DataFrame With A Year Column\n",
    "\n",
    "Use a `for` loop to open and add the data in the directory:\n",
    "\n",
    "`earthpy-downloads/ca-fire-data/yearly_data/mean_fire_size`\n",
    "\n",
    "to a new DataFrame following the same steps that you completed above.\n",
    "\n",
    "1. loop through each `.csv` file sorted by name\n",
    "2. open that file using pandas\n",
    "3. add a new column to each `DataFrame` that contains the year associated with the data. You will need to extract the year from the file name similar to what you did above. \n",
    "4. Outside of the for loop, combine all of the files into a single DataFrame and set the year column to be an index (just like you did for the fire count data above). \n",
    "\n",
    "Call the new DataFrame object at the end of the cell."
   ]
  },
  {
   "cell_type": "code",
   "execution_count": null,
   "metadata": {
    "deletable": false,
    "hideCode": false,
    "hidePrompt": false,
    "nbgrader": {
     "cell_type": "code",
     "checksum": "7249d7e82e1edc8f1fc058669084455c",
     "grade": false,
     "grade_id": "create-fire-size-answer",
     "locked": false,
     "schema_version": 3,
     "solution": true,
     "task": false
    }
   },
   "outputs": [],
   "source": [
    "# YOUR CODE HERE\n",
    "raise NotImplementedError()"
   ]
  },
  {
   "cell_type": "code",
   "execution_count": null,
   "metadata": {
    "deletable": false,
    "editable": false,
    "hideCode": false,
    "hidePrompt": false,
    "nbgrader": {
     "cell_type": "code",
     "checksum": "686834ea3bf452a9d94fbfc1e4b0eae2",
     "grade": true,
     "grade_id": "create-fire-size-test-1",
     "locked": true,
     "points": 0,
     "schema_version": 3,
     "solution": false,
     "task": false
    }
   },
   "outputs": [],
   "source": [
    "# DO NOT MODIFY THIS CELL\n",
    "# Visible test that there is a DataFrame with a year index\n",
    "\n",
    "student_size_df = _\n",
    "\n",
    "if isinstance(student_size_df, pd.DataFrame):\n",
    "    print(\"\\u2705 Object created is a dataframe, good job!\")\n",
    "else:\n",
    "    print(\"\\u274C Object created is not a dataframe.\")\n",
    "\n",
    "\n",
    "if student_size_df.index.name == 'year':\n",
    "    print(\"\\u2705 Successfully read in the year column as the index!\")\n",
    "else:\n",
    "    print(\"\\u274C The index is not set to the year column.\")"
   ]
  },
  {
   "cell_type": "code",
   "execution_count": null,
   "metadata": {
    "deletable": false,
    "editable": false,
    "hideCode": false,
    "hidePrompt": false,
    "nbgrader": {
     "cell_type": "code",
     "checksum": "124e01284b33b2ba78aa300ffd0b15a5",
     "grade": true,
     "grade_id": "create-fire-size-test-2",
     "locked": true,
     "points": 5,
     "schema_version": 3,
     "solution": false,
     "task": false
    }
   },
   "outputs": [],
   "source": [
    "# DO NOT MODIFY THIS CELL"
   ]
  },
  {
   "cell_type": "markdown",
   "metadata": {
    "deletable": false,
    "editable": false,
    "hideCode": false,
    "hidePrompt": false,
    "nbgrader": {
     "cell_type": "markdown",
     "checksum": "ecffaf5769a8cad11a59bbcc811201c5",
     "grade": false,
     "grade_id": "cell-1f5b560a0831556a",
     "locked": true,
     "schema_version": 3,
     "solution": false,
     "task": false
    }
   },
   "source": [
    "## Challenge 6: Calculate the Monthly  Max Values for Fire Size \n",
    "\n",
    "In the cell below calculate the max fire size value **for each month** (summarized across all years).\n",
    "\n",
    "You should have one value per month as the output. \n",
    "Be sure to call the object in the cell so it renders below (DO NOT USE PRINT)."
   ]
  },
  {
   "cell_type": "code",
   "execution_count": null,
   "metadata": {
    "deletable": false,
    "hideCode": false,
    "hidePrompt": false,
    "nbgrader": {
     "cell_type": "code",
     "checksum": "6be6836e689483146d468cb204b8e789",
     "grade": false,
     "grade_id": "fire-size-monthly-max-answer",
     "locked": false,
     "schema_version": 3,
     "solution": true,
     "task": false
    }
   },
   "outputs": [],
   "source": [
    "# YOUR CODE HERE\n",
    "raise NotImplementedError()"
   ]
  },
  {
   "cell_type": "code",
   "execution_count": null,
   "metadata": {
    "deletable": false,
    "editable": false,
    "nbgrader": {
     "cell_type": "code",
     "checksum": "da9e885f46b081d7e2050ccc5c77998f",
     "grade": true,
     "grade_id": "fire-size-monthly-max-test-1",
     "locked": true,
     "points": 0,
     "schema_version": 3,
     "solution": false,
     "task": false
    }
   },
   "outputs": [],
   "source": [
    "# DO NOT MODIFY THIS CELL\n",
    "student_monthly_max_size = _\n",
    "\n",
    "if len(student_monthly_max_size) == 12:\n",
    "    print(\"\\u2705 Great work - you have 12 objects in your {} object\".format(type(student_size_df.max())))\n",
    "else:\n",
    "    print(\"\\u274C Oops! You don't have 12 objects in your output.\")"
   ]
  },
  {
   "cell_type": "code",
   "execution_count": null,
   "metadata": {
    "deletable": false,
    "editable": false,
    "hideCode": false,
    "hidePrompt": false,
    "nbgrader": {
     "cell_type": "code",
     "checksum": "c26035d2f1f427d91c71aef97fab691c",
     "grade": true,
     "grade_id": "fire-size-monthly-max-test-2",
     "locked": true,
     "points": 5,
     "schema_version": 3,
     "solution": false,
     "task": false
    }
   },
   "outputs": [],
   "source": [
    "# DO NOT MODIFY THIS CELL"
   ]
  },
  {
   "cell_type": "markdown",
   "metadata": {
    "deletable": false,
    "editable": false,
    "nbgrader": {
     "cell_type": "markdown",
     "checksum": "1eddf2f98a076e8556b2b7cf0338e8f2",
     "grade": false,
     "grade_id": "cell-4e648217a670a773",
     "locked": true,
     "schema_version": 3,
     "solution": false,
     "task": false
    }
   },
   "source": [
    "<img style=\"float: left;\" src=\"colored-bar.png\"/>"
   ]
  },
  {
   "cell_type": "markdown",
   "metadata": {
    "deletable": false,
    "editable": false,
    "hideCode": false,
    "hidePrompt": false,
    "nbgrader": {
     "cell_type": "markdown",
     "checksum": "f54c4f18b9d9cd04d9546fbdd606d337",
     "grade": false,
     "grade_id": "challenge7-question-plot",
     "locked": true,
     "schema_version": 3,
     "solution": false
    }
   },
   "source": [
    "## Challenge 7: Figure of Fire Season in California\n",
    "\n",
    "You have been asked to create a figure that describes the number of fires (fire count)\n",
    "and the associated size of fires in California. The goal of this figure it so \n",
    "look at what time of the year we are seeing the largest and most fires. \n",
    "\n",
    "In the cell below complete the following task:\n",
    "\n",
    "* Create one multi-plot figure that contains two subplots that are **vertically spaced - one on top \n",
    "of the other**:\n",
    "    * **top plot**: Plot the mean **fire count** for each month\n",
    "    * **bottom plot** : Plot the mean of **fire size** for each month\n",
    "* **Use a different color for each plot but you can use the same style if you like.** \n",
    "    * For each plot, be sure to include appropriate titles and axes labels including units of measurement where appropriate. \n",
    "* Add an overall title for the entire figure. \n",
    "\n",
    "For your title and labels, be sure to think about the following pieces of information that could help someone easily interpret the plot:\n",
    "* geographic coverage or extent of data.\n",
    "* duration or temporal extent of the data.\n",
    "* what was actually measured and/or represented by the data.\n",
    "* units of measurement.\n",
    "\n",
    "**REMINDER:** comment out the code line `plt.show()` in your plot code like this: `# plt.show()`."
   ]
  },
  {
   "cell_type": "code",
   "execution_count": null,
   "metadata": {
    "deletable": false,
    "hideCode": false,
    "hidePrompt": false,
    "nbgrader": {
     "cell_type": "code",
     "checksum": "1c28d422b32f11ce52c1bc206566f065",
     "grade": false,
     "grade_id": "student-create-plot-1-answer",
     "locked": false,
     "schema_version": 3,
     "solution": true,
     "task": false
    }
   },
   "outputs": [],
   "source": [
    "# YOUR CODE HERE\n",
    "raise NotImplementedError()\n",
    "\n",
    "### DO NOT REMOVE LINE BELOW ###\n",
    "hist_plot_1 = nb.convert_axes(plt, which_axes=\"all\")"
   ]
  },
  {
   "cell_type": "code",
   "execution_count": null,
   "metadata": {
    "deletable": false,
    "editable": false,
    "nbgrader": {
     "cell_type": "code",
     "checksum": "746a01450395c83d599b6447953f5eec",
     "grade": true,
     "grade_id": "plot-1-tests",
     "locked": true,
     "points": 20,
     "schema_version": 3,
     "solution": false,
     "task": false
    }
   },
   "outputs": [],
   "source": [
    "# DO NOT MODIFY THIS CELL\n",
    "count_hist = PlotTester(hist_plot_1[0])\n",
    "size_hist = PlotTester(hist_plot_1[1])\n",
    "bar_plot_1, bar_plot_2 = False, False\n",
    "\n",
    "try:\n",
    "    count_hist.assert_plot_type('bar')\n",
    "    print(\"\\u2705 First plot is a bar plot!\")\n",
    "    bar_plot_1 = True\n",
    "except AssertionError:\n",
    "    print(\"\\u274C The first plot is not a bar plot, make sure to make it to a bar plot. Tests will not run successfully if this does not pass.\")\n",
    "\n",
    "try:\n",
    "    size_hist.assert_plot_type('bar')\n",
    "    print(\"\\u2705 Second plot is a bar plot!\")\n",
    "    bar_plot_2 = True\n",
    "except AssertionError:\n",
    "    print(\"\\u274C The second plot is not a bar plot, make sure to make it to a bar plot. Tests will not run successfully if this does not pass.\")\n"
   ]
  },
  {
   "cell_type": "markdown",
   "metadata": {
    "deletable": false,
    "editable": false,
    "hideCode": false,
    "hidePrompt": false,
    "nbgrader": {
     "cell_type": "markdown",
     "checksum": "126bd1036142c7d92e18ddef779aaf1a",
     "grade": false,
     "grade_id": "question-explain-pep-8",
     "locked": true,
     "schema_version": 3,
     "solution": false,
     "task": false
    }
   },
   "source": [
    "## Discuss Your Plot\n",
    "\n",
    "In the Markdown cell below, answer the following questions using a Markdown list.\n",
    "\n",
    "1. In what month are fires the largest during the time period represented in the two datasets?\n",
    "2. In what month are there the most fires during the time period represented in this data?\n",
    "3. If the above answers are different months, can you think of a reason why this trend might occur?\n"
   ]
  },
  {
   "cell_type": "markdown",
   "metadata": {
    "deletable": false,
    "hideCode": false,
    "hidePrompt": false,
    "nbgrader": {
     "cell_type": "markdown",
     "checksum": "4f413fa0b0ec10b6be713e09bf4b6e9b",
     "grade": true,
     "grade_id": "cell-e5b21fde84e3e84e",
     "locked": false,
     "points": 10,
     "schema_version": 3,
     "solution": true,
     "task": false
    }
   },
   "source": [
    "YOUR ANSWER HERE"
   ]
  },
  {
   "cell_type": "markdown",
   "metadata": {
    "deletable": false,
    "editable": false,
    "nbgrader": {
     "cell_type": "markdown",
     "checksum": "cc0f580f85aa055eaa733e4cdcd2007c",
     "grade": false,
     "grade_id": "cell-25302b6b552f8180",
     "locked": true,
     "schema_version": 3,
     "solution": false,
     "task": false
    }
   },
   "source": [
    "<img style=\"float: left;\" src=\"colored-bar.png\"/>"
   ]
  },
  {
   "cell_type": "markdown",
   "metadata": {
    "deletable": false,
    "editable": false,
    "hideCode": false,
    "hideOutput": true,
    "hidePrompt": false,
    "nbgrader": {
     "cell_type": "markdown",
     "checksum": "83e8030467ea36952c273d37e42caf41",
     "grade": false,
     "grade_id": "challenge-8-description",
     "locked": true,
     "schema_version": 3,
     "solution": false,
     "task": false
    }
   },
   "source": [
    "## Challenge 8: Fires by Cause Data\n",
    "\n",
    "In the cell below do the following: \n",
    "\n",
    "1. Loop through, open and combine all of the files in the \n",
    "`earthpy-downloads/ca-fires-yearly/1992-2015-gt-100-acres` directory\n",
    "2. Add a year column to the data\n",
    "3. Calculate the total count of fires by \"cause\" using pandas `df.size()`."
   ]
  },
  {
   "cell_type": "code",
   "execution_count": null,
   "metadata": {
    "deletable": false,
    "nbgrader": {
     "cell_type": "code",
     "checksum": "f955cb415fce1737fe380c992eea8ab8",
     "grade": false,
     "grade_id": "open-cause-data-answer",
     "locked": false,
     "schema_version": 3,
     "solution": true,
     "task": false
    }
   },
   "outputs": [],
   "source": [
    "# YOUR CODE HERE\n",
    "raise NotImplementedError()"
   ]
  },
  {
   "cell_type": "code",
   "execution_count": null,
   "metadata": {
    "deletable": false,
    "editable": false,
    "nbgrader": {
     "cell_type": "code",
     "checksum": "ba71c707260b27aee9edc2d243240e21",
     "grade": true,
     "grade_id": "open-cause-data-test-1",
     "locked": true,
     "points": 0,
     "schema_version": 3,
     "solution": false,
     "task": false
    }
   },
   "outputs": [],
   "source": [
    "student_fires_by_cause = _\n",
    "\n",
    "if isinstance(student_fires_by_cause, pd.Series):\n",
    "    print(\"\\u2705 Your output is a Pandas Series, good job!\")\n",
    "else:\n",
    "    print(\"\\u274C Your output is not a Pandas Series, make sure you are running groupby at the end of the cell.\")"
   ]
  },
  {
   "cell_type": "code",
   "execution_count": null,
   "metadata": {
    "deletable": false,
    "editable": false,
    "nbgrader": {
     "cell_type": "code",
     "checksum": "7a8699f74064ce4320a3369ab891f8d5",
     "grade": true,
     "grade_id": "open-cause-data-test-2",
     "locked": true,
     "points": 8,
     "schema_version": 3,
     "solution": false,
     "task": false
    }
   },
   "outputs": [],
   "source": [
    "# DO NOT MODIFY THIS CELL"
   ]
  },
  {
   "cell_type": "markdown",
   "metadata": {
    "deletable": false,
    "editable": false,
    "nbgrader": {
     "cell_type": "markdown",
     "checksum": "19073ea3423b0b9791918000e8ff94b9",
     "grade": false,
     "grade_id": "cell-cebfb3fcc6d60603",
     "locked": true,
     "schema_version": 3,
     "solution": false,
     "task": false
    }
   },
   "source": [
    "In the cell below subset your fires DataFrame so it only contains fires\n",
    "that are of fire_class_size \"G\"."
   ]
  },
  {
   "cell_type": "code",
   "execution_count": null,
   "metadata": {
    "deletable": false,
    "nbgrader": {
     "cell_type": "code",
     "checksum": "8c0190d44042b43131218efc1020e17a",
     "grade": false,
     "grade_id": "filter-g-answer",
     "locked": false,
     "schema_version": 3,
     "solution": true,
     "task": false
    }
   },
   "outputs": [],
   "source": [
    "# YOUR CODE HERE\n",
    "raise NotImplementedError()"
   ]
  },
  {
   "cell_type": "code",
   "execution_count": null,
   "metadata": {
    "deletable": false,
    "editable": false,
    "nbgrader": {
     "cell_type": "code",
     "checksum": "096da97a15eb3a90be5e6dcd1dacfb69",
     "grade": true,
     "grade_id": "filter-g-test",
     "locked": true,
     "points": 4,
     "schema_version": 3,
     "solution": false,
     "task": false
    }
   },
   "outputs": [],
   "source": [
    "# DO NOT MODIFY THIS CELL\n",
    "# Test class g filter\n",
    "\n",
    "student_class_g_fires = _\n",
    "\n",
    "class_g_points = 0\n",
    "\n",
    "if len(student_class_g_fires == 394):\n",
    "    print(\"\\u2705 Correct number of rows in your class G dataframe!\")\n",
    "    class_g_points += 2\n",
    "else:\n",
    "    print(\"\\u274C There are not the correct amount of rows in your class G dataframe.\")\n",
    "\n",
    "if all(x == 'G' for x in student_class_g_fires.fire_size_class.to_list()):\n",
    "    print(\"\\u2705 Successfully filtered dataframe to only contain class G fires!\")\n",
    "    class_g_points += 2\n",
    "else:\n",
    "    print(\"\\u274C Dataframe does not contain only class G fires.\")\n",
    "\n",
    "print(\"\\n \\u27A1 You received {} out of 4 points for filtering the class G fires correctly.\".format(\n",
    "    class_g_points))\n",
    "class_g_points"
   ]
  },
  {
   "cell_type": "markdown",
   "metadata": {
    "deletable": false,
    "editable": false,
    "nbgrader": {
     "cell_type": "markdown",
     "checksum": "5f785df9022cd89dc88d0f7f60b75359",
     "grade": false,
     "grade_id": "challenge-9-description",
     "locked": true,
     "schema_version": 3,
     "solution": false,
     "task": false
    }
   },
   "source": [
    "## Challenge 9: Subset Fire Cause Data\n",
    "\n",
    "In the cell below, create two dataframe objects:\n",
    "\n",
    "1. Create one that  contains data for the years 1995 to 2000 (this DF should contain values for 1995 through 2000).\n",
    "2. Create a dataframe object that contains data for the years1995 to 2000 (this DF should contain values for 2010 through 2015).\n",
    "\n",
    "At the end of the cell, call both objects on the same line using the syntax:\n",
    "\n",
    "`df-one, df-two`\n",
    "\n",
    "The first and last 5 rows for both objects should then print below the cell."
   ]
  },
  {
   "cell_type": "code",
   "execution_count": null,
   "metadata": {
    "deletable": false,
    "nbgrader": {
     "cell_type": "code",
     "checksum": "dff3363e01a1806e9ceac1f266994efd",
     "grade": false,
     "grade_id": "student-class-g-time-filter-answer",
     "locked": false,
     "schema_version": 3,
     "solution": true,
     "task": false
    }
   },
   "outputs": [],
   "source": [
    "# YOUR CODE HERE\n",
    "raise NotImplementedError()"
   ]
  },
  {
   "cell_type": "code",
   "execution_count": null,
   "metadata": {
    "deletable": false,
    "editable": false,
    "nbgrader": {
     "cell_type": "code",
     "checksum": "1803f0d41218bf67e80f0f0009a0c048",
     "grade": true,
     "grade_id": "class-g-filter-tests-2",
     "locked": true,
     "points": 0,
     "schema_version": 3,
     "solution": false,
     "task": false
    }
   },
   "outputs": [],
   "source": [
    "# DO NOT MODIFY THIS CELL\n",
    "# Tests to make sure your dataframes were correctly made\n",
    "\n",
    "student_g_fires_by_year = _\n",
    "\n",
    "if isinstance(student_g_fires_by_year[0], pd.core.frame.DataFrame):\n",
    "    print(\"\\u2705 Great, your first object is a Pandas DataFrame!\")\n",
    "else:\n",
    "    print(\"\\u274C Didn't call both dataframes at the end of the cell.\")\n",
    "\n",
    "if isinstance(student_g_fires_by_year[1], pd.core.frame.DataFrame):\n",
    "    print(\"\\u2705 Great, your second object is a Pandas DataFrame!\")\n",
    "else:\n",
    "    print(\"\\u274C Didn't call both dataframes at the end of the cell.\")\n",
    "\n",
    "student_df_lengths = len(student_g_fires_by_year[0]), len(\n",
    "    student_g_fires_by_year[1])\n",
    "\n",
    "if (84, 88) == student_df_lengths or (88, 84) == student_df_lengths:\n",
    "    print(\"\\u2705 DataFrames have the correct number of rows in them!\")\n",
    "else:\n",
    "    print(\"\\u274C One or both of the dataframes doesn't have the correct number or rows in the results.\")"
   ]
  },
  {
   "cell_type": "markdown",
   "metadata": {
    "deletable": false,
    "editable": false,
    "nbgrader": {
     "cell_type": "markdown",
     "checksum": "db04a3afa78777882d483db09b8f4bfe",
     "grade": false,
     "grade_id": "cell-b2bdddfab95ac95c",
     "locked": true,
     "schema_version": 3,
     "solution": false,
     "task": false
    }
   },
   "source": [
    "<img style=\"float: left;\" src=\"colored-bar.png\"/>"
   ]
  },
  {
   "cell_type": "markdown",
   "metadata": {
    "deletable": false,
    "editable": false,
    "hideCode": false,
    "hidePrompt": false,
    "nbgrader": {
     "cell_type": "markdown",
     "checksum": "83942f6e883241183e234e3eadf4cc87",
     "grade": false,
     "grade_id": "challenge-10-description",
     "locked": true,
     "schema_version": 3,
     "solution": false,
     "task": false
    }
   },
   "source": [
    "## Challenge 10: Figure - Fires by Cause\n",
    "\n",
    "Create a figure with two stacked subplots that rendered as **scatterplots** (points) using `ax.plot()` to plot the `1992-2015-gt-100-acres` data. \n",
    "\n",
    "For each subplot: \n",
    "\n",
    "* Only include points that represent fires of size_class `G` (this is data that you subsetted above).\n",
    "* Color the points in your plot using the `cause` column in your data. There are a few ways to do this, but for this exercise, color the points by `human-caused` vs `Non-human caused` using a **conditional statement**\n",
    "within the for loop that you write to create your plot. \n",
    "\n",
    "The following causes should be labeled as `human-caused`\n",
    "\n",
    "`[\"Arson\", \"Smoking\", \"Equipment Use\", \"Campfire\", \"Powerline\", \"Railroad\"]`\n",
    "\n",
    "(HINT: To make the plot look like a scatter plot you can adjust the line and marker options on the plot)\n",
    "\n",
    "You will use the data / `DataFrame` that you worked with above in the  `1992-2015-gt-100-acres` directory to produce this plot. \n",
    "\n",
    "1. The top subplot will contain fires colored by cause for the years: 2010-2015\n",
    "2. The bottom subplot will contain fires colored by cause for the years 1995-2000\n",
    "\n",
    "\n",
    "To create these plots, you will need to create a for loop that plots groups pandas dataframes. \n",
    "\n",
    "*********\n",
    "HINT:\n",
    "\n",
    "* A conditional statement can be used to test whether a string is in an existing list of strings:\n",
    "```\n",
    "list_of_things = [\"item1\", \"item2\"]\n",
    "\n",
    "if acategory in list_of_things:\n",
    "    # Set color\n",
    "else:\n",
    "    # Set color  \n",
    "```\n",
    "\n",
    "For your plot, be sure to do the following:\n",
    "\n",
    "1. Use a shared x and y axis by adding `sharex` and `sharey` to your `plt.subplots()` call\n",
    "example: `plt.subplots(sharex=True)`\n",
    "2. Use `.scatter()` to create your plot.\n",
    "3. Add titles to each subplot\n",
    "4. Color each category by human vs other cause. You should have a total of two colors  on your plot.\n",
    "5. Add an overall figure title\n",
    "6. Add a legend for each plot. The legend should have multiple \"causes\" (e.g. arson, lightning, etc) but only two different point colors (one for human caused and one for non human caused) \n"
   ]
  },
  {
   "cell_type": "code",
   "execution_count": null,
   "metadata": {
    "deletable": false,
    "hideCode": false,
    "hidePrompt": false,
    "nbgrader": {
     "cell_type": "code",
     "checksum": "dccc6da49fc2bd92f5ced5342611ec69",
     "grade": false,
     "grade_id": "fires-by-cause-figure-answer",
     "locked": false,
     "schema_version": 3,
     "solution": true,
     "task": false
    }
   },
   "outputs": [],
   "source": [
    "# YOUR CODE HERE\n",
    "raise NotImplementedError()\n",
    "\n",
    "\n",
    "### DO NOT REMOVE LINE BELOW ###\n",
    "fire_causes_plot = nb.convert_axes(plt, which_axes=\"all\")"
   ]
  },
  {
   "cell_type": "code",
   "execution_count": null,
   "metadata": {
    "deletable": false,
    "editable": false,
    "nbgrader": {
     "cell_type": "code",
     "checksum": "2230ea2270bef762426caaeef5ff4df1",
     "grade": true,
     "grade_id": "fire-cause-by-figure-test-1",
     "locked": true,
     "points": 0,
     "schema_version": 3,
     "solution": false,
     "task": false
    }
   },
   "outputs": [],
   "source": [
    "# NOTE: 2010-2015 Data NEEDS TO BE THE TOP PLOT FOR THE AUTOGRADER TO WORK!\n",
    "\n",
    "if len(fire_causes_plot) == 2:\n",
    "    print(\"\\u2705 You successfully added two plots to your figure, good job!\")\n",
    "else:\n",
    "    print(\"\\u274C There are not two plots in your figure, make sure you plot the 2000 and 2015 data.\")"
   ]
  },
  {
   "cell_type": "code",
   "execution_count": null,
   "metadata": {
    "deletable": false,
    "editable": false,
    "nbgrader": {
     "cell_type": "code",
     "checksum": "6833023853c70772116304c81e32f573",
     "grade": true,
     "grade_id": "hidden-tests-answer",
     "locked": true,
     "points": 0,
     "schema_version": 3,
     "solution": false,
     "task": false
    }
   },
   "outputs": [],
   "source": [
    "# DO NOT MODIFY THIS CELL"
   ]
  },
  {
   "cell_type": "code",
   "execution_count": null,
   "metadata": {
    "deletable": false,
    "editable": false,
    "nbgrader": {
     "cell_type": "code",
     "checksum": "bbd9a1e7a53059a10413e7effd8e0c53",
     "grade": true,
     "grade_id": "fire-cause-by-figure-test-2",
     "locked": true,
     "points": 32,
     "schema_version": 3,
     "solution": false,
     "task": false
    }
   },
   "outputs": [],
   "source": [
    "# DO NOT MODIFY THIS CELL"
   ]
  },
  {
   "cell_type": "markdown",
   "metadata": {
    "deletable": false,
    "editable": false,
    "nbgrader": {
     "cell_type": "markdown",
     "checksum": "28a1a340858bc27bd085c4ad3a187632",
     "grade": false,
     "grade_id": "cell-6564fb6e8bf0ee1c",
     "locked": true,
     "schema_version": 3,
     "solution": false,
     "task": false
    }
   },
   "source": [
    "## Challenge 11: Discuss Your Plot\n",
    "\n",
    "Look at the plot above. Do you notice a difference in fire size between 1995-2000 and 2010-2015?\n",
    "Add your answer to the markdown cell below."
   ]
  },
  {
   "cell_type": "markdown",
   "metadata": {
    "deletable": false,
    "nbgrader": {
     "cell_type": "markdown",
     "checksum": "49cb883e2f22964d3f67c1b60ec9b489",
     "grade": true,
     "grade_id": "cell-4c52b3438af0547d",
     "locked": false,
     "points": 5,
     "schema_version": 3,
     "solution": true,
     "task": false
    }
   },
   "source": [
    "YOUR ANSWER HERE"
   ]
  },
  {
   "cell_type": "markdown",
   "metadata": {
    "deletable": false,
    "editable": false,
    "nbgrader": {
     "cell_type": "markdown",
     "checksum": "9398dd42cf1cabfc5d6be0cf4d2a452b",
     "grade": false,
     "grade_id": "cell-f2f22d600ee329c7",
     "locked": true,
     "points": 10,
     "schema_version": 3,
     "solution": false,
     "task": true
    }
   },
   "source": [
    "## Pep 8, Spelling and Does the Notebook Run?\n",
    "In this cell, we will give you points for the following\n",
    "\n",
    "1. PEP 8 is followed throughout the notebook (4 points)\n",
    "2. Spelling and grammar are considered in your written responses above (4 points)\n",
    "3. The notebook runs from top to bottom without any editing (it is reproducible) - 4 points"
   ]
  }
 ],
 "metadata": {
  "hide_code_all_hidden": false,
  "kernelspec": {
   "display_name": "Python 3",
   "language": "python",
   "name": "python3"
  },
  "language_info": {
   "codemirror_mode": {
    "name": "ipython",
    "version": 3
   },
   "file_extension": ".py",
   "mimetype": "text/x-python",
   "name": "python",
   "nbconvert_exporter": "python",
   "pygments_lexer": "ipython3",
   "version": "3.8.5"
  },
  "toc": {
   "base_numbering": 1,
   "nav_menu": {},
   "number_sections": true,
   "sideBar": true,
   "skip_h1_title": true,
   "title_cell": "Table of Contents",
   "title_sidebar": "Contents",
   "toc_cell": false,
   "toc_position": {
    "height": "calc(100% - 180px)",
    "left": "10px",
    "top": "150px",
    "width": "285.8px"
   },
   "toc_section_display": true,
   "toc_window_display": true
  },
  "varInspector": {
   "cols": {
    "lenName": 16,
    "lenType": 16,
    "lenVar": 40
   },
   "kernels_config": {
    "python": {
     "delete_cmd_postfix": "",
     "delete_cmd_prefix": "del ",
     "library": "var_list.py",
     "varRefreshCmd": "print(var_dic_list())"
    },
    "r": {
     "delete_cmd_postfix": ") ",
     "delete_cmd_prefix": "rm(",
     "library": "var_list.r",
     "varRefreshCmd": "cat(var_dic_list()) "
    }
   },
   "types_to_exclude": [
    "module",
    "function",
    "builtin_function_or_method",
    "instance",
    "_Feature"
   ],
   "window_display": false
  }
 },
 "nbformat": 4,
 "nbformat_minor": 2
}
