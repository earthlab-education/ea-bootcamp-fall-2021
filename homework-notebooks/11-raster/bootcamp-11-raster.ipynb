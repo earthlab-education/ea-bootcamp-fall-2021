{
 "cells": [
  {
   "cell_type": "markdown",
   "metadata": {},
   "source": [
    "<img style=\"float: left;\" src=\"earth-lab-logo-rgb.png\" width=\"150\" height=\"150\" />\n",
    "\n",
    "# Earth Analytics Education - Bootcamp Course Fall 2020"
   ]
  },
  {
   "cell_type": "markdown",
   "metadata": {},
   "source": [
    "## Important  - Assignment Guidelines\n",
    "\n",
    "1. Before you turn in your assignment, make sure to run the entire notebook with a fresh kernel. To do this first, **restart the kernel** (in the menubar, select Kernel$\\rightarrow$Restart & Run All)\n",
    "2. In the cells below you will replace the `raise NotImplementedError()` code with your code that addresses the activity challenge. If you don't replace that code, your notebook will not run properly.\n",
    "\n",
    "```\n",
    "# YOUR CODE HERE\n",
    "raise NotImplementedError()\n",
    "```\n",
    "\n",
    "3. Any open ended questions will have a \"YOUR ANSWER HERE\" within a markdown cell. Replace that text with your answer also formatted using Markdown.\n",
    "4. **IMPORTANT: DO NOT RENAME THIS NOTEBOOK!** If the file name changes, the autograder will not grade your assignment properly.\n",
    "5. **Do not rename the notebook file.** If you do, the autograder will not recognize your submisson.\n",
    "6. When you plot, please comment out `plt.show()` as the code below will effectively run `plt.show()` for you and also will grab your plot for autograding. DO NOT DELETE any code that says `DO NOT REMOVE LINE BELOW`. That code is for autograding!!\n",
    "\n",
    "```\n",
    "### DO NOT REMOVE LINE BELOW ###\n",
    "student_plot1_ax = nb.convert_axes(plt)\n",
    "```\n",
    "\n",
    "## Follow to PEP 8 Syntax Guidelines & Documentation\n",
    "\n",
    "* Run the `autopep8` tool on all cells prior to submitting (HINT: hit shift + the tool to run it on all cells at once!\n",
    "* Use clear and expressive names for variables. \n",
    "* Organize your code to support readability.\n",
    "* Check for code line length\n",
    "* Use comments and white space sparingly where it is needed\n",
    "* Make sure all python imports are at the top of your notebook and follow PEP 8 order conventions\n",
    "* Spell check your Notebook before submitting it.\n",
    "\n",
    "For all of the plots below, be sure to do the following:\n",
    "\n",
    "* Make sure each plot has a clear TITLE and, where appropriate, label the x and y axes. Be sure to include UNITS in your labels.\n"
   ]
  },
  {
   "cell_type": "markdown",
   "metadata": {},
   "source": [
    "### Add Your Name Below \n",
    "**Your Name:**"
   ]
  },
  {
   "cell_type": "markdown",
   "metadata": {},
   "source": [
    "<img style=\"float: left;\" src=\"colored-bar.png\"/>"
   ]
  },
  {
   "cell_type": "markdown",
   "metadata": {},
   "source": [
    "---"
   ]
  },
  {
   "cell_type": "markdown",
   "metadata": {
    "deletable": false,
    "editable": false,
    "nbgrader": {
     "cell_type": "markdown",
     "checksum": "ba07dce3c2a6a4f4136d509ba6de1adb",
     "grade": false,
     "grade_id": "hw-instructions",
     "locked": true,
     "schema_version": 3,
     "solution": false,
     "task": false
    }
   },
   "source": [
    "# Homework 11 Template - Lidar & Raster Data\n",
    "\n",
    "## About the 2013 Colorado Floods\n",
    "\n",
    "If you haven't already, review the following chapters in the Intermediate Earth Data Science\n",
    "online textbook:\n",
    "\n",
    "* https://www.earthdatascience.org/courses/use-data-open-source-python/data-stories/what-is-lidar-data/\n",
    "* https://www.earthdatascience.org/courses/use-data-open-source-python/data-stories/colorado-floods-2013/ \n",
    "* https://www.earthdatascience.org/courses/use-data-open-source-python/intro-raster-data-python/fundamentals-raster-data/\n",
    "\n",
    "\n",
    "### Assignment Data\n",
    "\n",
    "You can download the data from **earthpy** using the following syntax:\n",
    "\n",
    "`et.data.get_data(\"colorado-flood\")`\n",
    "\n",
    "Using the data from the directory as follows:\n",
    "\n",
    "In the `colorado-flood/spatial/boulder-leehill-rd/` you will see two directories - pre and post flood. Each of these directories contains a lidar sub directory that has a `DTM.tif` and a `DSM.tif` file. You will use these files to create your lidar Canopy Height Model (CHM). \n"
   ]
  },
  {
   "cell_type": "code",
   "execution_count": null,
   "metadata": {
    "deletable": false,
    "editable": false,
    "nbgrader": {
     "cell_type": "code",
     "checksum": "9fd5947d19c0570a2a1e2b9a02e1fee1",
     "grade": false,
     "grade_id": "core-imports",
     "locked": true,
     "schema_version": 3,
     "solution": false,
     "task": false
    }
   },
   "outputs": [],
   "source": [
    "# Imports for autograding - do not edit!\n",
    "import matplotcheck.base as mpc\n",
    "import matplotcheck.autograde as ag\n",
    "import matplotcheck.notebook as nb\n",
    "import matplotcheck.raster as ra"
   ]
  },
  {
   "cell_type": "markdown",
   "metadata": {
    "deletable": false,
    "editable": false,
    "nbgrader": {
     "cell_type": "markdown",
     "checksum": "1b0c8169da68d1be2a33b7d2d2c4d2c3",
     "grade": false,
     "grade_id": "bar-1",
     "locked": true,
     "schema_version": 3,
     "solution": false,
     "task": false
    }
   },
   "source": [
    "<img style=\"float: left;\" src=\"colored-bar.png\"/>"
   ]
  },
  {
   "cell_type": "markdown",
   "metadata": {
    "deletable": false,
    "editable": false,
    "nbgrader": {
     "cell_type": "markdown",
     "checksum": "5f2961df94d40202099a271b3a1aeb9c",
     "grade": false,
     "grade_id": "question-student-imports",
     "locked": true,
     "schema_version": 3,
     "solution": false,
     "task": false
    }
   },
   "source": [
    "##  Colorado Flood Data: Quantify Ecological Change Using Remote Sensing Derived Data\n",
    "\n",
    "This week you will explore data that quantifies conditions before and after the Colorado \n",
    "Flood event which occured in 2013. You will use digital surface and terrain (elevation) \n",
    "models created using lidar data collected before and after the flood by NEON (National\n",
    "Ecological Observatory Network). \n",
    "\n",
    "The NEON data were collected shortly before the flood event and then again after. \n",
    "In your analysis below, you will look at change associated with the before and \n",
    "after data and will quantify that change using different descriptive plots\n",
    "including histograms and classified raster plots.\n",
    "\n",
    "To begin, in the cell below add any python imports needed to complete this assignment.\n",
    "Do not add imports that are not used in this notebook!"
   ]
  },
  {
   "cell_type": "code",
   "execution_count": null,
   "metadata": {
    "deletable": false,
    "nbgrader": {
     "cell_type": "code",
     "checksum": "5297052fe39a7d40d39474d099ccec72",
     "grade": false,
     "grade_id": "student-imports-answer",
     "locked": false,
     "schema_version": 3,
     "solution": true,
     "task": false
    }
   },
   "outputs": [],
   "source": [
    "# Import libraries here needed to run this notebook\n",
    "\n",
    "# YOUR CODE HERE\n",
    "raise NotImplementedError()"
   ]
  },
  {
   "cell_type": "code",
   "execution_count": null,
   "metadata": {
    "deletable": false,
    "editable": false,
    "nbgrader": {
     "cell_type": "code",
     "checksum": "e91dfbfebfdfc270c6bcf1fe3c91daad",
     "grade": true,
     "grade_id": "student-imports-tests",
     "locked": true,
     "points": 0,
     "schema_version": 3,
     "solution": false,
     "task": false
    }
   },
   "outputs": [],
   "source": [
    "# Test package imports - DO NOT MODIFY THIS CELL!\n",
    "\n",
    "try:\n",
    "    crs = rxr\n",
    "    print(\"\\u2705 Score! rioxarray has been imported as a rxr!\")\n",
    "except NameError:\n",
    "    print(\"\\u274C rioxarray has not been imported as a rxr, please make sure to import is properly.\")\n",
    "\n",
    "try:\n",
    "    empty_array = xr\n",
    "    print(\"\\u2705 Score! xarray has been imported as a xr!\")\n",
    "except NameError:\n",
    "    print(\"\\u274C xarray has not been imported as a xr, please make sure to import is properly.\")\n",
    "\n",
    "try:\n",
    "    mapping_func = mapping\n",
    "    print(\"\\u2705 Score! Mapping has been imported from shapely.geometry!\")\n",
    "except NameError:\n",
    "    print(\"\\u274C Mapping has notbeen imported from shapely.geometryy. You need mapping to clip your data.\")\n",
    "\n"
   ]
  },
  {
   "cell_type": "markdown",
   "metadata": {
    "deletable": false,
    "editable": false,
    "hideCode": false,
    "hidePrompt": false,
    "nbgrader": {
     "cell_type": "markdown",
     "checksum": "9cc3b07d724810b3aeb865ef72dd938d",
     "grade": false,
     "grade_id": "set-working-directory-instructions",
     "locked": true,
     "schema_version": 3,
     "solution": false,
     "task": false
    }
   },
   "source": [
    "## Set Working Directory and Download Data\n",
    "\n",
    "In the cell below complete the following task:\n",
    "\n",
    "1. First, use **EarthPy** to download the `colorado-flood` data: `et.data.get_data(\"colorado-flood\")`. When you download the data, the `earth-analytics/data` directory gets created on your computer for you.\n",
    "2. **Use a conditional statement** to:\n",
    "    * Set the working directory to the **`earth-analytics/data` directory in your home directory** if the path exists.\n",
    "    * Print a helpful message if the path does not exist. \n",
    "* **Use reusable variable(s) to reduce repetition in your code.**\n",
    "* Use the `os` package to ensure that the paths you create will run successfully on any operating system.\n"
   ]
  },
  {
   "cell_type": "code",
   "execution_count": null,
   "metadata": {
    "deletable": false,
    "hideCode": false,
    "hidePrompt": false,
    "nbgrader": {
     "cell_type": "code",
     "checksum": "9203525aad6a8a286a319a86e4e1fe2b",
     "grade": false,
     "grade_id": "download-and-set-working-directory",
     "locked": false,
     "schema_version": 3,
     "solution": true,
     "task": false
    }
   },
   "outputs": [],
   "source": [
    "# Download data and set your working directory here. \n",
    "# Remember that this code should work on any computer!\n",
    "\n",
    "# YOUR CODE HERE\n",
    "raise NotImplementedError()"
   ]
  },
  {
   "cell_type": "code",
   "execution_count": null,
   "metadata": {
    "deletable": false,
    "editable": false,
    "hideCode": false,
    "hidePrompt": false,
    "nbgrader": {
     "cell_type": "code",
     "checksum": "7f80f78039f60003adff2d0c3c2c7592",
     "grade": true,
     "grade_id": "student-download-tests",
     "locked": true,
     "points": 5,
     "schema_version": 3,
     "solution": false,
     "task": false
    }
   },
   "outputs": [],
   "source": [
    "# DO NOT MODIFY THIS CELL\n",
    "# Tests that the working directory is set to earth-analytics/data\n",
    "\n",
    "path = os.path.normpath(os.getcwd())\n",
    "student_wd_parts = path.split(os.sep)\n",
    "\n",
    "wd_points = 0\n",
    "\n",
    "if student_wd_parts[-2:] == ['earth-analytics', 'data']:\n",
    "    print(\"\\u2705 Great - it looks like your working directory is set correctly to ~/earth-analytics/data\")\n",
    "    wd_points += 5\n",
    "else:\n",
    "    print(\"\\u274C Oops, the autograder will not run unless your working directory is set to earth-analytics/data\")\n",
    "\n",
    "print(\"\\n \\u27A1 You received {} out of 5 points for setting your working directory.\".format(\n",
    "    wd_points))\n",
    "wd_points"
   ]
  },
  {
   "cell_type": "markdown",
   "metadata": {
    "deletable": false,
    "editable": false,
    "nbgrader": {
     "cell_type": "markdown",
     "checksum": "9ef9bee1c9c3b6b7fbd8b715f9274c29",
     "grade": false,
     "grade_id": "challenge-1-instructions",
     "locked": true,
     "schema_version": 3,
     "solution": false,
     "task": false
    }
   },
   "source": [
    "## Challenge 1 - Create a Pre Flood Canopy Height Model (CHM) \n",
    "\n",
    "Create a cropped raster map that shows positive and negative change in the \n",
    "canopy height model before compared to after the flood. To do this:\n",
    "\n",
    "* Create a Canopy Height Model using the pre and post lidar DSM (Digital Surface Model) and DTM (Digital Terrain Model) files \n",
    "* Subtract the pre-flood CHM from the post-flood CHM: (`post_flood_CHM - pre_flood_CHM`).\n",
    "* Crop the data using the **data/colorado-flood/spatial/boulder-leehill-rd/clip-extent.shp** shapefile.\n",
    "\n",
    "NOTES: \n",
    "* I am asking you to subtract the pre-conditions from the post conditions to ensure \n",
    "that your negative values  represent loss of terrain. This will be easier for you to \n",
    "explain in your writeup.\n",
    "* You will learn more about shapefile data in next week's class.\n",
    "\n",
    "At the end of the cell, call the xarray object that contains the CHM data that you\n",
    "created."
   ]
  },
  {
   "cell_type": "code",
   "execution_count": null,
   "metadata": {
    "deletable": false,
    "nbgrader": {
     "cell_type": "code",
     "checksum": "96a81e085287dc17cf1515278a85005c",
     "grade": false,
     "grade_id": "challenge-1-answer",
     "locked": false,
     "schema_version": 3,
     "solution": true,
     "task": false
    }
   },
   "outputs": [],
   "source": [
    "# YOUR CODE HERE\n",
    "raise NotImplementedError()"
   ]
  },
  {
   "cell_type": "code",
   "execution_count": null,
   "metadata": {
    "deletable": false,
    "editable": false,
    "nbgrader": {
     "cell_type": "code",
     "checksum": "9af20bf58f85f244327e8465bdc30c1d",
     "grade": true,
     "grade_id": "challenge-1-visible-tests",
     "locked": true,
     "points": 5,
     "schema_version": 3,
     "solution": false,
     "task": false
    }
   },
   "outputs": [],
   "source": [
    "# DO NOT MODIFY THIS CELL\n",
    "# Visible tests for your array\n",
    "\n",
    "student_pre_chm_xr = _\n",
    "student_pre_chm_points_visible = 0\n",
    "\n",
    "if isinstance(student_pre_chm_xr, xr.DataArray):\n",
    "    print(\"\\u2705 Great job! Your data are stored in a DataArray!\")\n",
    "    student_pre_chm_points_visible += 2\n",
    "else:\n",
    "    print(\"\\u274C Oops, the data are not stored in a DataArray.\")\n",
    "\n",
    "if student_pre_chm_xr.min().values.item() == 0:\n",
    "    print(\"\\u2705 The minimum value in your DataArray is correct!\")\n",
    "    student_pre_chm_points_visible += 1\n",
    "else:\n",
    "    print(\"\\u274C The minimum value in your DataArray is incorrect.\")\n",
    "\n",
    "if round(student_pre_chm_xr.max().values.item(), 4) == 26.9301:\n",
    "    print(\"\\u2705 The maximum value in your DataArray is correct!\")\n",
    "    student_pre_chm_points_visible += 1\n",
    "else:\n",
    "    print(\"\\u274C The maximum value in your DataArray is incorrect.\")\n",
    "\n",
    "if student_pre_chm_xr.rio.bounds() == (472510.0, 4434000.0, 476000.0, 4436000.0):\n",
    "    student_pre_chm_points_visible += 1\n",
    "    print(\"\\u2705 Data are cropped properly, good job!\")\n",
    "else:\n",
    "    print(\"\\u274C The data are not cropped properly.\")\n",
    "\n",
    "print(\"\\n \\u27A1 You received {} out of 5 points for the modified xarray.\".format(\n",
    "    student_pre_chm_points_visible))\n",
    "student_pre_chm_points_visible"
   ]
  },
  {
   "cell_type": "code",
   "execution_count": null,
   "metadata": {
    "deletable": false,
    "editable": false,
    "nbgrader": {
     "cell_type": "code",
     "checksum": "26916b013bd72577dc77f41d8dd9d033",
     "grade": true,
     "grade_id": "challenge-1-hidden-tests",
     "locked": true,
     "points": 5,
     "schema_version": 3,
     "solution": false,
     "task": false
    }
   },
   "outputs": [],
   "source": [
    "# DO NOT MODIFY THIS CELL"
   ]
  },
  {
   "cell_type": "markdown",
   "metadata": {
    "deletable": false,
    "editable": false,
    "nbgrader": {
     "cell_type": "markdown",
     "checksum": "77e615f3f49988d717e4468f04cd1bbf",
     "grade": false,
     "grade_id": "bar-2",
     "locked": true,
     "schema_version": 3,
     "solution": false,
     "task": false
    }
   },
   "source": [
    "<img style=\"float: left;\" src=\"colored-bar.png\"/>"
   ]
  },
  {
   "cell_type": "markdown",
   "metadata": {
    "deletable": false,
    "editable": false,
    "nbgrader": {
     "cell_type": "markdown",
     "checksum": "fad64721a98263439c3d9071402de07e",
     "grade": false,
     "grade_id": "challenge-2-instructions",
     "locked": true,
     "schema_version": 3,
     "solution": false,
     "task": false
    }
   },
   "source": [
    "## Challenge 2 - Create a Post Flood CHM\n",
    "\n",
    "Create a Canopy Height model using the lidar post flood data. Use the same\n",
    "crop_extent data that you used for the pre-flood data to clip your data.\n",
    "\n",
    "\n",
    "Call your chm array object at the end of the cell."
   ]
  },
  {
   "cell_type": "code",
   "execution_count": null,
   "metadata": {
    "deletable": false,
    "nbgrader": {
     "cell_type": "code",
     "checksum": "eae7f5c17d5524c68d6ccf74548818c0",
     "grade": false,
     "grade_id": "challenge-2-answer",
     "locked": false,
     "schema_version": 3,
     "solution": true,
     "task": false
    }
   },
   "outputs": [],
   "source": [
    "# YOUR CODE HERE\n",
    "raise NotImplementedError()"
   ]
  },
  {
   "cell_type": "code",
   "execution_count": null,
   "metadata": {
    "deletable": false,
    "editable": false,
    "nbgrader": {
     "cell_type": "code",
     "checksum": "5f9bb033119a78c3840f1667b3e575ff",
     "grade": true,
     "grade_id": "challenge-2-visible-tests",
     "locked": true,
     "points": 5,
     "schema_version": 3,
     "solution": false,
     "task": false
    }
   },
   "outputs": [],
   "source": [
    "# DO NOT MODIFY THIS CELL\n",
    "# Visible tests for your array\n",
    "\n",
    "student_post_chm_xr = _\n",
    "student_post_chm_points_visible = 0\n",
    "\n",
    "if isinstance(student_post_chm_xr, xr.DataArray):\n",
    "    print(\"\\u2705 Great job! Your data are stored in a DataArray!\")\n",
    "    student_post_chm_points_visible += 2\n",
    "else:\n",
    "    print(\"\\u274C Oops, the data are not stored in a DataArray.\")\n",
    "\n",
    "if student_post_chm_xr.min().values.item() == 0:\n",
    "    print(\"\\u2705 The minimum value in your DataArray is correct!\")\n",
    "    student_post_chm_points_visible += 1\n",
    "else:\n",
    "    print(\"\\u274C The minimum value in your DataArray is incorrect.\")\n",
    "\n",
    "if round(student_post_chm_xr.max().values.item(), 4) == 27.4399:\n",
    "    print(\"\\u2705 The maximum value in your DataArray is correct!\")\n",
    "    student_post_chm_points_visible += 1\n",
    "else:\n",
    "    print(\"\\u274C The maximum value in your DataArray is incorrect.\")\n",
    "\n",
    "if student_post_chm_xr.rio.bounds() == (472510.0, 4434000.0, 476000.0, 4436000.0):\n",
    "    student_post_chm_points_visible += 1\n",
    "    print(\"\\u2705 Data was cropped properly, good job!\")\n",
    "else:\n",
    "    print(\"\\u274C The data was not cropped properly.\")\n",
    "\n",
    "print(\"\\n \\u27A1 You received {} out of 5 points for the post flood CHM.\".format(\n",
    "    student_post_chm_points_visible))\n",
    "student_post_chm_points_visible"
   ]
  },
  {
   "cell_type": "code",
   "execution_count": null,
   "metadata": {
    "deletable": false,
    "editable": false,
    "nbgrader": {
     "cell_type": "code",
     "checksum": "d0c11f406d8d6d51bae945ef25d5c351",
     "grade": true,
     "grade_id": "challenge-2-hidden-tests",
     "locked": true,
     "points": 5,
     "schema_version": 3,
     "solution": false,
     "task": false
    }
   },
   "outputs": [],
   "source": [
    "# DO NOT MODIFY THIS CELL"
   ]
  },
  {
   "cell_type": "markdown",
   "metadata": {
    "deletable": false,
    "editable": false,
    "nbgrader": {
     "cell_type": "markdown",
     "checksum": "0a8c9aaa41b1799ccbdfa48078c594aa",
     "grade": false,
     "grade_id": "cell-0e1cd2499ab275c2",
     "locked": true,
     "schema_version": 3,
     "solution": false,
     "task": false
    }
   },
   "source": [
    "<img style=\"float: left;\" src=\"colored-bar.png\"/>"
   ]
  },
  {
   "cell_type": "markdown",
   "metadata": {
    "deletable": false,
    "editable": false,
    "nbgrader": {
     "cell_type": "markdown",
     "checksum": "bc0b0150b65d7d1c0ead313f75f2675e",
     "grade": false,
     "grade_id": "cell-83ab089e0b59134e",
     "locked": true,
     "schema_version": 3,
     "solution": false,
     "task": false
    }
   },
   "source": [
    "## Challenge 3: Create and Plot a Difference pre/post CHM\n",
    "\n",
    "Use the Pre and Post flood CHMs that you created above to create a DIFFERENCE \n",
    "xarray object that shows positive and negative change in the \n",
    "canopy height model before compared to after the flood. To do this:\n",
    "\n",
    "* Subtract the pre-flood CHM from the post-flood CHM (`post_flood_CHM - pre_flood_CHM`).\n",
    "* Plot your data as a raster image (not a histogram)\n",
    "\n",
    "**HINT: In this raster plot and ALL raster plots in this notebook, remember to turn off the axis from displaying with `axes_name_here.set_axis_off()`.**\n",
    "\n",
    "**NOTE: I am asking you to subtract the pre-conditions from the post conditions to ensure \n",
    "that your negative values  represent loss of terrain. This will be easier for you to \n",
    "explain in your writeup!**\n",
    "\n"
   ]
  },
  {
   "cell_type": "code",
   "execution_count": null,
   "metadata": {
    "deletable": false,
    "nbgrader": {
     "cell_type": "code",
     "checksum": "d2bf4e7d2d851de452cea1113ba713b0",
     "grade": false,
     "grade_id": "challenge-3-answer-1",
     "locked": false,
     "schema_version": 3,
     "solution": true,
     "task": false
    }
   },
   "outputs": [],
   "source": [
    "# Calculate the CHM difference (post -  pre) in this cell and call it at the end of the cell\n",
    "# YOUR CODE HERE\n",
    "raise NotImplementedError()"
   ]
  },
  {
   "cell_type": "code",
   "execution_count": null,
   "metadata": {
    "deletable": false,
    "editable": false,
    "nbgrader": {
     "cell_type": "code",
     "checksum": "81863c22fa1bddd871d9b653c19f70ae",
     "grade": true,
     "grade_id": "challenge-3-visible-tests-1",
     "locked": true,
     "points": 5,
     "schema_version": 3,
     "solution": false,
     "task": false
    }
   },
   "outputs": [],
   "source": [
    "# DO NOT MODIFY THIS CELL\n",
    "# Visible tests for your array\n",
    "\n",
    "student_chm_diff = _\n",
    "student_chm_diff_points = 0\n",
    "\n",
    "if isinstance(student_chm_diff, xr.DataArray):\n",
    "    print(\"\\u2705 Great job! Your data are stored in a DataArray!\")\n",
    "    student_chm_diff_points += 2\n",
    "else:\n",
    "    print(\"\\u274C Oops, the data are not stored in a DataArray.\")\n",
    "\n",
    "if round(student_chm_diff.min().values.item(), 4) == -23.4299:\n",
    "    print(\"\\u2705 The minimum value in your DataArray is correct!\")\n",
    "    student_chm_diff_points += 1\n",
    "else:\n",
    "    print(\"\\u274C The minimum value in your DataArray is incorrect.\")\n",
    "\n",
    "if round(student_chm_diff.max().values.item(), 4) == 24.3301:\n",
    "    print(\"\\u2705 The maximum value in your DataArray is correct!\")\n",
    "    student_chm_diff_points += 1\n",
    "else:\n",
    "    print(\"\\u274C The maximum value in your DataArray is incorrect.\")\n",
    "\n",
    "if student_chm_diff.rio.bounds() == (472510.0, 4434000.0, 476000.0, 4436000.0):\n",
    "    student_chm_diff_points += 1\n",
    "    print(\"\\u2705 Data was cropped properly, good job!\")\n",
    "else:\n",
    "    print(\"\\u274C The data was not cropped properly.\")\n",
    "\n",
    "print(\"\\n \\u27A1 You received {} out of 5 points for the modified xarray.\".format(\n",
    "    student_chm_diff_points))\n",
    "student_chm_diff_points"
   ]
  },
  {
   "cell_type": "code",
   "execution_count": null,
   "metadata": {
    "deletable": false,
    "editable": false,
    "nbgrader": {
     "cell_type": "code",
     "checksum": "6c91c5dc9f2688feeced83a4f4ce6cbc",
     "grade": true,
     "grade_id": "challenge-3-hidden-tests-1",
     "locked": true,
     "points": 5,
     "schema_version": 3,
     "solution": false,
     "task": false
    }
   },
   "outputs": [],
   "source": [
    "# DO NOT MODIFY THIS CELL"
   ]
  },
  {
   "cell_type": "code",
   "execution_count": null,
   "metadata": {
    "deletable": false,
    "nbgrader": {
     "cell_type": "code",
     "checksum": "d42d837f03ab8a35f364342bfe5e0608",
     "grade": false,
     "grade_id": "challenge-3-answer-2",
     "locked": false,
     "schema_version": 3,
     "solution": true,
     "task": false
    }
   },
   "outputs": [],
   "source": [
    "# Create a figure of the difference CHM object in this cell; comment out plt.show() in your code\n",
    "# YOUR CODE HERE\n",
    "raise NotImplementedError()\n",
    "\n",
    "plot01_chm_diff = nb.convert_axes(plt)"
   ]
  },
  {
   "cell_type": "markdown",
   "metadata": {
    "deletable": false,
    "editable": false,
    "nbgrader": {
     "cell_type": "markdown",
     "checksum": "cce2ddcd215c5339decd513ed060312e",
     "grade": false,
     "grade_id": "challenge-3-manual-tests",
     "locked": true,
     "points": 1,
     "schema_version": 3,
     "solution": false,
     "task": true
    }
   },
   "source": [
    "### Manual Grade Items - Challenge 3\n",
    "\n",
    "* Plot title explains the plot."
   ]
  },
  {
   "cell_type": "code",
   "execution_count": null,
   "metadata": {
    "deletable": false,
    "editable": false,
    "nbgrader": {
     "cell_type": "code",
     "checksum": "a832b6d32e807181ca8c13c8c1027f2b",
     "grade": true,
     "grade_id": "challenge-3-hidden-tests-2",
     "locked": true,
     "points": 14,
     "schema_version": 3,
     "solution": false,
     "task": false
    }
   },
   "outputs": [],
   "source": [
    "# DO NOT MODIFY THIS CELL"
   ]
  },
  {
   "cell_type": "markdown",
   "metadata": {
    "deletable": false,
    "editable": false,
    "nbgrader": {
     "cell_type": "markdown",
     "checksum": "982c0670fdbc1148684ab0359693c80b",
     "grade": false,
     "grade_id": "bar-3",
     "locked": true,
     "schema_version": 3,
     "solution": false,
     "task": false
    }
   },
   "source": [
    "<img style=\"float: left;\" src=\"colored-bar.png\"/>"
   ]
  },
  {
   "cell_type": "markdown",
   "metadata": {
    "deletable": false,
    "editable": false,
    "nbgrader": {
     "cell_type": "markdown",
     "checksum": "dec92e5efc945272cb274f1fc6161944",
     "grade": false,
     "grade_id": "challenge-4-instructions",
     "locked": true,
     "schema_version": 3,
     "solution": false,
     "task": false
    }
   },
   "source": [
    "## Challenge 4: Create a Histogram Plot Using Your Difference CHM\n",
    "\n",
    "* In your histogram, set the bins parameter (`bins=`) to **30 bins**.\n",
    "* Be sure to label your x and y axes and give your plot a useful title\n",
    "* Modify the color of the bars"
   ]
  },
  {
   "cell_type": "code",
   "execution_count": null,
   "metadata": {
    "deletable": false,
    "nbgrader": {
     "cell_type": "code",
     "checksum": "483868f9a975b72a599d193cc85e1d0d",
     "grade": false,
     "grade_id": "challenge-4-answer",
     "locked": false,
     "schema_version": 3,
     "solution": true,
     "task": false
    }
   },
   "outputs": [],
   "source": [
    "# IMPORTANT: Do not use plt.show in this cell\n",
    "\n",
    "# YOUR CODE HERE\n",
    "raise NotImplementedError()\n",
    "\n",
    "### DO NOT REMOVE LINE BELOW ###\n",
    "plot02_chm_diff_hist = nb.convert_axes(plt, which_axes=\"current\")"
   ]
  },
  {
   "cell_type": "code",
   "execution_count": null,
   "metadata": {
    "deletable": false,
    "editable": false,
    "nbgrader": {
     "cell_type": "code",
     "checksum": "02bd377cb63dd2b26e5bc4f676a0e033",
     "grade": true,
     "grade_id": "challenge-4-visible-tests",
     "locked": true,
     "points": 4,
     "schema_version": 3,
     "solution": false,
     "task": false
    }
   },
   "outputs": [],
   "source": [
    "# DO NOT MODIFY THIS CELL\n",
    "# Visible tests for hisogram to check it's a bar plot and has the correct amount of bins\n",
    "\n",
    "hist_plot_2 = mpc.PlotTester(plot02_chm_diff_hist)\n",
    "\n",
    "visible_results = []\n",
    "\n",
    "plot_type_test = ag.run_test(hist_plot_2.assert_plot_type,\n",
    "                             points=2,\n",
    "                             plot_type='bar',\n",
    "                             correct_message=\"\\u2705 Your plot is a bar plot.\",\n",
    "                             error_message=\"\\u274C Check your plot type to make sure it's a bar plot.\")\n",
    "\n",
    "plot_bins_test = ag.run_test(hist_plot_2.assert_num_bins,\n",
    "                             points=2,\n",
    "                             num_bins=30,\n",
    "                             correct_message=\"\\u2705 Your plot has the correct amount of bins.\",\n",
    "                             error_message=\"\\u274C Check that your plot has the correct amount of bins.\")\n",
    "\n",
    "visible_results.extend([plot_type_test, plot_bins_test])\n",
    "\n",
    "ag.output_results(visible_results)"
   ]
  },
  {
   "cell_type": "code",
   "execution_count": null,
   "metadata": {
    "deletable": false,
    "editable": false,
    "nbgrader": {
     "cell_type": "code",
     "checksum": "7dc608f2ca1907aa619f733a918375a2",
     "grade": true,
     "grade_id": "challenge-4-hidden-tests",
     "locked": true,
     "points": 6,
     "schema_version": 3,
     "solution": false,
     "task": false
    }
   },
   "outputs": [],
   "source": [
    "# DO NOT MODIFY THIS CELL"
   ]
  },
  {
   "cell_type": "markdown",
   "metadata": {
    "deletable": false,
    "editable": false,
    "nbgrader": {
     "cell_type": "markdown",
     "checksum": "ba389cca5b002b3489af0fac93401531",
     "grade": false,
     "grade_id": "question-1",
     "locked": true,
     "schema_version": 3,
     "solution": false,
     "task": false
    }
   },
   "source": [
    "### Thought Question: CHM Difference Plot \n",
    "Answer the following questions using markdown in the cell below:\n",
    "\n",
    "1. What does each bar in the CHM difference plot histogram plot above represent?\n",
    "2. What does this histogram tell you about differences in the CHM and in the landscape before vs after the flood?\n",
    " "
   ]
  },
  {
   "cell_type": "markdown",
   "metadata": {
    "deletable": false,
    "nbgrader": {
     "cell_type": "markdown",
     "checksum": "d157cb8f574fa6db56283276c5337d0a",
     "grade": true,
     "grade_id": "question-answer-1",
     "locked": false,
     "points": 6,
     "schema_version": 3,
     "solution": true,
     "task": false
    }
   },
   "source": [
    "YOUR ANSWER HERE"
   ]
  },
  {
   "cell_type": "markdown",
   "metadata": {
    "deletable": false,
    "editable": false,
    "nbgrader": {
     "cell_type": "markdown",
     "checksum": "2c475d632c7224c2f12fec472bd5dfdd",
     "grade": false,
     "grade_id": "bar-4",
     "locked": true,
     "schema_version": 3,
     "solution": false,
     "task": false
    }
   },
   "source": [
    "<img style=\"float: left;\" src=\"colored-bar.png\"/>"
   ]
  },
  {
   "cell_type": "markdown",
   "metadata": {
    "deletable": false,
    "editable": false,
    "nbgrader": {
     "cell_type": "markdown",
     "checksum": "fa48b4c473378c015edcfb98944ce417",
     "grade": false,
     "grade_id": "challenge-5-instructions",
     "locked": true,
     "schema_version": 3,
     "solution": false,
     "task": false
    }
   },
   "source": [
    "## Challenge 5: Classified pre/post CHM difference Raster Plot \n",
    "\n",
    "In the cell below:\n",
    "\n",
    "1. Classify your difference CHM using the bins specified below\n",
    "2. Then create a raster plot of your data using xarray.\n",
    "3. Add a legend to your plot with a legend entry for each of the three classes specified below.\n",
    "4. Use a colormap that sets values around 0 (no change) to white or a light color. \n",
    "\n",
    "\n",
    "HINT: Consider using one of pythons diverging colormaps which has white or a lighter color as the \"middle\" color for this map.\n",
    "* https://matplotlib.org/3.1.0/tutorials/colors/colormaps.html \n",
    "\n",
    "Use the following bins to classify your data:\n",
    "\n",
    "* `< -1`\n",
    "* `between -1 and 1` \n",
    "* `> 1`\n",
    "\n",
    "your bins list will look like this: `[-np.inf, -1, 1, np.inf]`\n",
    "\n",
    "Add a legend to your plot with the following categories:\n",
    "\n",
    "* Loss\n",
    "* No Change\n",
    "* Gain\n",
    "\n",
    "These categories should map to the bins that you used to classified the data.\n",
    "\n"
   ]
  },
  {
   "cell_type": "code",
   "execution_count": null,
   "metadata": {
    "deletable": false,
    "nbgrader": {
     "cell_type": "code",
     "checksum": "07237af3ab013058b1dcd38efa108cdb",
     "grade": false,
     "grade_id": "challenge-5-answer",
     "locked": false,
     "schema_version": 3,
     "solution": true,
     "task": false
    }
   },
   "outputs": [],
   "source": [
    "# IMPORTANT: Name your classified raster object diff_chm_class\n",
    "# IMPORTANT: Do not use plt.show in this cell.\n",
    "\n",
    "# YOUR CODE HERE\n",
    "raise NotImplementedError()\n",
    "\n",
    "### DO NOT REMOVE LINE BELOW ###\n",
    "plot03_chm_diff_map = nb.convert_axes(plt, which_axes=\"current\")"
   ]
  },
  {
   "cell_type": "code",
   "execution_count": null,
   "metadata": {
    "deletable": false,
    "editable": false,
    "nbgrader": {
     "cell_type": "code",
     "checksum": "261d0b1ae8958c5bb8374feb30e520fa",
     "grade": true,
     "grade_id": "challenge-5-hidden-tests",
     "locked": true,
     "points": 15,
     "schema_version": 3,
     "solution": false,
     "task": false
    }
   },
   "outputs": [],
   "source": [
    "# DO NOT MODIFY THIS CELL"
   ]
  },
  {
   "cell_type": "markdown",
   "metadata": {
    "deletable": false,
    "nbgrader": {
     "cell_type": "markdown",
     "checksum": "b9e1c62cbe9a97eea9cb413ca2dd5aac",
     "grade": true,
     "grade_id": "challenge-5-plot-manual-grade",
     "locked": false,
     "points": 1,
     "schema_version": 3,
     "solution": true,
     "task": false
    }
   },
   "source": [
    "YOUR ANSWER HERE"
   ]
  },
  {
   "cell_type": "markdown",
   "metadata": {
    "deletable": false,
    "editable": false,
    "nbgrader": {
     "cell_type": "markdown",
     "checksum": "d533103b041b2989d60f8c21dc5a5ed3",
     "grade": false,
     "grade_id": "question-2",
     "locked": true,
     "schema_version": 3,
     "solution": false,
     "task": false
    }
   },
   "source": [
    "### Thought Question for Challenge Plot 5: CHM Difference Raster Plot (5 points)\n",
    "* What patterns of erosion and deposition do you see in the raster plot above of chm difference?\n",
    "Add your answer below using markdown \n",
    "*********\n"
   ]
  },
  {
   "cell_type": "markdown",
   "metadata": {
    "deletable": false,
    "nbgrader": {
     "cell_type": "markdown",
     "checksum": "02d5524d744f2da5104814d5a6bd3bfa",
     "grade": true,
     "grade_id": "question-2-answer",
     "locked": false,
     "points": 5,
     "schema_version": 3,
     "solution": true,
     "task": false
    }
   },
   "source": [
    "YOUR ANSWER HERE"
   ]
  },
  {
   "cell_type": "markdown",
   "metadata": {
    "deletable": false,
    "editable": false,
    "nbgrader": {
     "cell_type": "markdown",
     "checksum": "5c85933d8a24e8145a4986f0253db1c6",
     "grade": false,
     "grade_id": "bar-5",
     "locked": true,
     "schema_version": 3,
     "solution": false,
     "task": false
    }
   },
   "source": [
    "<img style=\"float: left;\" src=\"colored-bar.png\"/>"
   ]
  },
  {
   "cell_type": "markdown",
   "metadata": {
    "deletable": false,
    "editable": false,
    "nbgrader": {
     "cell_type": "markdown",
     "checksum": "e047c932660eba562476b5bafc340d0e",
     "grade": false,
     "grade_id": "challenge-6-instructions",
     "locked": true,
     "schema_version": 3,
     "solution": false,
     "task": false
    }
   },
   "source": [
    "## Challenge 6: Plot of pre/post DTM & DSM Difference Raster Histogram \n",
    "\n",
    "Use the data that you opened and proceed above (the cropped DTM and DSM data before and after the flood)\n",
    "to create a Figure with two subplots **stacked vertically**:\n",
    "\n",
    "1. subplot 1: a histogram showing the difference (post - pre) in the digital terrain model\n",
    "2. subplot 2: a histogram showing the difference (post - pre) in the digital surface model\n",
    "\n",
    "For each subplot:\n",
    "\n",
    "* Subtract the pre-flood DTM (or DSM) from the post-flood DTM (or DSM) (e.g. post_flood_DTM - pre_flood_DTM).\n",
    "* Set your histogram bins to `bins=[-15, -5, -2, 0 , 2, 5, 15]`\n",
    "* Use `sharey=True` in your figure parameters to ensure each has the same y axis"
   ]
  },
  {
   "cell_type": "code",
   "execution_count": null,
   "metadata": {
    "deletable": false,
    "nbgrader": {
     "cell_type": "code",
     "checksum": "eb5e5680ca1f5475065317194af063d5",
     "grade": false,
     "grade_id": "challenge-6-answers",
     "locked": false,
     "schema_version": 3,
     "solution": true,
     "task": false
    }
   },
   "outputs": [],
   "source": [
    "# IMPORTANT: Do not use plt.show in this cell. Add your code for plot 4 here\n",
    "\n",
    "# YOUR CODE HERE\n",
    "raise NotImplementedError()\n",
    "\n",
    "### DO NOT REMOVE LINE BELOW ###\n",
    "plot04_histogram_diff = nb.convert_axes(plt, which_axes=\"all\")"
   ]
  },
  {
   "cell_type": "code",
   "execution_count": null,
   "metadata": {
    "deletable": false,
    "editable": false,
    "nbgrader": {
     "cell_type": "code",
     "checksum": "dd92166b57dc3973772be6f9f666df35",
     "grade": true,
     "grade_id": "challenge-6-visible-tests",
     "locked": true,
     "points": 2,
     "schema_version": 3,
     "solution": false,
     "task": false
    }
   },
   "outputs": [],
   "source": [
    "# DO NOT MODIFY THIS CELL\n",
    "# Visible test that there are two plots stacked vertically and of type bar / hist\n",
    "axes_1_position = plot04_histogram_diff[0].get_position().corners()[:, 0]\n",
    "axes_2_position = plot04_histogram_diff[1].get_position().corners()[:, 0]\n",
    "\n",
    "\n",
    "hist_plot_4_dsm = mpc.PlotTester(plot04_histogram_diff[0])\n",
    "hist_plot_4_dtm = mpc.PlotTester(plot04_histogram_diff[1])\n",
    "\n",
    "visible_results = []\n",
    "\n",
    "plot_type_test_1 = ag.run_test(hist_plot_4_dsm.assert_plot_type,\n",
    "                               points=1,\n",
    "                               plot_type='bar',\n",
    "                               correct_message=\"\\u2705 Your top plot is a bar plot!\",\n",
    "                               error_message=\"\\u274C Oops, I was expecting a bar plot.\")\n",
    "\n",
    "plot_type_test_2 = ag.run_test(hist_plot_4_dtm.assert_plot_type,\n",
    "                               points=1,\n",
    "                               plot_type='bar',\n",
    "                               correct_message=\"\\u2705 Your bottom plot is a bar plot!\",\n",
    "                               error_message=\"\\u274C Oops, I was expecting a bar plot.\")\n",
    "\n",
    "visible_results.extend([plot_type_test_1, plot_type_test_2])\n",
    "\n",
    "if np.array_equal(axes_1_position, axes_2_position):\n",
    "    print(\"\\u2705 Arrays are stacked vertically!\")\n",
    "else:\n",
    "    print(\"\\u274C Arrays are not stacked vertically.\")\n",
    "\n",
    "ag.output_results(visible_results)"
   ]
  },
  {
   "cell_type": "code",
   "execution_count": null,
   "metadata": {
    "deletable": false,
    "editable": false,
    "nbgrader": {
     "cell_type": "code",
     "checksum": "ec23a7416d98eb6c6f112b478fb5fafa",
     "grade": true,
     "grade_id": "challenge-6-hidden-tests",
     "locked": true,
     "points": 14,
     "schema_version": 3,
     "solution": false,
     "task": false
    }
   },
   "outputs": [],
   "source": [
    "# DO NOT MODIFY THIS CELL"
   ]
  },
  {
   "cell_type": "markdown",
   "metadata": {
    "deletable": false,
    "nbgrader": {
     "cell_type": "markdown",
     "checksum": "ac4f75aff6597acdebc5427f1733cd83",
     "grade": true,
     "grade_id": "manual-tests-challenge-6",
     "locked": false,
     "points": 5,
     "schema_version": 3,
     "solution": true,
     "task": false
    }
   },
   "source": [
    "YOUR ANSWER HERE"
   ]
  },
  {
   "cell_type": "markdown",
   "metadata": {
    "deletable": false,
    "editable": false,
    "nbgrader": {
     "cell_type": "markdown",
     "checksum": "b8dd819acfa997e03f5d0e4a1d63726e",
     "grade": false,
     "grade_id": "question-3",
     "locked": true,
     "schema_version": 3,
     "solution": false,
     "task": false
    }
   },
   "source": [
    "###  Thought Challenge For Challenge 6 Plot\n",
    "\n",
    "* Look at the histograms for the difference DSM compared to the DTM. What differences do you notice in the DSM difference values vs the DTM difference values?  \n",
    "* What may be causing those differences between the two datasets\n",
    "\n",
    "Add your answer below using markdown "
   ]
  },
  {
   "cell_type": "markdown",
   "metadata": {
    "deletable": false,
    "nbgrader": {
     "cell_type": "markdown",
     "checksum": "9308c93f00752b6bde8c4310343e0f47",
     "grade": true,
     "grade_id": "question-3-answer",
     "locked": false,
     "points": 5,
     "schema_version": 3,
     "solution": true,
     "task": false
    }
   },
   "source": [
    "YOUR ANSWER HERE"
   ]
  },
  {
   "cell_type": "markdown",
   "metadata": {
    "deletable": false,
    "editable": false,
    "nbgrader": {
     "cell_type": "markdown",
     "checksum": "660382b73be5a649929537c4ac5c9c1e",
     "grade": false,
     "grade_id": "pep-8-grade",
     "locked": true,
     "points": 7,
     "schema_version": 3,
     "solution": false,
     "task": true
    }
   },
   "source": [
    "## Pep 8, Spelling and Does the Notebook Run?\n",
    "In this cell, we will give you points for the following\n",
    "\n",
    "1. PEP 8 is followed throughout the notebook (4 points)\n",
    "2. Spelling and grammar are considered in your written responses above (4 points)\n",
    "3. The notebook runs from top to bottom without any editing (it is reproducible) - 4 points"
   ]
  }
 ],
 "metadata": {
  "kernelspec": {
   "display_name": "Python 3",
   "language": "python",
   "name": "python3"
  },
  "language_info": {
   "codemirror_mode": {
    "name": "ipython",
    "version": 3
   },
   "file_extension": ".py",
   "mimetype": "text/x-python",
   "name": "python",
   "nbconvert_exporter": "python",
   "pygments_lexer": "ipython3",
   "version": "3.8.5"
  },
  "toc": {
   "base_numbering": 1,
   "nav_menu": {},
   "number_sections": true,
   "sideBar": true,
   "skip_h1_title": false,
   "title_cell": "Table of Contents",
   "title_sidebar": "Contents",
   "toc_cell": false,
   "toc_position": {},
   "toc_section_display": true,
   "toc_window_display": true
  },
  "varInspector": {
   "cols": {
    "lenName": 16,
    "lenType": 16,
    "lenVar": 40
   },
   "kernels_config": {
    "python": {
     "delete_cmd_postfix": "",
     "delete_cmd_prefix": "del ",
     "library": "var_list.py",
     "varRefreshCmd": "print(var_dic_list())"
    },
    "r": {
     "delete_cmd_postfix": ") ",
     "delete_cmd_prefix": "rm(",
     "library": "var_list.r",
     "varRefreshCmd": "cat(var_dic_list()) "
    }
   },
   "types_to_exclude": [
    "module",
    "function",
    "builtin_function_or_method",
    "instance",
    "_Feature"
   ],
   "window_display": false
  }
 },
 "nbformat": 4,
 "nbformat_minor": 2
}
